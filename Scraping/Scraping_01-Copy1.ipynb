{
 "cells": [
  {
   "cell_type": "code",
   "execution_count": 1,
   "id": "37597236",
   "metadata": {},
   "outputs": [],
   "source": [
    "import requests\n",
    "import re\n",
    "from bs4 import BeautifulSoup\n",
    "import pandas as pd\n",
    "import warnings\n",
    "import time\n",
    "import os"
   ]
  },
  {
   "cell_type": "code",
   "execution_count": 2,
   "id": "0dd5e719",
   "metadata": {},
   "outputs": [],
   "source": [
    "warnings.filterwarnings('ignore')"
   ]
  },
  {
   "cell_type": "code",
   "execution_count": 3,
   "id": "fc2135e5",
   "metadata": {},
   "outputs": [],
   "source": [
    "# base_url = 'https://en.zalando.de'\n",
    "def get_url(url=''):\n",
    "    if base_url not in url:\n",
    "        url = f\"{base_url}{url}\"\n",
    "    return BeautifulSoup(requests.get(\n",
    "        url,\n",
    "        verify=False,\n",
    "        timeout=5,\n",
    "        headers = {\n",
    "            'Accept': 'text/html,application/xhtml+xml,application/xml;q=0.9,image/avif,image/webp,image/apng,*/*;q=0.8,application/signed-exchange;v=b3;q=0.9',\n",
    "            'Accept-Language': 'en-US,en;q=0.9',\n",
    "            'User-Agent':'Mozilla/5.0 (Windows NT 10.0; Win64; x64) AppleWebKit/537.36 (KHTML, like Gecko) Chrome/98.0.4758.102 Safari/537.36',\n",
    "        }\n",
    "    ).content, 'html.parser')"
   ]
  },
  {
   "cell_type": "code",
   "execution_count": null,
   "id": "c09db16c",
   "metadata": {},
   "outputs": [],
   "source": [
    "home = get_url('/women-home/')"
   ]
  },
  {
   "cell_type": "code",
   "execution_count": 52,
   "id": "63c3b732",
   "metadata": {},
   "outputs": [],
   "source": [
    "soup = BeautifulSoup(home.content, 'html.parser')"
   ]
  },
  {
   "cell_type": "code",
   "execution_count": 28,
   "id": "04c99fc6",
   "metadata": {},
   "outputs": [],
   "source": [
    "main_links = {}\n",
    "\n",
    "for li in soup.find_all('nav')[2].find_all('li'):\n",
    "    main_links[li.get('aria-label')] = li.a.get('href')"
   ]
  },
  {
   "cell_type": "code",
   "execution_count": 29,
   "id": "a9d82394",
   "metadata": {},
   "outputs": [
    {
     "data": {
      "text/plain": [
       "{'Get the Look': '/get-the-look-women/',\n",
       " 'Clothing': '/clothing/',\n",
       " 'Shoes': '/shoes/',\n",
       " 'Sports': '/sports-range/',\n",
       " 'Accessories': '/accessories/',\n",
       " 'Beauty': '/beauty-women/?product_group=beauty',\n",
       " 'Designer': 'https://en.zalando.de/premium-home-women/',\n",
       " 'Brands': 'https://en.zalando.de/brands/',\n",
       " 'Sale %': '/outlet/',\n",
       " 'Pre-owned': '/pre-owned-w/'}"
      ]
     },
     "execution_count": 29,
     "metadata": {},
     "output_type": "execute_result"
    }
   ],
   "source": [
    "main_links"
   ]
  },
  {
   "cell_type": "code",
   "execution_count": 30,
   "id": "f97b98b5",
   "metadata": {},
   "outputs": [],
   "source": [
    "cats = ['Clothing', 'Shoes', 'Sports', 'Accessories']"
   ]
  },
  {
   "cell_type": "code",
   "execution_count": 31,
   "id": "12b25537",
   "metadata": {},
   "outputs": [],
   "source": [
    "c = cats[0]"
   ]
  },
  {
   "cell_type": "markdown",
   "id": "b5fb2ade",
   "metadata": {},
   "source": [
    "# HnM"
   ]
  },
  {
   "cell_type": "code",
   "execution_count": 35,
   "id": "5dd594c9",
   "metadata": {},
   "outputs": [],
   "source": [
    "base_url = 'https://www2.hm.com'"
   ]
  },
  {
   "cell_type": "markdown",
   "id": "99a1e08e",
   "metadata": {},
   "source": [
    "Getting all top level categories for Damen"
   ]
  },
  {
   "cell_type": "code",
   "execution_count": 284,
   "id": "2efd18f9",
   "metadata": {},
   "outputs": [
    {
     "name": "stderr",
     "output_type": "stream",
     "text": [
      "D:\\miniconda3\\envs\\cs25\\lib\\site-packages\\urllib3\\connectionpool.py:1043: InsecureRequestWarning: Unverified HTTPS request is being made to host 'www2.hm.com'. Adding certificate verification is strongly advised. See: https://urllib3.readthedocs.io/en/1.26.x/advanced-usage.html#ssl-warnings\n",
      "  warnings.warn(\n"
     ]
    }
   ],
   "source": [
    "main = get_url('/de_de/damen.html')"
   ]
  },
  {
   "cell_type": "code",
   "execution_count": 285,
   "id": "90d67a82",
   "metadata": {},
   "outputs": [],
   "source": [
    "# lists to store all categories and sub-categories\n",
    "names = []\n",
    "urls = []\n",
    "parents = []\n",
    "\n",
    "main_cats = 0\n",
    "\n",
    "for li in main.find_all('nav')[2].find_all('ul')[0].find_all('ul')[3].find_all('li'):\n",
    "    li_name = li.a.get_text()[4:].strip()\n",
    "    if 'Alles zeigen' in li_name:\n",
    "        continue\n",
    "    names.append(li_name)\n",
    "    urls.append(li.a.get('href'))\n",
    "    parents.append(None)\n",
    "#     cat_links[li_name] = li.a.get('href')\n",
    "    main_cats += 1"
   ]
  },
  {
   "cell_type": "markdown",
   "id": "fb68af0e",
   "metadata": {},
   "source": [
    "Getting sub-categories"
   ]
  },
  {
   "cell_type": "code",
   "execution_count": 308,
   "id": "ff2950b2",
   "metadata": {
    "scrolled": true
   },
   "outputs": [],
   "source": [
    "# lists to store all filter names and values\n",
    "# filters are extracted at parent category level\n",
    "filter_names = []\n",
    "filter_options = []\n",
    "filter_parents = []\n",
    "\n",
    "get_filter_options = lambda x: (x.find('span', attrs={'class': 'text'}).text, f\"{x.find('input').get('data-name')}={x.find('input').get('value')}\")\n",
    "\n",
    "for i in range(main_cats):\n",
    "    cat_html = get_url(urls[i])\n",
    "    \n",
    "    for li in cat_html.find_all('nav')[2].find_all('ul')[4].find_all('li'):\n",
    "        if li.a.get('href') == urls[i]:\n",
    "            for sub_li in li.ul.find_all('li'):\n",
    "                li_name = sub_li.a.get_text()[4:].strip()\n",
    "                if 'Alles zeigen' in li_name:\n",
    "                    continue\n",
    "                names.append(li_name)\n",
    "                urls.append(sub_li.a.get('href'))\n",
    "                parents.append(i)\n",
    "                \n",
    "    # getting all filters\n",
    "    filters_ = cat_html.find_all('div', attrs={'class':'filter-levels'})[0].ul.contents\n",
    "\n",
    "    for f in filters_:\n",
    "        if f != '\\n':\n",
    "            options = list(map(get_filter_options, f.ul.find_all('li')))\n",
    "            filter_options.extend(options)\n",
    "            filter_names.extend([f.find(attrs={'class':'filter-name'}).text.strip()]*len(options))\n",
    "            filter_parents.extend([i]*len(options))\n"
   ]
  },
  {
   "cell_type": "markdown",
   "id": "14754afc",
   "metadata": {},
   "source": [
    "Creating dataframe of categories and sub-categories"
   ]
  },
  {
   "cell_type": "code",
   "execution_count": 309,
   "id": "f5b90ada",
   "metadata": {},
   "outputs": [],
   "source": [
    "cats = pd.DataFrame({\n",
    "    'Category': names,\n",
    "    'URL': urls,\n",
    "    'Parent_Category': parents\n",
    "})"
   ]
  },
  {
   "cell_type": "code",
   "execution_count": 310,
   "id": "757f2d5c",
   "metadata": {},
   "outputs": [
    {
     "data": {
      "text/html": [
       "<div>\n",
       "<style scoped>\n",
       "    .dataframe tbody tr th:only-of-type {\n",
       "        vertical-align: middle;\n",
       "    }\n",
       "\n",
       "    .dataframe tbody tr th {\n",
       "        vertical-align: top;\n",
       "    }\n",
       "\n",
       "    .dataframe thead th {\n",
       "        text-align: right;\n",
       "    }\n",
       "</style>\n",
       "<table border=\"1\" class=\"dataframe\">\n",
       "  <thead>\n",
       "    <tr style=\"text-align: right;\">\n",
       "      <th></th>\n",
       "      <th>Category</th>\n",
       "      <th>URL</th>\n",
       "      <th>Parent_Category</th>\n",
       "    </tr>\n",
       "  </thead>\n",
       "  <tbody>\n",
       "    <tr>\n",
       "      <th>0</th>\n",
       "      <td>Shirts &amp; Tops</td>\n",
       "      <td>/de_de/damen/produkte/tops.html</td>\n",
       "      <td>NaN</td>\n",
       "    </tr>\n",
       "    <tr>\n",
       "      <th>1</th>\n",
       "      <td>Basics</td>\n",
       "      <td>/de_de/damen/produkte/basics.html</td>\n",
       "      <td>NaN</td>\n",
       "    </tr>\n",
       "    <tr>\n",
       "      <th>2</th>\n",
       "      <td>Hemden &amp; Blusen</td>\n",
       "      <td>/de_de/damen/produkte/hemden-blusen.html</td>\n",
       "      <td>NaN</td>\n",
       "    </tr>\n",
       "    <tr>\n",
       "      <th>3</th>\n",
       "      <td>Cardigans &amp; Pullover</td>\n",
       "      <td>/de_de/damen/produkte/cardigans-pullover.html</td>\n",
       "      <td>NaN</td>\n",
       "    </tr>\n",
       "    <tr>\n",
       "      <th>4</th>\n",
       "      <td>Strickwaren</td>\n",
       "      <td>/de_de/damen/produkte/strickwaren.html</td>\n",
       "      <td>NaN</td>\n",
       "    </tr>\n",
       "  </tbody>\n",
       "</table>\n",
       "</div>"
      ],
      "text/plain": [
       "               Category                                            URL  \\\n",
       "0         Shirts & Tops                /de_de/damen/produkte/tops.html   \n",
       "1                Basics              /de_de/damen/produkte/basics.html   \n",
       "2       Hemden & Blusen       /de_de/damen/produkte/hemden-blusen.html   \n",
       "3  Cardigans & Pullover  /de_de/damen/produkte/cardigans-pullover.html   \n",
       "4           Strickwaren         /de_de/damen/produkte/strickwaren.html   \n",
       "\n",
       "   Parent_Category  \n",
       "0              NaN  \n",
       "1              NaN  \n",
       "2              NaN  \n",
       "3              NaN  \n",
       "4              NaN  "
      ]
     },
     "execution_count": 310,
     "metadata": {},
     "output_type": "execute_result"
    }
   ],
   "source": [
    "cats.head()"
   ]
  },
  {
   "cell_type": "code",
   "execution_count": 311,
   "id": "de2e2458",
   "metadata": {},
   "outputs": [
    {
     "data": {
      "text/plain": [
       "(281, 3)"
      ]
     },
     "execution_count": 311,
     "metadata": {},
     "output_type": "execute_result"
    }
   ],
   "source": [
    "cats.shape"
   ]
  },
  {
   "cell_type": "code",
   "execution_count": 322,
   "id": "5b0f82a8",
   "metadata": {},
   "outputs": [
    {
     "data": {
      "text/plain": [
       "array(['Shirts & Tops', 'Basics', 'Hemden & Blusen',\n",
       "       'Cardigans & Pullover', 'Strickwaren', 'Blazer', 'Jacken & Mäntel',\n",
       "       'Hosen', 'Jeans', 'Shorts', 'Röcke', 'Kleider',\n",
       "       'Jumpsuits & Playsuits', 'Schuhe', 'Accessoires', 'Bademode',\n",
       "       'Unterwäsche', 'Loungewear', 'Nachtwäsche',\n",
       "       'Socken & Strumpfhosen', 'Sportbekleidung', 'Umstandsmode',\n",
       "       'Große Größen', 'Beauty', 'Hundebekleidung und -Accessoires',\n",
       "       'Hoodies & Sweatshirts', 'Pflegeprodukte', 'Petite-Kleidung',\n",
       "       'Premium Selection'], dtype=object)"
      ]
     },
     "execution_count": 322,
     "metadata": {},
     "output_type": "execute_result"
    }
   ],
   "source": [
    "cats[cats['Parent_Category'].isna()]['Category'].unique()"
   ]
  },
  {
   "cell_type": "code",
   "execution_count": 323,
   "id": "0cce1113",
   "metadata": {},
   "outputs": [],
   "source": [
    "cats_to_keep = [\n",
    "    'Shirts & Tops', 'Basics', 'Hemden & Blusen', 'Cardigans & Pullover', 'Strickwaren', 'Blazer', \n",
    "    'Jacken & Mäntel', 'Hosen', 'Jeans', 'Shorts', 'Röcke', 'Kleider', 'Jumpsuits & Playsuits', 'Schuhe', \n",
    "    'Accessoires', 'Bademode', 'Unterwäsche', 'Loungewear', 'Nachtwäsche', 'Socken & Strumpfhosen', \n",
    "    'Sportbekleidung', 'Beauty', 'Hoodies & Sweatshirts'\n",
    "]"
   ]
  },
  {
   "cell_type": "code",
   "execution_count": 328,
   "id": "8566c5ac",
   "metadata": {},
   "outputs": [],
   "source": [
    "cats_t = cats[(cats['Parent_Category'].isna()) & (cats['Category'].isin(cats_to_keep))]"
   ]
  },
  {
   "cell_type": "code",
   "execution_count": 331,
   "id": "33febdff",
   "metadata": {},
   "outputs": [],
   "source": [
    "cats_t = cats_t.append(cats[cats['Parent_Category'].isin(cats_t.index)])"
   ]
  },
  {
   "cell_type": "code",
   "execution_count": 356,
   "id": "4641ef03",
   "metadata": {},
   "outputs": [
    {
     "data": {
      "text/html": [
       "<div>\n",
       "<style scoped>\n",
       "    .dataframe tbody tr th:only-of-type {\n",
       "        vertical-align: middle;\n",
       "    }\n",
       "\n",
       "    .dataframe tbody tr th {\n",
       "        vertical-align: top;\n",
       "    }\n",
       "\n",
       "    .dataframe thead th {\n",
       "        text-align: right;\n",
       "    }\n",
       "</style>\n",
       "<table border=\"1\" class=\"dataframe\">\n",
       "  <thead>\n",
       "    <tr style=\"text-align: right;\">\n",
       "      <th></th>\n",
       "      <th>Category</th>\n",
       "      <th>URL</th>\n",
       "      <th>Parent_Category</th>\n",
       "    </tr>\n",
       "  </thead>\n",
       "  <tbody>\n",
       "    <tr>\n",
       "      <th>0</th>\n",
       "      <td>Shirts &amp; Tops</td>\n",
       "      <td>/de_de/damen/produkte/tops.html</td>\n",
       "      <td>NaN</td>\n",
       "    </tr>\n",
       "    <tr>\n",
       "      <th>1</th>\n",
       "      <td>Basics</td>\n",
       "      <td>/de_de/damen/produkte/basics.html</td>\n",
       "      <td>NaN</td>\n",
       "    </tr>\n",
       "    <tr>\n",
       "      <th>2</th>\n",
       "      <td>Hemden &amp; Blusen</td>\n",
       "      <td>/de_de/damen/produkte/hemden-blusen.html</td>\n",
       "      <td>NaN</td>\n",
       "    </tr>\n",
       "    <tr>\n",
       "      <th>3</th>\n",
       "      <td>Cardigans &amp; Pullover</td>\n",
       "      <td>/de_de/damen/produkte/cardigans-pullover.html</td>\n",
       "      <td>NaN</td>\n",
       "    </tr>\n",
       "    <tr>\n",
       "      <th>4</th>\n",
       "      <td>Strickwaren</td>\n",
       "      <td>/de_de/damen/produkte/strickwaren.html</td>\n",
       "      <td>NaN</td>\n",
       "    </tr>\n",
       "    <tr>\n",
       "      <th>5</th>\n",
       "      <td>Blazer</td>\n",
       "      <td>/de_de/damen/produkte/blazer-westen.html</td>\n",
       "      <td>NaN</td>\n",
       "    </tr>\n",
       "    <tr>\n",
       "      <th>6</th>\n",
       "      <td>Jacken &amp; Mäntel</td>\n",
       "      <td>/de_de/damen/produkte/jacken-maentel.html</td>\n",
       "      <td>NaN</td>\n",
       "    </tr>\n",
       "    <tr>\n",
       "      <th>7</th>\n",
       "      <td>Hosen</td>\n",
       "      <td>/de_de/damen/produkte/hosen-leggings.html</td>\n",
       "      <td>NaN</td>\n",
       "    </tr>\n",
       "    <tr>\n",
       "      <th>8</th>\n",
       "      <td>Jeans</td>\n",
       "      <td>/de_de/damen/produkte/jeans.html</td>\n",
       "      <td>NaN</td>\n",
       "    </tr>\n",
       "    <tr>\n",
       "      <th>9</th>\n",
       "      <td>Shorts</td>\n",
       "      <td>/de_de/damen/produkte/shorts.html</td>\n",
       "      <td>NaN</td>\n",
       "    </tr>\n",
       "    <tr>\n",
       "      <th>10</th>\n",
       "      <td>Röcke</td>\n",
       "      <td>/de_de/damen/produkte/roecke.html</td>\n",
       "      <td>NaN</td>\n",
       "    </tr>\n",
       "    <tr>\n",
       "      <th>11</th>\n",
       "      <td>Kleider</td>\n",
       "      <td>/de_de/damen/produkte/kleider.html</td>\n",
       "      <td>NaN</td>\n",
       "    </tr>\n",
       "    <tr>\n",
       "      <th>12</th>\n",
       "      <td>Jumpsuits &amp; Playsuits</td>\n",
       "      <td>/de_de/damen/produkte/jumpsuits-playsuits.html</td>\n",
       "      <td>NaN</td>\n",
       "    </tr>\n",
       "    <tr>\n",
       "      <th>13</th>\n",
       "      <td>Schuhe</td>\n",
       "      <td>/de_de/damen/produkte/schuhe.html</td>\n",
       "      <td>NaN</td>\n",
       "    </tr>\n",
       "    <tr>\n",
       "      <th>14</th>\n",
       "      <td>Accessoires</td>\n",
       "      <td>/de_de/damen/produkte/accessoires.html</td>\n",
       "      <td>NaN</td>\n",
       "    </tr>\n",
       "    <tr>\n",
       "      <th>15</th>\n",
       "      <td>Bademode</td>\n",
       "      <td>/de_de/damen/produkte/bademode.html</td>\n",
       "      <td>NaN</td>\n",
       "    </tr>\n",
       "    <tr>\n",
       "      <th>16</th>\n",
       "      <td>Unterwäsche</td>\n",
       "      <td>/de_de/damen/produkte/unterwaesche.html</td>\n",
       "      <td>NaN</td>\n",
       "    </tr>\n",
       "    <tr>\n",
       "      <th>17</th>\n",
       "      <td>Loungewear</td>\n",
       "      <td>/de_de/damen/produkte/loungewear.html</td>\n",
       "      <td>NaN</td>\n",
       "    </tr>\n",
       "    <tr>\n",
       "      <th>18</th>\n",
       "      <td>Nachtwäsche</td>\n",
       "      <td>/de_de/damen/produkte/nachtwaesche.html</td>\n",
       "      <td>NaN</td>\n",
       "    </tr>\n",
       "    <tr>\n",
       "      <th>19</th>\n",
       "      <td>Socken &amp; Strumpfhosen</td>\n",
       "      <td>/de_de/damen/produkte/socken-strumpfhosen.html</td>\n",
       "      <td>NaN</td>\n",
       "    </tr>\n",
       "    <tr>\n",
       "      <th>20</th>\n",
       "      <td>Sportbekleidung</td>\n",
       "      <td>/de_de/damen/produkte/sport.html</td>\n",
       "      <td>NaN</td>\n",
       "    </tr>\n",
       "    <tr>\n",
       "      <th>23</th>\n",
       "      <td>Beauty</td>\n",
       "      <td>/de_de/damen/produkte/beauty.html</td>\n",
       "      <td>NaN</td>\n",
       "    </tr>\n",
       "    <tr>\n",
       "      <th>25</th>\n",
       "      <td>Hoodies &amp; Sweatshirts</td>\n",
       "      <td>/de_de/damen/produkte/hoodies-sweatshirts.html</td>\n",
       "      <td>NaN</td>\n",
       "    </tr>\n",
       "    <tr>\n",
       "      <th>29</th>\n",
       "      <td>Cut-Out-Tops</td>\n",
       "      <td>/de_de/damen/produkte/tops/cut-out.html</td>\n",
       "      <td>0.0</td>\n",
       "    </tr>\n",
       "    <tr>\n",
       "      <th>30</th>\n",
       "      <td>Bralette-Tops</td>\n",
       "      <td>/de_de/damen/produkte/tops/bralette.html</td>\n",
       "      <td>0.0</td>\n",
       "    </tr>\n",
       "    <tr>\n",
       "      <th>31</th>\n",
       "      <td>Bandeau-Tops</td>\n",
       "      <td>/de_de/damen/produkte/tops/bandeau.html</td>\n",
       "      <td>0.0</td>\n",
       "    </tr>\n",
       "    <tr>\n",
       "      <th>32</th>\n",
       "      <td>Oberteile mit Puffärmeln</td>\n",
       "      <td>/de_de/damen/produkte/tops/puffaermel.html</td>\n",
       "      <td>0.0</td>\n",
       "    </tr>\n",
       "    <tr>\n",
       "      <th>33</th>\n",
       "      <td>Trägertops &amp; Tanktops</td>\n",
       "      <td>/de_de/damen/produkte/tops/westen.html</td>\n",
       "      <td>0.0</td>\n",
       "    </tr>\n",
       "    <tr>\n",
       "      <th>34</th>\n",
       "      <td>Kurzarm-Shirts</td>\n",
       "      <td>/de_de/damen/produkte/tops/kurzarm.html</td>\n",
       "      <td>0.0</td>\n",
       "    </tr>\n",
       "    <tr>\n",
       "      <th>35</th>\n",
       "      <td>Langarm-Shirts</td>\n",
       "      <td>/de_de/damen/produkte/tops/langarm.html</td>\n",
       "      <td>0.0</td>\n",
       "    </tr>\n",
       "  </tbody>\n",
       "</table>\n",
       "</div>"
      ],
      "text/plain": [
       "                    Category                                             URL  \\\n",
       "0              Shirts & Tops                 /de_de/damen/produkte/tops.html   \n",
       "1                     Basics               /de_de/damen/produkte/basics.html   \n",
       "2            Hemden & Blusen        /de_de/damen/produkte/hemden-blusen.html   \n",
       "3       Cardigans & Pullover   /de_de/damen/produkte/cardigans-pullover.html   \n",
       "4                Strickwaren          /de_de/damen/produkte/strickwaren.html   \n",
       "5                     Blazer        /de_de/damen/produkte/blazer-westen.html   \n",
       "6            Jacken & Mäntel       /de_de/damen/produkte/jacken-maentel.html   \n",
       "7                      Hosen       /de_de/damen/produkte/hosen-leggings.html   \n",
       "8                      Jeans                /de_de/damen/produkte/jeans.html   \n",
       "9                     Shorts               /de_de/damen/produkte/shorts.html   \n",
       "10                     Röcke               /de_de/damen/produkte/roecke.html   \n",
       "11                   Kleider              /de_de/damen/produkte/kleider.html   \n",
       "12     Jumpsuits & Playsuits  /de_de/damen/produkte/jumpsuits-playsuits.html   \n",
       "13                    Schuhe               /de_de/damen/produkte/schuhe.html   \n",
       "14               Accessoires          /de_de/damen/produkte/accessoires.html   \n",
       "15                  Bademode             /de_de/damen/produkte/bademode.html   \n",
       "16               Unterwäsche         /de_de/damen/produkte/unterwaesche.html   \n",
       "17                Loungewear           /de_de/damen/produkte/loungewear.html   \n",
       "18               Nachtwäsche         /de_de/damen/produkte/nachtwaesche.html   \n",
       "19     Socken & Strumpfhosen  /de_de/damen/produkte/socken-strumpfhosen.html   \n",
       "20           Sportbekleidung                /de_de/damen/produkte/sport.html   \n",
       "23                    Beauty               /de_de/damen/produkte/beauty.html   \n",
       "25     Hoodies & Sweatshirts  /de_de/damen/produkte/hoodies-sweatshirts.html   \n",
       "29              Cut-Out-Tops         /de_de/damen/produkte/tops/cut-out.html   \n",
       "30             Bralette-Tops        /de_de/damen/produkte/tops/bralette.html   \n",
       "31              Bandeau-Tops         /de_de/damen/produkte/tops/bandeau.html   \n",
       "32  Oberteile mit Puffärmeln      /de_de/damen/produkte/tops/puffaermel.html   \n",
       "33     Trägertops & Tanktops          /de_de/damen/produkte/tops/westen.html   \n",
       "34            Kurzarm-Shirts         /de_de/damen/produkte/tops/kurzarm.html   \n",
       "35            Langarm-Shirts         /de_de/damen/produkte/tops/langarm.html   \n",
       "\n",
       "    Parent_Category  \n",
       "0               NaN  \n",
       "1               NaN  \n",
       "2               NaN  \n",
       "3               NaN  \n",
       "4               NaN  \n",
       "5               NaN  \n",
       "6               NaN  \n",
       "7               NaN  \n",
       "8               NaN  \n",
       "9               NaN  \n",
       "10              NaN  \n",
       "11              NaN  \n",
       "12              NaN  \n",
       "13              NaN  \n",
       "14              NaN  \n",
       "15              NaN  \n",
       "16              NaN  \n",
       "17              NaN  \n",
       "18              NaN  \n",
       "19              NaN  \n",
       "20              NaN  \n",
       "23              NaN  \n",
       "25              NaN  \n",
       "29              0.0  \n",
       "30              0.0  \n",
       "31              0.0  \n",
       "32              0.0  \n",
       "33              0.0  \n",
       "34              0.0  \n",
       "35              0.0  "
      ]
     },
     "execution_count": 356,
     "metadata": {},
     "output_type": "execute_result"
    }
   ],
   "source": [
    "cats_t.head(30)"
   ]
  },
  {
   "cell_type": "code",
   "execution_count": 457,
   "id": "9580611a",
   "metadata": {},
   "outputs": [],
   "source": [
    "# saving categories\n",
    "cats_t.to_parquet('../data/HnM_Categories.parquet')"
   ]
  },
  {
   "cell_type": "markdown",
   "id": "20eef9f8",
   "metadata": {},
   "source": [
    "Creating dataframe of fitler options per category"
   ]
  },
  {
   "cell_type": "code",
   "execution_count": 343,
   "id": "df55f076",
   "metadata": {},
   "outputs": [],
   "source": [
    "filters = pd.DataFrame({\n",
    "    'Parent_Category': filter_parents,\n",
    "    'Filter_Name': filter_names,\n",
    "    'Fitler_Option': filter_options,\n",
    "})"
   ]
  },
  {
   "cell_type": "code",
   "execution_count": 344,
   "id": "7c71c8c1",
   "metadata": {},
   "outputs": [
    {
     "data": {
      "text/plain": [
       "(3218, 3)"
      ]
     },
     "execution_count": 344,
     "metadata": {},
     "output_type": "execute_result"
    }
   ],
   "source": [
    "filters.shape"
   ]
  },
  {
   "cell_type": "code",
   "execution_count": 345,
   "id": "5fddd73f",
   "metadata": {},
   "outputs": [],
   "source": [
    "filters_t = filters[filters['Parent_Category'].isin(cats_t[cats_t['Parent_Category'].isna()].index)]"
   ]
  },
  {
   "cell_type": "code",
   "execution_count": 346,
   "id": "facb5ac3",
   "metadata": {},
   "outputs": [
    {
     "data": {
      "text/html": [
       "<div>\n",
       "<style scoped>\n",
       "    .dataframe tbody tr th:only-of-type {\n",
       "        vertical-align: middle;\n",
       "    }\n",
       "\n",
       "    .dataframe tbody tr th {\n",
       "        vertical-align: top;\n",
       "    }\n",
       "\n",
       "    .dataframe thead th {\n",
       "        text-align: right;\n",
       "    }\n",
       "</style>\n",
       "<table border=\"1\" class=\"dataframe\">\n",
       "  <thead>\n",
       "    <tr style=\"text-align: right;\">\n",
       "      <th></th>\n",
       "      <th>Parent_Category</th>\n",
       "      <th>Filter_Name</th>\n",
       "      <th>Fitler_Option</th>\n",
       "    </tr>\n",
       "  </thead>\n",
       "  <tbody>\n",
       "    <tr>\n",
       "      <th>0</th>\n",
       "      <td>0</td>\n",
       "      <td>Sortieren nach</td>\n",
       "      <td>(Empfohlen, sort=stock)</td>\n",
       "    </tr>\n",
       "    <tr>\n",
       "      <th>1</th>\n",
       "      <td>0</td>\n",
       "      <td>Sortieren nach</td>\n",
       "      <td>(Neuheiten, sort=newProduct)</td>\n",
       "    </tr>\n",
       "    <tr>\n",
       "      <th>2</th>\n",
       "      <td>0</td>\n",
       "      <td>Sortieren nach</td>\n",
       "      <td>(Niedrigster Preis, sort=ascPrice)</td>\n",
       "    </tr>\n",
       "    <tr>\n",
       "      <th>3</th>\n",
       "      <td>0</td>\n",
       "      <td>Sortieren nach</td>\n",
       "      <td>(Höchster Preis, sort=descPrice)</td>\n",
       "    </tr>\n",
       "    <tr>\n",
       "      <th>4</th>\n",
       "      <td>0</td>\n",
       "      <td>Conscious choice</td>\n",
       "      <td>(Conscious choice, sustainabilities=Conscious+...</td>\n",
       "    </tr>\n",
       "    <tr>\n",
       "      <th>5</th>\n",
       "      <td>0</td>\n",
       "      <td>Marke</td>\n",
       "      <td>(Fila, brandNames=Fila)</td>\n",
       "    </tr>\n",
       "    <tr>\n",
       "      <th>6</th>\n",
       "      <td>0</td>\n",
       "      <td>Marke</td>\n",
       "      <td>(H&amp;M, brandNames=H%26M)</td>\n",
       "    </tr>\n",
       "    <tr>\n",
       "      <th>7</th>\n",
       "      <td>0</td>\n",
       "      <td>Marke</td>\n",
       "      <td>(Minga London, brandNames=Minga+London)</td>\n",
       "    </tr>\n",
       "    <tr>\n",
       "      <th>8</th>\n",
       "      <td>0</td>\n",
       "      <td>Marke</td>\n",
       "      <td>(Superdry, brandNames=Superdry)</td>\n",
       "    </tr>\n",
       "    <tr>\n",
       "      <th>9</th>\n",
       "      <td>0</td>\n",
       "      <td>Marke</td>\n",
       "      <td>(aim'n, brandNames=aim%27n)</td>\n",
       "    </tr>\n",
       "  </tbody>\n",
       "</table>\n",
       "</div>"
      ],
      "text/plain": [
       "   Parent_Category       Filter_Name  \\\n",
       "0                0    Sortieren nach   \n",
       "1                0    Sortieren nach   \n",
       "2                0    Sortieren nach   \n",
       "3                0    Sortieren nach   \n",
       "4                0  Conscious choice   \n",
       "5                0             Marke   \n",
       "6                0             Marke   \n",
       "7                0             Marke   \n",
       "8                0             Marke   \n",
       "9                0             Marke   \n",
       "\n",
       "                                       Fitler_Option  \n",
       "0                            (Empfohlen, sort=stock)  \n",
       "1                       (Neuheiten, sort=newProduct)  \n",
       "2                 (Niedrigster Preis, sort=ascPrice)  \n",
       "3                   (Höchster Preis, sort=descPrice)  \n",
       "4  (Conscious choice, sustainabilities=Conscious+...  \n",
       "5                            (Fila, brandNames=Fila)  \n",
       "6                            (H&M, brandNames=H%26M)  \n",
       "7            (Minga London, brandNames=Minga+London)  \n",
       "8                    (Superdry, brandNames=Superdry)  \n",
       "9                        (aim'n, brandNames=aim%27n)  "
      ]
     },
     "execution_count": 346,
     "metadata": {},
     "output_type": "execute_result"
    }
   ],
   "source": [
    "filters_t.head(10)"
   ]
  },
  {
   "cell_type": "code",
   "execution_count": 347,
   "id": "5a299dfc",
   "metadata": {},
   "outputs": [
    {
     "data": {
      "text/plain": [
       "(2589, 3)"
      ]
     },
     "execution_count": 347,
     "metadata": {},
     "output_type": "execute_result"
    }
   ],
   "source": [
    "filters_t.shape"
   ]
  },
  {
   "cell_type": "code",
   "execution_count": 348,
   "id": "36163afd",
   "metadata": {},
   "outputs": [
    {
     "data": {
      "text/plain": [
       "array(['Sortieren nach', 'Conscious choice', 'Marke', 'Größe', 'Farbe',\n",
       "       'MUSTER', 'Produkttyp', 'Style', 'Funktion', 'Ausschnitt',\n",
       "       'Ärmellänge', 'Länge', 'Ärmelstil', 'Kragen', 'Passform', 'Anlass',\n",
       "       'Konzept', 'Qualität', 'Material', 'Bundhöhe', 'Schuhstil',\n",
       "       'Absatzhöhe', 'Accessoirestil', 'Deckkraft', 'Finish', 'Hautton',\n",
       "       'Hauttyp', 'Duftfamilie', 'Nutzen', 'Problemstelle', 'Form',\n",
       "       'Hauptinhaltsstoff', 'LSF'], dtype=object)"
      ]
     },
     "execution_count": 348,
     "metadata": {},
     "output_type": "execute_result"
    }
   ],
   "source": [
    "filters_t['Filter_Name'].unique()"
   ]
  },
  {
   "cell_type": "code",
   "execution_count": 349,
   "id": "da835045",
   "metadata": {},
   "outputs": [],
   "source": [
    "filters_to_keep = [\n",
    "    'Farbe','MUSTER', 'Style', 'Funktion', 'Ausschnitt','Ärmellänge','Länge', 'Ärmelstil', 'Kragen', \n",
    "    'Passform', 'Anlass', 'Konzept', 'Bundhöhe', 'Schuhstil', 'Absatzhöhe', 'Accessoirestil', 'Deckkraft', \n",
    "    'Finish', 'Hautton', 'Hauttyp'\n",
    "]"
   ]
  },
  {
   "cell_type": "code",
   "execution_count": 350,
   "id": "5d76c24f",
   "metadata": {},
   "outputs": [],
   "source": [
    "filters_t = filters_t[filters_t['Filter_Name'].isin(filters_to_keep)]"
   ]
  },
  {
   "cell_type": "code",
   "execution_count": 351,
   "id": "f4066ee6",
   "metadata": {},
   "outputs": [
    {
     "data": {
      "text/plain": [
       "(1456, 3)"
      ]
     },
     "execution_count": 351,
     "metadata": {},
     "output_type": "execute_result"
    }
   ],
   "source": [
    "filters_t.shape"
   ]
  },
  {
   "cell_type": "code",
   "execution_count": 454,
   "id": "ab99daf2",
   "metadata": {},
   "outputs": [
    {
     "data": {
      "text/html": [
       "<div>\n",
       "<style scoped>\n",
       "    .dataframe tbody tr th:only-of-type {\n",
       "        vertical-align: middle;\n",
       "    }\n",
       "\n",
       "    .dataframe tbody tr th {\n",
       "        vertical-align: top;\n",
       "    }\n",
       "\n",
       "    .dataframe thead th {\n",
       "        text-align: right;\n",
       "    }\n",
       "</style>\n",
       "<table border=\"1\" class=\"dataframe\">\n",
       "  <thead>\n",
       "    <tr style=\"text-align: right;\">\n",
       "      <th></th>\n",
       "      <th>Parent_Category</th>\n",
       "      <th>Filter_Name</th>\n",
       "      <th>Fitler_Option</th>\n",
       "    </tr>\n",
       "  </thead>\n",
       "  <tbody>\n",
       "    <tr>\n",
       "      <th>30</th>\n",
       "      <td>0</td>\n",
       "      <td>Farbe</td>\n",
       "      <td>(Beige, colorWithNames=beige_f5f5dc)</td>\n",
       "    </tr>\n",
       "    <tr>\n",
       "      <th>31</th>\n",
       "      <td>0</td>\n",
       "      <td>Farbe</td>\n",
       "      <td>(Blau, colorWithNames=blau_0000ff)</td>\n",
       "    </tr>\n",
       "    <tr>\n",
       "      <th>32</th>\n",
       "      <td>0</td>\n",
       "      <td>Farbe</td>\n",
       "      <td>(Braun, colorWithNames=braun_a52a2a)</td>\n",
       "    </tr>\n",
       "    <tr>\n",
       "      <th>33</th>\n",
       "      <td>0</td>\n",
       "      <td>Farbe</td>\n",
       "      <td>(Gelb, colorWithNames=gelb_ffff00)</td>\n",
       "    </tr>\n",
       "    <tr>\n",
       "      <th>34</th>\n",
       "      <td>0</td>\n",
       "      <td>Farbe</td>\n",
       "      <td>(Grau, colorWithNames=grau_808080)</td>\n",
       "    </tr>\n",
       "  </tbody>\n",
       "</table>\n",
       "</div>"
      ],
      "text/plain": [
       "    Parent_Category Filter_Name                         Fitler_Option\n",
       "30                0       Farbe  (Beige, colorWithNames=beige_f5f5dc)\n",
       "31                0       Farbe    (Blau, colorWithNames=blau_0000ff)\n",
       "32                0       Farbe  (Braun, colorWithNames=braun_a52a2a)\n",
       "33                0       Farbe    (Gelb, colorWithNames=gelb_ffff00)\n",
       "34                0       Farbe    (Grau, colorWithNames=grau_808080)"
      ]
     },
     "execution_count": 454,
     "metadata": {},
     "output_type": "execute_result"
    }
   ],
   "source": [
    "filters_t.head()"
   ]
  },
  {
   "cell_type": "code",
   "execution_count": 458,
   "id": "909d19e0",
   "metadata": {},
   "outputs": [],
   "source": [
    "# saving filters\n",
    "filters_t.to_parquet('../data/HnM_Filters.parquet')"
   ]
  },
  {
   "cell_type": "markdown",
   "id": "713af8d9",
   "metadata": {},
   "source": [
    "Iterate through all sub-categories - get all products (images & ids)"
   ]
  },
  {
   "cell_type": "code",
   "execution_count": 50,
   "id": "8161afa0",
   "metadata": {},
   "outputs": [],
   "source": [
    "# lamda functions for getting various params\n",
    "img_url = lambda x: x.find_all('img')[0].get('src') if x.find_all('img')[0].get('src') else x.find_all('img')[0].get('data-src')\n",
    "img_ext = lambda x: re.search('set=source\\[[a-z0-9/]*(\\.[a-z]*)]', img_url(x))[1]\n",
    "item_name = lambda x: x.find_all('a')[0].get('title')\n",
    "item_url = lambda x: x.find_all('a')[0].get('href')\n",
    "item_code = lambda x: x.get('data-articlecode')\n",
    "\n",
    "def save_image(code, img, ext):\n",
    "    if os.path.exists(f\"{code}{ext}\"):\n",
    "        return\n",
    "    img_data = requests.get(img if img[:6] == 'https:' else f\"https:{img}\")\n",
    "    target = f\"../images/{code}{ext}\"\n",
    "    with open(target, 'wb') as f:\n",
    "        f.write(img_data.content)"
   ]
  },
  {
   "cell_type": "code",
   "execution_count": null,
   "id": "b75587c7",
   "metadata": {},
   "outputs": [
    {
     "name": "stdout",
     "output_type": "stream",
     "text": [
      "Total Categories = 213\n",
      "Completed 1 - Cut-Out-Tops - Saved 12 items.\n",
      "Completed 2 - Bralette-Tops - Saved 0 items.\n",
      "Completed 3 - Bandeau-Tops - Saved 7 items.\n",
      "Completed 4 - Oberteile mit Puffärmeln - Saved 7 items.\n"
     ]
    }
   ],
   "source": [
    "size = 1000\n",
    "\n",
    "df_items = pd.DataFrame(columns=['Code', 'Name', 'URL', 'Img_URL', 'Img_Ext', 'Category'])\n",
    "i = 0\n",
    "total = cats_t[~cats_t['Parent_Category'].isna()].shape[0]\n",
    "\n",
    "print(f'Total Categories = {total}')\n",
    "               \n",
    "for idx, row in cats_t[~cats_t['Parent_Category'].isna()].iterrows():\n",
    "    # arrays to hold the details\n",
    "#     print(f\"Fetching {row['URL']}\")\n",
    "    subcat = get_url(f\"{row['URL']}?image=stillLife&offset=0&page-size={size}\")\n",
    "    all_items = subcat.find_all('article')\n",
    "#     print(f\"Found {len(all_items)} items.\")\n",
    "    \n",
    "    codes = list(map(item_code, all_items))\n",
    "    img_urls = list(map(img_url, all_items))\n",
    "    img_exts = list(map(img_ext, all_items))\n",
    "    \n",
    "    df_items = pd.concat([df_items, pd.DataFrame({\n",
    "        'Code': codes,\n",
    "        'Name': list(map(item_name, all_items)),\n",
    "        'URL': list(map(item_url, all_items)),\n",
    "        'Img_URL': img_urls,\n",
    "        'Img_Ext': img_exts,\n",
    "        'Category': [idx]*len(all_items)\n",
    "    })], ignore_index=True)\n",
    "    \n",
    "    list(map(save_image, codes, img_urls, img_exts))\n",
    "    \n",
    "    i += 1\n",
    "    print(f\"Completed {i} - {row['Category']} - Saved {len(all_items)} items.\")\n",
    "    if i%10 == 0:\n",
    "        time.sleep(1)"
   ]
  },
  {
   "cell_type": "code",
   "execution_count": null,
   "id": "a315e6ee",
   "metadata": {},
   "outputs": [],
   "source": [
    "df_items"
   ]
  },
  {
   "cell_type": "code",
   "execution_count": null,
   "id": "f439cee8",
   "metadata": {},
   "outputs": [],
   "source": [
    "# saving all items\n",
    "df_items.to_parquet('../data/HnM_Items.parquet')"
   ]
  },
  {
   "cell_type": "markdown",
   "id": "3d7c1e05",
   "metadata": {},
   "source": [
    "Iterate through each filter for each sub-category - get all product ids and tag them"
   ]
  },
  {
   "cell_type": "code",
   "execution_count": 4,
   "id": "ecae94e3",
   "metadata": {},
   "outputs": [],
   "source": [
    "cats_t = pd.read_parquet('../data/HnM_Categories.parquet')"
   ]
  },
  {
   "cell_type": "code",
   "execution_count": 28,
   "id": "2725b4f4",
   "metadata": {},
   "outputs": [],
   "source": [
    "filters_t = pd.read_parquet('../data/HnM_Filters.parquet')"
   ]
  },
  {
   "cell_type": "code",
   "execution_count": 12,
   "id": "d4d885cf",
   "metadata": {},
   "outputs": [
    {
     "data": {
      "text/plain": [
       "Category                                      Cut-Out-Tops\n",
       "URL                /de_de/damen/produkte/tops/cut-out.html\n",
       "Parent_Category                                        0.0\n",
       "Name: 29, dtype: object"
      ]
     },
     "execution_count": 12,
     "metadata": {},
     "output_type": "execute_result"
    }
   ],
   "source": [
    "cats_t.loc[29].head()"
   ]
  },
  {
   "cell_type": "code",
   "execution_count": 29,
   "id": "0e2415de",
   "metadata": {},
   "outputs": [
    {
     "data": {
      "text/html": [
       "<div>\n",
       "<style scoped>\n",
       "    .dataframe tbody tr th:only-of-type {\n",
       "        vertical-align: middle;\n",
       "    }\n",
       "\n",
       "    .dataframe tbody tr th {\n",
       "        vertical-align: top;\n",
       "    }\n",
       "\n",
       "    .dataframe thead th {\n",
       "        text-align: right;\n",
       "    }\n",
       "</style>\n",
       "<table border=\"1\" class=\"dataframe\">\n",
       "  <thead>\n",
       "    <tr style=\"text-align: right;\">\n",
       "      <th></th>\n",
       "      <th>Parent_Category</th>\n",
       "      <th>Filter_Name</th>\n",
       "      <th>Filter_Option</th>\n",
       "    </tr>\n",
       "  </thead>\n",
       "  <tbody>\n",
       "    <tr>\n",
       "      <th>30</th>\n",
       "      <td>0</td>\n",
       "      <td>Farbe</td>\n",
       "      <td>[Beige, colorWithNames=beige_f5f5dc]</td>\n",
       "    </tr>\n",
       "    <tr>\n",
       "      <th>31</th>\n",
       "      <td>0</td>\n",
       "      <td>Farbe</td>\n",
       "      <td>[Blau, colorWithNames=blau_0000ff]</td>\n",
       "    </tr>\n",
       "    <tr>\n",
       "      <th>32</th>\n",
       "      <td>0</td>\n",
       "      <td>Farbe</td>\n",
       "      <td>[Braun, colorWithNames=braun_a52a2a]</td>\n",
       "    </tr>\n",
       "    <tr>\n",
       "      <th>33</th>\n",
       "      <td>0</td>\n",
       "      <td>Farbe</td>\n",
       "      <td>[Gelb, colorWithNames=gelb_ffff00]</td>\n",
       "    </tr>\n",
       "    <tr>\n",
       "      <th>34</th>\n",
       "      <td>0</td>\n",
       "      <td>Farbe</td>\n",
       "      <td>[Grau, colorWithNames=grau_808080]</td>\n",
       "    </tr>\n",
       "  </tbody>\n",
       "</table>\n",
       "</div>"
      ],
      "text/plain": [
       "    Parent_Category Filter_Name                         Filter_Option\n",
       "30                0       Farbe  [Beige, colorWithNames=beige_f5f5dc]\n",
       "31                0       Farbe    [Blau, colorWithNames=blau_0000ff]\n",
       "32                0       Farbe  [Braun, colorWithNames=braun_a52a2a]\n",
       "33                0       Farbe    [Gelb, colorWithNames=gelb_ffff00]\n",
       "34                0       Farbe    [Grau, colorWithNames=grau_808080]"
      ]
     },
     "execution_count": 29,
     "metadata": {},
     "output_type": "execute_result"
    }
   ],
   "source": [
    "filters_t[filters_t['Parent_Category'] == 0].head()"
   ]
  },
  {
   "cell_type": "code",
   "execution_count": 48,
   "id": "1270f075",
   "metadata": {},
   "outputs": [],
   "source": [
    "size = 1000\n",
    "\n",
    "df_attributes = pd.DataFrame(columns=[\n",
    "    'Code', 'Filter_ID'\n",
    "])\n",
    "\n",
    "i = 0\n",
    "total = filters_t.shape[0]\n",
    "\n",
    "print(f'Total Filters = {total}')\n",
    "\n",
    "\n",
    "for idx, row in filters_t:\n",
    "    subcat_filter = get_url(f\"{cats_t.loc[int(row['Parent_Category'])]['URL']}?image=stillLife&offset=0&page-size={size}&{row['Filter_Option'][1]}\")\n",
    "    codes = list(map(item_code, subcat_filter.find_all('article')))\n",
    "    df_attributes = pd.concat([\n",
    "        df_attributes,\n",
    "        pd.DataFrame({\n",
    "            'Code': codes,\n",
    "            'Filter_ID': [idx]*len(codes)\n",
    "        })\n",
    "    ])\n",
    "    \n",
    "    i += 1\n",
    "    if i%10 == 0:\n",
    "        print(f\"Completed {i}\")\n",
    "        time.sleep(1)"
   ]
  },
  {
   "cell_type": "code",
   "execution_count": 51,
   "id": "635f5958",
   "metadata": {},
   "outputs": [
    {
     "data": {
      "text/plain": [
       "['0979236026',\n",
       " '1000128008',\n",
       " '1000128007',\n",
       " '1080623001',\n",
       " '1063867001',\n",
       " '0572797079',\n",
       " '1063196001',\n",
       " '1048041008',\n",
       " '1052976001',\n",
       " '1060970001']"
      ]
     },
     "execution_count": 51,
     "metadata": {},
     "output_type": "execute_result"
    }
   ],
   "source": [
    "df_attributes.to_parquet('../data/HnM_FilterAttributes.parquet')"
   ]
  }
 ],
 "metadata": {
  "kernelspec": {
   "display_name": "CS25",
   "language": "python",
   "name": "cs25"
  },
  "language_info": {
   "codemirror_mode": {
    "name": "ipython",
    "version": 3
   },
   "file_extension": ".py",
   "mimetype": "text/x-python",
   "name": "python",
   "nbconvert_exporter": "python",
   "pygments_lexer": "ipython3",
   "version": "3.10.2"
  }
 },
 "nbformat": 4,
 "nbformat_minor": 5
}
