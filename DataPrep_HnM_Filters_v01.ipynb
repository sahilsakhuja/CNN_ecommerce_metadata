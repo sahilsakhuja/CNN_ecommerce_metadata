{
 "cells": [
  {
   "cell_type": "code",
   "execution_count": 1,
   "id": "7754bfb9",
   "metadata": {},
   "outputs": [],
   "source": [
    "import pandas as pd\n",
    "import numpy as np\n",
    "import math\n",
    "import seaborn as sns\n",
    "import pickle"
   ]
  },
  {
   "cell_type": "code",
   "execution_count": 2,
   "id": "229d7220",
   "metadata": {},
   "outputs": [],
   "source": [
    "hnm_file_format = 'data/HnM_{}.parquet'"
   ]
  },
  {
   "cell_type": "code",
   "execution_count": 3,
   "id": "1f5cb10c",
   "metadata": {},
   "outputs": [],
   "source": [
    "cats = pd.read_parquet(hnm_file_format.format('Categories'))\n",
    "filters = pd.read_parquet(hnm_file_format.format('Filters'))\n",
    "items = pd.read_parquet(hnm_file_format.format('Items'))\n",
    "attributes = pd.read_parquet(hnm_file_format.format('FilterAttributes'))\n",
    "\n",
    "final_df = pd.read_parquet(hnm_file_format.format('Final_Input_Df'))"
   ]
  },
  {
   "cell_type": "markdown",
   "id": "44382fed",
   "metadata": {},
   "source": [
    "### Understanding the file structures:\n",
    "\n",
    "- Final DF: DF with details of final items included in model training. Primary Key = Code => refers to item code\n",
    "- Filters: DF with all filters and associated options; DF contains Parent Category ID, Filter Name and Fitler Option Value\n",
    "- Attributes: DF with each product code associated with the applicable filter ids"
   ]
  },
  {
   "cell_type": "markdown",
   "id": "84be9ccc",
   "metadata": {},
   "source": [
    "### Some basic checks on Final DF"
   ]
  },
  {
   "cell_type": "code",
   "execution_count": 4,
   "id": "22786c9d",
   "metadata": {},
   "outputs": [
    {
     "data": {
      "text/html": [
       "<div>\n",
       "<style scoped>\n",
       "    .dataframe tbody tr th:only-of-type {\n",
       "        vertical-align: middle;\n",
       "    }\n",
       "\n",
       "    .dataframe tbody tr th {\n",
       "        vertical-align: top;\n",
       "    }\n",
       "\n",
       "    .dataframe thead th {\n",
       "        text-align: right;\n",
       "    }\n",
       "</style>\n",
       "<table border=\"1\" class=\"dataframe\">\n",
       "  <thead>\n",
       "    <tr style=\"text-align: right;\">\n",
       "      <th></th>\n",
       "      <th>Code</th>\n",
       "      <th>Name</th>\n",
       "      <th>Img_Ext</th>\n",
       "      <th>Parent_Category</th>\n",
       "      <th>Top_Category</th>\n",
       "      <th>Parent_Category_Name</th>\n",
       "      <th>Category_Name</th>\n",
       "    </tr>\n",
       "  </thead>\n",
       "  <tbody>\n",
       "    <tr>\n",
       "      <th>0</th>\n",
       "      <td>1071498001</td>\n",
       "      <td>Cut-out-Shirt</td>\n",
       "      <td>.jpg</td>\n",
       "      <td>0.0</td>\n",
       "      <td>Women</td>\n",
       "      <td>Shirts &amp; Tops</td>\n",
       "      <td>Women_Shirts-&amp;-Tops</td>\n",
       "    </tr>\n",
       "    <tr>\n",
       "      <th>1</th>\n",
       "      <td>1069183001</td>\n",
       "      <td>Kurzes Shirt mit Cut-out</td>\n",
       "      <td>.jpg</td>\n",
       "      <td>0.0</td>\n",
       "      <td>Women</td>\n",
       "      <td>Shirts &amp; Tops</td>\n",
       "      <td>Women_Shirts-&amp;-Tops</td>\n",
       "    </tr>\n",
       "    <tr>\n",
       "      <th>4</th>\n",
       "      <td>1069183002</td>\n",
       "      <td>Kurzes Shirt mit Cut-out</td>\n",
       "      <td>.jpg</td>\n",
       "      <td>0.0</td>\n",
       "      <td>Women</td>\n",
       "      <td>Shirts &amp; Tops</td>\n",
       "      <td>Women_Shirts-&amp;-Tops</td>\n",
       "    </tr>\n",
       "    <tr>\n",
       "      <th>5</th>\n",
       "      <td>1021919001</td>\n",
       "      <td>Pullover mit Cut-outs</td>\n",
       "      <td>.jpg</td>\n",
       "      <td>0.0</td>\n",
       "      <td>Women</td>\n",
       "      <td>Shirts &amp; Tops</td>\n",
       "      <td>Women_Shirts-&amp;-Tops</td>\n",
       "    </tr>\n",
       "    <tr>\n",
       "      <th>6</th>\n",
       "      <td>1062813001</td>\n",
       "      <td>Tanktop</td>\n",
       "      <td>.jpg</td>\n",
       "      <td>0.0</td>\n",
       "      <td>Women</td>\n",
       "      <td>Shirts &amp; Tops</td>\n",
       "      <td>Women_Shirts-&amp;-Tops</td>\n",
       "    </tr>\n",
       "  </tbody>\n",
       "</table>\n",
       "</div>"
      ],
      "text/plain": [
       "         Code                      Name Img_Ext  Parent_Category Top_Category  \\\n",
       "0  1071498001             Cut-out-Shirt    .jpg              0.0        Women   \n",
       "1  1069183001  Kurzes Shirt mit Cut-out    .jpg              0.0        Women   \n",
       "4  1069183002  Kurzes Shirt mit Cut-out    .jpg              0.0        Women   \n",
       "5  1021919001     Pullover mit Cut-outs    .jpg              0.0        Women   \n",
       "6  1062813001                   Tanktop    .jpg              0.0        Women   \n",
       "\n",
       "  Parent_Category_Name        Category_Name  \n",
       "0        Shirts & Tops  Women_Shirts-&-Tops  \n",
       "1        Shirts & Tops  Women_Shirts-&-Tops  \n",
       "4        Shirts & Tops  Women_Shirts-&-Tops  \n",
       "5        Shirts & Tops  Women_Shirts-&-Tops  \n",
       "6        Shirts & Tops  Women_Shirts-&-Tops  "
      ]
     },
     "execution_count": 4,
     "metadata": {},
     "output_type": "execute_result"
    }
   ],
   "source": [
    "final_df.head()"
   ]
  },
  {
   "cell_type": "markdown",
   "id": "86942ce7",
   "metadata": {},
   "source": [
    "Checking total parent categories"
   ]
  },
  {
   "cell_type": "code",
   "execution_count": 5,
   "id": "ad88fd81",
   "metadata": {},
   "outputs": [
    {
     "data": {
      "text/plain": [
       "31"
      ]
     },
     "execution_count": 5,
     "metadata": {},
     "output_type": "execute_result"
    }
   ],
   "source": [
    "final_df['Parent_Category'].nunique()"
   ]
  },
  {
   "cell_type": "markdown",
   "id": "b75e7ee7",
   "metadata": {},
   "source": [
    "Checking total category names - generated as (Top_Category)\\_(Parent_Category_Name)"
   ]
  },
  {
   "cell_type": "code",
   "execution_count": 6,
   "id": "babc4d65",
   "metadata": {},
   "outputs": [
    {
     "data": {
      "text/plain": [
       "31"
      ]
     },
     "execution_count": 6,
     "metadata": {},
     "output_type": "execute_result"
    }
   ],
   "source": [
    "final_df['Category_Name'].nunique()"
   ]
  },
  {
   "cell_type": "code",
   "execution_count": 7,
   "id": "de32a284",
   "metadata": {},
   "outputs": [
    {
     "data": {
      "text/plain": [
       "(14456, 7)"
      ]
     },
     "execution_count": 7,
     "metadata": {},
     "output_type": "execute_result"
    }
   ],
   "source": [
    "final_df.shape"
   ]
  },
  {
   "cell_type": "code",
   "execution_count": 8,
   "id": "8ab03f7c",
   "metadata": {},
   "outputs": [
    {
     "data": {
      "text/plain": [
       "14456"
      ]
     },
     "execution_count": 8,
     "metadata": {},
     "output_type": "execute_result"
    }
   ],
   "source": [
    "final_df['Code'].nunique()"
   ]
  },
  {
   "cell_type": "markdown",
   "id": "34c08da8",
   "metadata": {},
   "source": [
    "### Some basic checks on Filters DF"
   ]
  },
  {
   "cell_type": "code",
   "execution_count": 9,
   "id": "f5eff872",
   "metadata": {},
   "outputs": [
    {
     "data": {
      "text/html": [
       "<div>\n",
       "<style scoped>\n",
       "    .dataframe tbody tr th:only-of-type {\n",
       "        vertical-align: middle;\n",
       "    }\n",
       "\n",
       "    .dataframe tbody tr th {\n",
       "        vertical-align: top;\n",
       "    }\n",
       "\n",
       "    .dataframe thead th {\n",
       "        text-align: right;\n",
       "    }\n",
       "</style>\n",
       "<table border=\"1\" class=\"dataframe\">\n",
       "  <thead>\n",
       "    <tr style=\"text-align: right;\">\n",
       "      <th></th>\n",
       "      <th>Parent_Category</th>\n",
       "      <th>Filter_Name</th>\n",
       "      <th>Filter_Option</th>\n",
       "    </tr>\n",
       "  </thead>\n",
       "  <tbody>\n",
       "    <tr>\n",
       "      <th>31</th>\n",
       "      <td>0</td>\n",
       "      <td>Farbe</td>\n",
       "      <td>[Beige, colorWithNames=beige_f5f5dc]</td>\n",
       "    </tr>\n",
       "    <tr>\n",
       "      <th>32</th>\n",
       "      <td>0</td>\n",
       "      <td>Farbe</td>\n",
       "      <td>[Blau, colorWithNames=blau_0000ff]</td>\n",
       "    </tr>\n",
       "    <tr>\n",
       "      <th>33</th>\n",
       "      <td>0</td>\n",
       "      <td>Farbe</td>\n",
       "      <td>[Braun, colorWithNames=braun_a52a2a]</td>\n",
       "    </tr>\n",
       "    <tr>\n",
       "      <th>34</th>\n",
       "      <td>0</td>\n",
       "      <td>Farbe</td>\n",
       "      <td>[Gelb, colorWithNames=gelb_ffff00]</td>\n",
       "    </tr>\n",
       "    <tr>\n",
       "      <th>35</th>\n",
       "      <td>0</td>\n",
       "      <td>Farbe</td>\n",
       "      <td>[Grau, colorWithNames=grau_808080]</td>\n",
       "    </tr>\n",
       "  </tbody>\n",
       "</table>\n",
       "</div>"
      ],
      "text/plain": [
       "    Parent_Category Filter_Name                         Filter_Option\n",
       "31                0       Farbe  [Beige, colorWithNames=beige_f5f5dc]\n",
       "32                0       Farbe    [Blau, colorWithNames=blau_0000ff]\n",
       "33                0       Farbe  [Braun, colorWithNames=braun_a52a2a]\n",
       "34                0       Farbe    [Gelb, colorWithNames=gelb_ffff00]\n",
       "35                0       Farbe    [Grau, colorWithNames=grau_808080]"
      ]
     },
     "execution_count": 9,
     "metadata": {},
     "output_type": "execute_result"
    }
   ],
   "source": [
    "filters.head()"
   ]
  },
  {
   "cell_type": "markdown",
   "id": "5cd824e9",
   "metadata": {},
   "source": [
    "Total nr of parent categories"
   ]
  },
  {
   "cell_type": "code",
   "execution_count": 10,
   "id": "2bfe0146",
   "metadata": {},
   "outputs": [
    {
     "data": {
      "text/plain": [
       "52"
      ]
     },
     "execution_count": 10,
     "metadata": {},
     "output_type": "execute_result"
    }
   ],
   "source": [
    "filters['Parent_Category'].nunique()"
   ]
  },
  {
   "cell_type": "code",
   "execution_count": 11,
   "id": "63a25a0c",
   "metadata": {},
   "outputs": [
    {
     "data": {
      "text/plain": [
       "(3261, 3)"
      ]
     },
     "execution_count": 11,
     "metadata": {},
     "output_type": "execute_result"
    }
   ],
   "source": [
    "filters.shape"
   ]
  },
  {
   "cell_type": "markdown",
   "id": "79d34ae3",
   "metadata": {},
   "source": [
    "Nr of parent categories that are also present in final df"
   ]
  },
  {
   "cell_type": "code",
   "execution_count": 12,
   "id": "09049b05",
   "metadata": {},
   "outputs": [
    {
     "data": {
      "text/plain": [
       "31"
      ]
     },
     "execution_count": 12,
     "metadata": {},
     "output_type": "execute_result"
    }
   ],
   "source": [
    "filters[filters['Parent_Category'].isin(final_df['Parent_Category'].unique())]['Parent_Category'].nunique()"
   ]
  },
  {
   "cell_type": "code",
   "execution_count": 13,
   "id": "3cd91867",
   "metadata": {},
   "outputs": [
    {
     "data": {
      "text/plain": [
       "(2257, 3)"
      ]
     },
     "execution_count": 13,
     "metadata": {},
     "output_type": "execute_result"
    }
   ],
   "source": [
    "filters[filters['Parent_Category'].isin(final_df['Parent_Category'].unique())].shape"
   ]
  },
  {
   "cell_type": "markdown",
   "id": "b190a8bd",
   "metadata": {},
   "source": [
    "Total filters = 3261; Belonging to 52 filter categories\n",
    "\n",
    "Filters relevant to Final DF = 2257; Belonging to 31 filter categories"
   ]
  },
  {
   "cell_type": "markdown",
   "id": "0f22e1f2",
   "metadata": {},
   "source": [
    "Creating list of relevant unique filter ids"
   ]
  },
  {
   "cell_type": "code",
   "execution_count": 14,
   "id": "1dc90906",
   "metadata": {},
   "outputs": [],
   "source": [
    "filter_ids = filters[filters['Parent_Category'].isin(final_df['Parent_Category'].unique())].index"
   ]
  },
  {
   "cell_type": "code",
   "execution_count": 15,
   "id": "2149228c",
   "metadata": {},
   "outputs": [
    {
     "data": {
      "text/plain": [
       "2257"
      ]
     },
     "execution_count": 15,
     "metadata": {},
     "output_type": "execute_result"
    }
   ],
   "source": [
    "len(filter_ids)"
   ]
  },
  {
   "cell_type": "markdown",
   "id": "2e1a8ebf",
   "metadata": {},
   "source": [
    "### Some basic checks on Attributes DF"
   ]
  },
  {
   "cell_type": "code",
   "execution_count": 16,
   "id": "4ce25f8f",
   "metadata": {},
   "outputs": [
    {
     "data": {
      "text/html": [
       "<div>\n",
       "<style scoped>\n",
       "    .dataframe tbody tr th:only-of-type {\n",
       "        vertical-align: middle;\n",
       "    }\n",
       "\n",
       "    .dataframe tbody tr th {\n",
       "        vertical-align: top;\n",
       "    }\n",
       "\n",
       "    .dataframe thead th {\n",
       "        text-align: right;\n",
       "    }\n",
       "</style>\n",
       "<table border=\"1\" class=\"dataframe\">\n",
       "  <thead>\n",
       "    <tr style=\"text-align: right;\">\n",
       "      <th></th>\n",
       "      <th>Code</th>\n",
       "      <th>Filter_ID</th>\n",
       "    </tr>\n",
       "  </thead>\n",
       "  <tbody>\n",
       "    <tr>\n",
       "      <th>0</th>\n",
       "      <td>0979236026</td>\n",
       "      <td>31.0</td>\n",
       "    </tr>\n",
       "    <tr>\n",
       "      <th>1</th>\n",
       "      <td>1080623001</td>\n",
       "      <td>31.0</td>\n",
       "    </tr>\n",
       "    <tr>\n",
       "      <th>2</th>\n",
       "      <td>1000128007</td>\n",
       "      <td>31.0</td>\n",
       "    </tr>\n",
       "    <tr>\n",
       "      <th>3</th>\n",
       "      <td>1000128008</td>\n",
       "      <td>31.0</td>\n",
       "    </tr>\n",
       "    <tr>\n",
       "      <th>4</th>\n",
       "      <td>0903309006</td>\n",
       "      <td>31.0</td>\n",
       "    </tr>\n",
       "  </tbody>\n",
       "</table>\n",
       "</div>"
      ],
      "text/plain": [
       "         Code  Filter_ID\n",
       "0  0979236026       31.0\n",
       "1  1080623001       31.0\n",
       "2  1000128007       31.0\n",
       "3  1000128008       31.0\n",
       "4  0903309006       31.0"
      ]
     },
     "execution_count": 16,
     "metadata": {},
     "output_type": "execute_result"
    }
   ],
   "source": [
    "attributes.head()"
   ]
  },
  {
   "cell_type": "code",
   "execution_count": 17,
   "id": "33328025",
   "metadata": {},
   "outputs": [
    {
     "data": {
      "text/plain": [
       "3255"
      ]
     },
     "execution_count": 17,
     "metadata": {},
     "output_type": "execute_result"
    }
   ],
   "source": [
    "attributes['Filter_ID'].nunique()"
   ]
  },
  {
   "cell_type": "code",
   "execution_count": 18,
   "id": "846ff798",
   "metadata": {},
   "outputs": [
    {
     "data": {
      "text/plain": [
       "(141147, 2)"
      ]
     },
     "execution_count": 18,
     "metadata": {},
     "output_type": "execute_result"
    }
   ],
   "source": [
    "attributes.shape"
   ]
  },
  {
   "cell_type": "markdown",
   "id": "357f7b24",
   "metadata": {},
   "source": [
    "We have 6 fewer filter IDs in the attributes DF => Skipping since missing nr is too low"
   ]
  },
  {
   "cell_type": "markdown",
   "id": "677cbf8c",
   "metadata": {},
   "source": [
    "Checking nr of items from final df that have assigned filters and distribution of nr of assigned filters"
   ]
  },
  {
   "cell_type": "code",
   "execution_count": 19,
   "id": "d49c8da9",
   "metadata": {},
   "outputs": [
    {
     "data": {
      "text/plain": [
       "(14304, 7)"
      ]
     },
     "execution_count": 19,
     "metadata": {},
     "output_type": "execute_result"
    }
   ],
   "source": [
    "final_df[final_df['Code'].isin(attributes['Code'].unique())].shape"
   ]
  },
  {
   "cell_type": "markdown",
   "id": "dbc579a9",
   "metadata": {},
   "source": [
    "Approx. 152 items do not have any filters assigned"
   ]
  },
  {
   "cell_type": "code",
   "execution_count": 20,
   "id": "6d4ad6d5",
   "metadata": {},
   "outputs": [],
   "source": [
    "filter_cnts = attributes.groupby('Code').agg({'Filter_ID': ['count', pd.Series.nunique]}).reset_index()"
   ]
  },
  {
   "cell_type": "code",
   "execution_count": 21,
   "id": "b5697198",
   "metadata": {},
   "outputs": [],
   "source": [
    "filter_cnts.columns =['Code', 'Cnt_Filters', 'Unique_Filters']"
   ]
  },
  {
   "cell_type": "markdown",
   "id": "3074d6eb",
   "metadata": {},
   "source": [
    "Checking that count of filters is same as unique nr of filters"
   ]
  },
  {
   "cell_type": "code",
   "execution_count": 22,
   "id": "a2d2a4ec",
   "metadata": {},
   "outputs": [
    {
     "data": {
      "text/plain": [
       "0"
      ]
     },
     "execution_count": 22,
     "metadata": {},
     "output_type": "execute_result"
    }
   ],
   "source": [
    "filter_cnts.apply(lambda row: row['Cnt_Filters'] - row['Unique_Filters'], axis=1).sum()"
   ]
  },
  {
   "cell_type": "code",
   "execution_count": null,
   "id": "90226790",
   "metadata": {},
   "outputs": [],
   "source": []
  },
  {
   "cell_type": "code",
   "execution_count": 23,
   "id": "bf350d1d",
   "metadata": {},
   "outputs": [],
   "source": [
    "final_df = final_df.merge(filter_cnts[['Code', 'Cnt_Filters']], how='left', on='Code')"
   ]
  },
  {
   "cell_type": "code",
   "execution_count": 24,
   "id": "0dd148d7",
   "metadata": {},
   "outputs": [
    {
     "data": {
      "text/html": [
       "<div>\n",
       "<style scoped>\n",
       "    .dataframe tbody tr th:only-of-type {\n",
       "        vertical-align: middle;\n",
       "    }\n",
       "\n",
       "    .dataframe tbody tr th {\n",
       "        vertical-align: top;\n",
       "    }\n",
       "\n",
       "    .dataframe thead th {\n",
       "        text-align: right;\n",
       "    }\n",
       "</style>\n",
       "<table border=\"1\" class=\"dataframe\">\n",
       "  <thead>\n",
       "    <tr style=\"text-align: right;\">\n",
       "      <th></th>\n",
       "      <th>Code</th>\n",
       "      <th>Name</th>\n",
       "      <th>Img_Ext</th>\n",
       "      <th>Parent_Category</th>\n",
       "      <th>Top_Category</th>\n",
       "      <th>Parent_Category_Name</th>\n",
       "      <th>Category_Name</th>\n",
       "      <th>Cnt_Filters</th>\n",
       "    </tr>\n",
       "  </thead>\n",
       "  <tbody>\n",
       "    <tr>\n",
       "      <th>0</th>\n",
       "      <td>1071498001</td>\n",
       "      <td>Cut-out-Shirt</td>\n",
       "      <td>.jpg</td>\n",
       "      <td>0.0</td>\n",
       "      <td>Women</td>\n",
       "      <td>Shirts &amp; Tops</td>\n",
       "      <td>Women_Shirts-&amp;-Tops</td>\n",
       "      <td>9.0</td>\n",
       "    </tr>\n",
       "    <tr>\n",
       "      <th>1</th>\n",
       "      <td>1069183001</td>\n",
       "      <td>Kurzes Shirt mit Cut-out</td>\n",
       "      <td>.jpg</td>\n",
       "      <td>0.0</td>\n",
       "      <td>Women</td>\n",
       "      <td>Shirts &amp; Tops</td>\n",
       "      <td>Women_Shirts-&amp;-Tops</td>\n",
       "      <td>10.0</td>\n",
       "    </tr>\n",
       "    <tr>\n",
       "      <th>2</th>\n",
       "      <td>1069183002</td>\n",
       "      <td>Kurzes Shirt mit Cut-out</td>\n",
       "      <td>.jpg</td>\n",
       "      <td>0.0</td>\n",
       "      <td>Women</td>\n",
       "      <td>Shirts &amp; Tops</td>\n",
       "      <td>Women_Shirts-&amp;-Tops</td>\n",
       "      <td>10.0</td>\n",
       "    </tr>\n",
       "    <tr>\n",
       "      <th>3</th>\n",
       "      <td>1021919001</td>\n",
       "      <td>Pullover mit Cut-outs</td>\n",
       "      <td>.jpg</td>\n",
       "      <td>0.0</td>\n",
       "      <td>Women</td>\n",
       "      <td>Shirts &amp; Tops</td>\n",
       "      <td>Women_Shirts-&amp;-Tops</td>\n",
       "      <td>9.0</td>\n",
       "    </tr>\n",
       "    <tr>\n",
       "      <th>4</th>\n",
       "      <td>1062813001</td>\n",
       "      <td>Tanktop</td>\n",
       "      <td>.jpg</td>\n",
       "      <td>0.0</td>\n",
       "      <td>Women</td>\n",
       "      <td>Shirts &amp; Tops</td>\n",
       "      <td>Women_Shirts-&amp;-Tops</td>\n",
       "      <td>11.0</td>\n",
       "    </tr>\n",
       "  </tbody>\n",
       "</table>\n",
       "</div>"
      ],
      "text/plain": [
       "         Code                      Name Img_Ext  Parent_Category Top_Category  \\\n",
       "0  1071498001             Cut-out-Shirt    .jpg              0.0        Women   \n",
       "1  1069183001  Kurzes Shirt mit Cut-out    .jpg              0.0        Women   \n",
       "2  1069183002  Kurzes Shirt mit Cut-out    .jpg              0.0        Women   \n",
       "3  1021919001     Pullover mit Cut-outs    .jpg              0.0        Women   \n",
       "4  1062813001                   Tanktop    .jpg              0.0        Women   \n",
       "\n",
       "  Parent_Category_Name        Category_Name  Cnt_Filters  \n",
       "0        Shirts & Tops  Women_Shirts-&-Tops          9.0  \n",
       "1        Shirts & Tops  Women_Shirts-&-Tops         10.0  \n",
       "2        Shirts & Tops  Women_Shirts-&-Tops         10.0  \n",
       "3        Shirts & Tops  Women_Shirts-&-Tops          9.0  \n",
       "4        Shirts & Tops  Women_Shirts-&-Tops         11.0  "
      ]
     },
     "execution_count": 24,
     "metadata": {},
     "output_type": "execute_result"
    }
   ],
   "source": [
    "final_df.head()"
   ]
  },
  {
   "cell_type": "code",
   "execution_count": 25,
   "id": "4502ee21",
   "metadata": {},
   "outputs": [
    {
     "data": {
      "text/plain": [
       "<AxesSubplot:xlabel='Cnt_Filters', ylabel='Count'>"
      ]
     },
     "execution_count": 25,
     "metadata": {},
     "output_type": "execute_result"
    },
    {
     "data": {
      "image/png": "[encoded data removed]",
      "text/plain": [
       "<Figure size 432x288 with 1 Axes>"
      ]
     },
     "metadata": {
      "needs_background": "light"
     },
     "output_type": "display_data"
    }
   ],
   "source": [
    "sns.histplot(data=final_df, x='Cnt_Filters')"
   ]
  },
  {
   "cell_type": "code",
   "execution_count": 26,
   "id": "8a74d637",
   "metadata": {},
   "outputs": [
    {
     "data": {
      "text/plain": [
       "count    14304.000000\n",
       "mean         7.322218\n",
       "std          3.232014\n",
       "min          1.000000\n",
       "25%          5.000000\n",
       "50%          7.000000\n",
       "75%          9.000000\n",
       "max         25.000000\n",
       "Name: Cnt_Filters, dtype: float64"
      ]
     },
     "execution_count": 26,
     "metadata": {},
     "output_type": "execute_result"
    }
   ],
   "source": [
    "final_df['Cnt_Filters'].describe()"
   ]
  },
  {
   "cell_type": "code",
   "execution_count": 27,
   "id": "6bc3d353",
   "metadata": {},
   "outputs": [
    {
     "data": {
      "text/plain": [
       "Cnt_Filters\n",
       "1.0       20\n",
       "2.0      281\n",
       "3.0     1137\n",
       "4.0     1183\n",
       "5.0     1263\n",
       "6.0     1940\n",
       "7.0     2276\n",
       "8.0     2186\n",
       "9.0     1642\n",
       "10.0     959\n",
       "11.0     398\n",
       "12.0     215\n",
       "13.0      25\n",
       "14.0     212\n",
       "15.0      14\n",
       "16.0     250\n",
       "17.0       4\n",
       "18.0     181\n",
       "20.0      63\n",
       "21.0      15\n",
       "22.0      27\n",
       "24.0      12\n",
       "25.0       1\n",
       "Name: Code, dtype: int64"
      ]
     },
     "execution_count": 27,
     "metadata": {},
     "output_type": "execute_result"
    }
   ],
   "source": [
    "final_df.groupby('Cnt_Filters')['Code'].nunique()"
   ]
  },
  {
   "cell_type": "code",
   "execution_count": 28,
   "id": "c9ef03d7",
   "metadata": {},
   "outputs": [
    {
     "data": {
      "text/html": [
       "<div>\n",
       "<style scoped>\n",
       "    .dataframe tbody tr th:only-of-type {\n",
       "        vertical-align: middle;\n",
       "    }\n",
       "\n",
       "    .dataframe tbody tr th {\n",
       "        vertical-align: top;\n",
       "    }\n",
       "\n",
       "    .dataframe thead th {\n",
       "        text-align: right;\n",
       "    }\n",
       "</style>\n",
       "<table border=\"1\" class=\"dataframe\">\n",
       "  <thead>\n",
       "    <tr style=\"text-align: right;\">\n",
       "      <th></th>\n",
       "      <th>Code</th>\n",
       "      <th>Name</th>\n",
       "      <th>Img_Ext</th>\n",
       "      <th>Parent_Category</th>\n",
       "      <th>Top_Category</th>\n",
       "      <th>Parent_Category_Name</th>\n",
       "      <th>Category_Name</th>\n",
       "      <th>Cnt_Filters</th>\n",
       "    </tr>\n",
       "  </thead>\n",
       "  <tbody>\n",
       "    <tr>\n",
       "      <th>22</th>\n",
       "      <td>0989072003</td>\n",
       "      <td>Tanktop aus Kaschmir</td>\n",
       "      <td>.jpg</td>\n",
       "      <td>0.0</td>\n",
       "      <td>Women</td>\n",
       "      <td>Shirts &amp; Tops</td>\n",
       "      <td>Women_Shirts-&amp;-Tops</td>\n",
       "      <td>18.0</td>\n",
       "    </tr>\n",
       "    <tr>\n",
       "      <th>34</th>\n",
       "      <td>0997152001</td>\n",
       "      <td>Geripptes Strick-Tanktop</td>\n",
       "      <td>.jpg</td>\n",
       "      <td>0.0</td>\n",
       "      <td>Women</td>\n",
       "      <td>Shirts &amp; Tops</td>\n",
       "      <td>Women_Shirts-&amp;-Tops</td>\n",
       "      <td>18.0</td>\n",
       "    </tr>\n",
       "    <tr>\n",
       "      <th>51</th>\n",
       "      <td>0978903004</td>\n",
       "      <td>Kurzes Tanktop</td>\n",
       "      <td>.jpg</td>\n",
       "      <td>0.0</td>\n",
       "      <td>Women</td>\n",
       "      <td>Shirts &amp; Tops</td>\n",
       "      <td>Women_Shirts-&amp;-Tops</td>\n",
       "      <td>18.0</td>\n",
       "    </tr>\n",
       "    <tr>\n",
       "      <th>56</th>\n",
       "      <td>0978903001</td>\n",
       "      <td>Kurzes Tanktop</td>\n",
       "      <td>.jpg</td>\n",
       "      <td>0.0</td>\n",
       "      <td>Women</td>\n",
       "      <td>Shirts &amp; Tops</td>\n",
       "      <td>Women_Shirts-&amp;-Tops</td>\n",
       "      <td>18.0</td>\n",
       "    </tr>\n",
       "    <tr>\n",
       "      <th>71</th>\n",
       "      <td>0978903003</td>\n",
       "      <td>Kurzes Tanktop</td>\n",
       "      <td>.jpg</td>\n",
       "      <td>0.0</td>\n",
       "      <td>Women</td>\n",
       "      <td>Shirts &amp; Tops</td>\n",
       "      <td>Women_Shirts-&amp;-Tops</td>\n",
       "      <td>18.0</td>\n",
       "    </tr>\n",
       "    <tr>\n",
       "      <th>...</th>\n",
       "      <td>...</td>\n",
       "      <td>...</td>\n",
       "      <td>...</td>\n",
       "      <td>...</td>\n",
       "      <td>...</td>\n",
       "      <td>...</td>\n",
       "      <td>...</td>\n",
       "      <td>...</td>\n",
       "    </tr>\n",
       "    <tr>\n",
       "      <th>13927</th>\n",
       "      <td>0969291002</td>\n",
       "      <td>Gemusterte Windjacke</td>\n",
       "      <td>.jpg</td>\n",
       "      <td>368.0</td>\n",
       "      <td>Kids</td>\n",
       "      <td>Outdoor</td>\n",
       "      <td>Kids_Outdoor</td>\n",
       "      <td>18.0</td>\n",
       "    </tr>\n",
       "    <tr>\n",
       "      <th>13928</th>\n",
       "      <td>0967246001</td>\n",
       "      <td>Wasserabweisender Parka</td>\n",
       "      <td>.jpg</td>\n",
       "      <td>368.0</td>\n",
       "      <td>Kids</td>\n",
       "      <td>Outdoor</td>\n",
       "      <td>Kids_Outdoor</td>\n",
       "      <td>18.0</td>\n",
       "    </tr>\n",
       "    <tr>\n",
       "      <th>13960</th>\n",
       "      <td>0967113001</td>\n",
       "      <td>Wasserdichter Overall</td>\n",
       "      <td>.jpg</td>\n",
       "      <td>368.0</td>\n",
       "      <td>Kids</td>\n",
       "      <td>Outdoor</td>\n",
       "      <td>Kids_Outdoor</td>\n",
       "      <td>18.0</td>\n",
       "    </tr>\n",
       "    <tr>\n",
       "      <th>13962</th>\n",
       "      <td>1028319001</td>\n",
       "      <td>Wind- und wasserdichte Shellhose</td>\n",
       "      <td>.jpg</td>\n",
       "      <td>368.0</td>\n",
       "      <td>Kids</td>\n",
       "      <td>Outdoor</td>\n",
       "      <td>Kids_Outdoor</td>\n",
       "      <td>18.0</td>\n",
       "    </tr>\n",
       "    <tr>\n",
       "      <th>13966</th>\n",
       "      <td>1028318001</td>\n",
       "      <td>Regenhose mit Trägern</td>\n",
       "      <td>.jpg</td>\n",
       "      <td>368.0</td>\n",
       "      <td>Kids</td>\n",
       "      <td>Outdoor</td>\n",
       "      <td>Kids_Outdoor</td>\n",
       "      <td>18.0</td>\n",
       "    </tr>\n",
       "  </tbody>\n",
       "</table>\n",
       "<p>181 rows × 8 columns</p>\n",
       "</div>"
      ],
      "text/plain": [
       "             Code                              Name Img_Ext  Parent_Category  \\\n",
       "22     0989072003              Tanktop aus Kaschmir    .jpg              0.0   \n",
       "34     0997152001          Geripptes Strick-Tanktop    .jpg              0.0   \n",
       "51     0978903004                    Kurzes Tanktop    .jpg              0.0   \n",
       "56     0978903001                    Kurzes Tanktop    .jpg              0.0   \n",
       "71     0978903003                    Kurzes Tanktop    .jpg              0.0   \n",
       "...           ...                               ...     ...              ...   \n",
       "13927  0969291002              Gemusterte Windjacke    .jpg            368.0   \n",
       "13928  0967246001           Wasserabweisender Parka    .jpg            368.0   \n",
       "13960  0967113001             Wasserdichter Overall    .jpg            368.0   \n",
       "13962  1028319001  Wind- und wasserdichte Shellhose    .jpg            368.0   \n",
       "13966  1028318001             Regenhose mit Trägern    .jpg            368.0   \n",
       "\n",
       "      Top_Category Parent_Category_Name        Category_Name  Cnt_Filters  \n",
       "22           Women        Shirts & Tops  Women_Shirts-&-Tops         18.0  \n",
       "34           Women        Shirts & Tops  Women_Shirts-&-Tops         18.0  \n",
       "51           Women        Shirts & Tops  Women_Shirts-&-Tops         18.0  \n",
       "56           Women        Shirts & Tops  Women_Shirts-&-Tops         18.0  \n",
       "71           Women        Shirts & Tops  Women_Shirts-&-Tops         18.0  \n",
       "...            ...                  ...                  ...          ...  \n",
       "13927         Kids              Outdoor         Kids_Outdoor         18.0  \n",
       "13928         Kids              Outdoor         Kids_Outdoor         18.0  \n",
       "13960         Kids              Outdoor         Kids_Outdoor         18.0  \n",
       "13962         Kids              Outdoor         Kids_Outdoor         18.0  \n",
       "13966         Kids              Outdoor         Kids_Outdoor         18.0  \n",
       "\n",
       "[181 rows x 8 columns]"
      ]
     },
     "execution_count": 28,
     "metadata": {},
     "output_type": "execute_result"
    }
   ],
   "source": [
    "# Checking some random products and their filters\n",
    "final_df[final_df['Cnt_Filters'] == 18]"
   ]
  },
  {
   "cell_type": "code",
   "execution_count": 29,
   "id": "e82ee9af",
   "metadata": {},
   "outputs": [
    {
     "data": {
      "text/html": [
       "<div>\n",
       "<style scoped>\n",
       "    .dataframe tbody tr th:only-of-type {\n",
       "        vertical-align: middle;\n",
       "    }\n",
       "\n",
       "    .dataframe tbody tr th {\n",
       "        vertical-align: top;\n",
       "    }\n",
       "\n",
       "    .dataframe thead th {\n",
       "        text-align: right;\n",
       "    }\n",
       "</style>\n",
       "<table border=\"1\" class=\"dataframe\">\n",
       "  <thead>\n",
       "    <tr style=\"text-align: right;\">\n",
       "      <th></th>\n",
       "      <th>Code</th>\n",
       "      <th>Filter_ID</th>\n",
       "      <th>Parent_Category</th>\n",
       "      <th>Filter_Name</th>\n",
       "      <th>Filter_Option</th>\n",
       "    </tr>\n",
       "  </thead>\n",
       "  <tbody>\n",
       "    <tr>\n",
       "      <th>26</th>\n",
       "      <td>0989072003</td>\n",
       "      <td>31.0</td>\n",
       "      <td>0</td>\n",
       "      <td>Farbe</td>\n",
       "      <td>[Beige, colorWithNames=beige_f5f5dc]</td>\n",
       "    </tr>\n",
       "    <tr>\n",
       "      <th>95</th>\n",
       "      <td>0989072003</td>\n",
       "      <td>48.0</td>\n",
       "      <td>0</td>\n",
       "      <td>MUSTER</td>\n",
       "      <td>[einfarbig, patterns=einfarbig]</td>\n",
       "    </tr>\n",
       "    <tr>\n",
       "      <th>51</th>\n",
       "      <td>0989072003</td>\n",
       "      <td>62.0</td>\n",
       "      <td>0</td>\n",
       "      <td>Produkttyp</td>\n",
       "      <td>[Top, productTypes=Top]</td>\n",
       "    </tr>\n",
       "    <tr>\n",
       "      <th>8</th>\n",
       "      <td>0989072003</td>\n",
       "      <td>80.0</td>\n",
       "      <td>0</td>\n",
       "      <td>Style</td>\n",
       "      <td>[Tanktop, clothingStyles=Tanktop]</td>\n",
       "    </tr>\n",
       "    <tr>\n",
       "      <th>70</th>\n",
       "      <td>0989072003</td>\n",
       "      <td>92.0</td>\n",
       "      <td>0</td>\n",
       "      <td>Ausschnitt</td>\n",
       "      <td>[Rundausschnitt, necklineStyles=Rundausschnitt]</td>\n",
       "    </tr>\n",
       "    <tr>\n",
       "      <th>25</th>\n",
       "      <td>0989072003</td>\n",
       "      <td>99.0</td>\n",
       "      <td>0</td>\n",
       "      <td>Ärmellänge</td>\n",
       "      <td>[Ärmellos, sleeveLengths=%C3%84rmellos]</td>\n",
       "    </tr>\n",
       "    <tr>\n",
       "      <th>85</th>\n",
       "      <td>0989072003</td>\n",
       "      <td>103.0</td>\n",
       "      <td>0</td>\n",
       "      <td>Länge</td>\n",
       "      <td>[Normale Länge, garmentLengths=Normale+L%C3%A4...</td>\n",
       "    </tr>\n",
       "    <tr>\n",
       "      <th>106</th>\n",
       "      <td>0989072003</td>\n",
       "      <td>122.0</td>\n",
       "      <td>0</td>\n",
       "      <td>Anlass</td>\n",
       "      <td>[Freizeit, contexts=Freizeit]</td>\n",
       "    </tr>\n",
       "    <tr>\n",
       "      <th>4</th>\n",
       "      <td>0989072003</td>\n",
       "      <td>123.0</td>\n",
       "      <td>0</td>\n",
       "      <td>Anlass</td>\n",
       "      <td>[Lounge, contexts=Lounge]</td>\n",
       "    </tr>\n",
       "    <tr>\n",
       "      <th>14</th>\n",
       "      <td>0989072003</td>\n",
       "      <td>1976.0</td>\n",
       "      <td>17</td>\n",
       "      <td>Farbe</td>\n",
       "      <td>[Beige, colorWithNames=beige_f5f5dc]</td>\n",
       "    </tr>\n",
       "    <tr>\n",
       "      <th>20</th>\n",
       "      <td>0989072003</td>\n",
       "      <td>1987.0</td>\n",
       "      <td>17</td>\n",
       "      <td>MUSTER</td>\n",
       "      <td>[einfarbig, patterns=einfarbig]</td>\n",
       "    </tr>\n",
       "    <tr>\n",
       "      <th>4</th>\n",
       "      <td>0989072003</td>\n",
       "      <td>2001.0</td>\n",
       "      <td>17</td>\n",
       "      <td>Produkttyp</td>\n",
       "      <td>[Top, productTypes=Top]</td>\n",
       "    </tr>\n",
       "    <tr>\n",
       "      <th>1</th>\n",
       "      <td>0989072003</td>\n",
       "      <td>2017.0</td>\n",
       "      <td>17</td>\n",
       "      <td>Style</td>\n",
       "      <td>[Tanktop, clothingStyles=Tanktop]</td>\n",
       "    </tr>\n",
       "    <tr>\n",
       "      <th>6</th>\n",
       "      <td>0989072003</td>\n",
       "      <td>2028.0</td>\n",
       "      <td>17</td>\n",
       "      <td>Ausschnitt</td>\n",
       "      <td>[Rundausschnitt, necklineStyles=Rundausschnitt]</td>\n",
       "    </tr>\n",
       "    <tr>\n",
       "      <th>3</th>\n",
       "      <td>0989072003</td>\n",
       "      <td>2034.0</td>\n",
       "      <td>17</td>\n",
       "      <td>Ärmellänge</td>\n",
       "      <td>[Ärmellos, sleeveLengths=%C3%84rmellos]</td>\n",
       "    </tr>\n",
       "    <tr>\n",
       "      <th>9</th>\n",
       "      <td>0989072003</td>\n",
       "      <td>2042.0</td>\n",
       "      <td>17</td>\n",
       "      <td>Länge</td>\n",
       "      <td>[Normale Länge, garmentLengths=Normale+L%C3%A4...</td>\n",
       "    </tr>\n",
       "    <tr>\n",
       "      <th>0</th>\n",
       "      <td>0989072003</td>\n",
       "      <td>2053.0</td>\n",
       "      <td>17</td>\n",
       "      <td>Anlass</td>\n",
       "      <td>[Freizeit, contexts=Freizeit]</td>\n",
       "    </tr>\n",
       "    <tr>\n",
       "      <th>24</th>\n",
       "      <td>0989072003</td>\n",
       "      <td>2054.0</td>\n",
       "      <td>17</td>\n",
       "      <td>Anlass</td>\n",
       "      <td>[Lounge, contexts=Lounge]</td>\n",
       "    </tr>\n",
       "  </tbody>\n",
       "</table>\n",
       "</div>"
      ],
      "text/plain": [
       "           Code  Filter_ID  Parent_Category Filter_Name  \\\n",
       "26   0989072003       31.0                0       Farbe   \n",
       "95   0989072003       48.0                0      MUSTER   \n",
       "51   0989072003       62.0                0  Produkttyp   \n",
       "8    0989072003       80.0                0       Style   \n",
       "70   0989072003       92.0                0  Ausschnitt   \n",
       "25   0989072003       99.0                0  Ärmellänge   \n",
       "85   0989072003      103.0                0       Länge   \n",
       "106  0989072003      122.0                0      Anlass   \n",
       "4    0989072003      123.0                0      Anlass   \n",
       "14   0989072003     1976.0               17       Farbe   \n",
       "20   0989072003     1987.0               17      MUSTER   \n",
       "4    0989072003     2001.0               17  Produkttyp   \n",
       "1    0989072003     2017.0               17       Style   \n",
       "6    0989072003     2028.0               17  Ausschnitt   \n",
       "3    0989072003     2034.0               17  Ärmellänge   \n",
       "9    0989072003     2042.0               17       Länge   \n",
       "0    0989072003     2053.0               17      Anlass   \n",
       "24   0989072003     2054.0               17      Anlass   \n",
       "\n",
       "                                         Filter_Option  \n",
       "26                [Beige, colorWithNames=beige_f5f5dc]  \n",
       "95                     [einfarbig, patterns=einfarbig]  \n",
       "51                             [Top, productTypes=Top]  \n",
       "8                    [Tanktop, clothingStyles=Tanktop]  \n",
       "70     [Rundausschnitt, necklineStyles=Rundausschnitt]  \n",
       "25             [Ärmellos, sleeveLengths=%C3%84rmellos]  \n",
       "85   [Normale Länge, garmentLengths=Normale+L%C3%A4...  \n",
       "106                      [Freizeit, contexts=Freizeit]  \n",
       "4                            [Lounge, contexts=Lounge]  \n",
       "14                [Beige, colorWithNames=beige_f5f5dc]  \n",
       "20                     [einfarbig, patterns=einfarbig]  \n",
       "4                              [Top, productTypes=Top]  \n",
       "1                    [Tanktop, clothingStyles=Tanktop]  \n",
       "6      [Rundausschnitt, necklineStyles=Rundausschnitt]  \n",
       "3              [Ärmellos, sleeveLengths=%C3%84rmellos]  \n",
       "9    [Normale Länge, garmentLengths=Normale+L%C3%A4...  \n",
       "0                        [Freizeit, contexts=Freizeit]  \n",
       "24                           [Lounge, contexts=Lounge]  "
      ]
     },
     "execution_count": 29,
     "metadata": {},
     "output_type": "execute_result"
    }
   ],
   "source": [
    "attributes[attributes['Code'] == '0989072003'].merge(filters, left_on='Filter_ID', right_index=True, how='left')"
   ]
  },
  {
   "cell_type": "markdown",
   "id": "3ee8beaf",
   "metadata": {},
   "source": [
    "### Preparing a DF with only the items in Final DF and their attributes"
   ]
  },
  {
   "cell_type": "code",
   "execution_count": 30,
   "id": "82550532",
   "metadata": {},
   "outputs": [],
   "source": [
    "attribs = attributes[attributes['Code'].isin(final_df['Code'].unique())]"
   ]
  },
  {
   "cell_type": "code",
   "execution_count": 31,
   "id": "d2fdb2bd",
   "metadata": {},
   "outputs": [],
   "source": [
    "attribs = attributes.merge(filters, left_on='Filter_ID', right_index=True, how='left')"
   ]
  },
  {
   "cell_type": "code",
   "execution_count": 32,
   "id": "c7191b44",
   "metadata": {},
   "outputs": [
    {
     "data": {
      "text/plain": [
       "(141147, 5)"
      ]
     },
     "execution_count": 32,
     "metadata": {},
     "output_type": "execute_result"
    }
   ],
   "source": [
    "attribs.shape"
   ]
  },
  {
   "cell_type": "code",
   "execution_count": 33,
   "id": "6be72708",
   "metadata": {},
   "outputs": [
    {
     "data": {
      "text/html": [
       "<div>\n",
       "<style scoped>\n",
       "    .dataframe tbody tr th:only-of-type {\n",
       "        vertical-align: middle;\n",
       "    }\n",
       "\n",
       "    .dataframe tbody tr th {\n",
       "        vertical-align: top;\n",
       "    }\n",
       "\n",
       "    .dataframe thead th {\n",
       "        text-align: right;\n",
       "    }\n",
       "</style>\n",
       "<table border=\"1\" class=\"dataframe\">\n",
       "  <thead>\n",
       "    <tr style=\"text-align: right;\">\n",
       "      <th></th>\n",
       "      <th>Code</th>\n",
       "      <th>Filter_ID</th>\n",
       "      <th>Parent_Category</th>\n",
       "      <th>Filter_Name</th>\n",
       "      <th>Filter_Option</th>\n",
       "    </tr>\n",
       "  </thead>\n",
       "  <tbody>\n",
       "    <tr>\n",
       "      <th>0</th>\n",
       "      <td>0979236026</td>\n",
       "      <td>31.0</td>\n",
       "      <td>0</td>\n",
       "      <td>Farbe</td>\n",
       "      <td>[Beige, colorWithNames=beige_f5f5dc]</td>\n",
       "    </tr>\n",
       "    <tr>\n",
       "      <th>1</th>\n",
       "      <td>1080623001</td>\n",
       "      <td>31.0</td>\n",
       "      <td>0</td>\n",
       "      <td>Farbe</td>\n",
       "      <td>[Beige, colorWithNames=beige_f5f5dc]</td>\n",
       "    </tr>\n",
       "    <tr>\n",
       "      <th>2</th>\n",
       "      <td>1000128007</td>\n",
       "      <td>31.0</td>\n",
       "      <td>0</td>\n",
       "      <td>Farbe</td>\n",
       "      <td>[Beige, colorWithNames=beige_f5f5dc]</td>\n",
       "    </tr>\n",
       "    <tr>\n",
       "      <th>3</th>\n",
       "      <td>1000128008</td>\n",
       "      <td>31.0</td>\n",
       "      <td>0</td>\n",
       "      <td>Farbe</td>\n",
       "      <td>[Beige, colorWithNames=beige_f5f5dc]</td>\n",
       "    </tr>\n",
       "    <tr>\n",
       "      <th>4</th>\n",
       "      <td>0903309006</td>\n",
       "      <td>31.0</td>\n",
       "      <td>0</td>\n",
       "      <td>Farbe</td>\n",
       "      <td>[Beige, colorWithNames=beige_f5f5dc]</td>\n",
       "    </tr>\n",
       "  </tbody>\n",
       "</table>\n",
       "</div>"
      ],
      "text/plain": [
       "         Code  Filter_ID  Parent_Category Filter_Name  \\\n",
       "0  0979236026       31.0                0       Farbe   \n",
       "1  1080623001       31.0                0       Farbe   \n",
       "2  1000128007       31.0                0       Farbe   \n",
       "3  1000128008       31.0                0       Farbe   \n",
       "4  0903309006       31.0                0       Farbe   \n",
       "\n",
       "                          Filter_Option  \n",
       "0  [Beige, colorWithNames=beige_f5f5dc]  \n",
       "1  [Beige, colorWithNames=beige_f5f5dc]  \n",
       "2  [Beige, colorWithNames=beige_f5f5dc]  \n",
       "3  [Beige, colorWithNames=beige_f5f5dc]  \n",
       "4  [Beige, colorWithNames=beige_f5f5dc]  "
      ]
     },
     "execution_count": 33,
     "metadata": {},
     "output_type": "execute_result"
    }
   ],
   "source": [
    "attribs.head()"
   ]
  },
  {
   "cell_type": "markdown",
   "id": "56fe5e6a",
   "metadata": {},
   "source": [
    "### Checking unique filter names and associated count of filter options"
   ]
  },
  {
   "cell_type": "code",
   "execution_count": 34,
   "id": "1504bf5a",
   "metadata": {},
   "outputs": [
    {
     "data": {
      "text/plain": [
       "20"
      ]
     },
     "execution_count": 34,
     "metadata": {},
     "output_type": "execute_result"
    }
   ],
   "source": [
    "attribs['Filter_Name'].nunique()"
   ]
  },
  {
   "cell_type": "markdown",
   "id": "f71242c5",
   "metadata": {},
   "source": [
    "So, there are 20 unique filter names"
   ]
  },
  {
   "cell_type": "code",
   "execution_count": 35,
   "id": "c7f07908",
   "metadata": {},
   "outputs": [
    {
     "data": {
      "text/plain": [
       "Code                object\n",
       "Filter_ID          float64\n",
       "Parent_Category      int64\n",
       "Filter_Name         object\n",
       "Filter_Option       object\n",
       "dtype: object"
      ]
     },
     "execution_count": 35,
     "metadata": {},
     "output_type": "execute_result"
    }
   ],
   "source": [
    "attribs.dtypes"
   ]
  },
  {
   "cell_type": "code",
   "execution_count": 36,
   "id": "811e7421",
   "metadata": {},
   "outputs": [],
   "source": [
    "attribs['Filter_Option_Txt'] = attribs.apply(lambda row: row['Filter_Option'][0], axis=1)"
   ]
  },
  {
   "cell_type": "code",
   "execution_count": 37,
   "id": "668a8e45",
   "metadata": {},
   "outputs": [
    {
     "data": {
      "text/plain": [
       "array(['Absatzhöhe', 'Accessoirestil', 'Anlass', 'Ausschnitt', 'Bundhöhe',\n",
       "       'Deckkraft', 'Farbe', 'Finish', 'Funktion', 'Hautton', 'Konzept',\n",
       "       'Kragen', 'Länge', 'MUSTER', 'Passform', 'Produkttyp', 'Schuhstil',\n",
       "       'Style', 'Ärmellänge', 'Ärmelstil'], dtype=object)"
      ]
     },
     "execution_count": 37,
     "metadata": {},
     "output_type": "execute_result"
    }
   ],
   "source": [
    "attribs['Filter_Name'].sort_values().unique()"
   ]
  },
  {
   "cell_type": "code",
   "execution_count": 38,
   "id": "3f05dda8",
   "metadata": {},
   "outputs": [
    {
     "data": {
      "text/plain": [
       "array(['Ohne Absatz', 'Ohne Absatz', 'Bucket Hat', 'Bucket Hat',\n",
       "       'Freizeit', 'Freizeit', 'Rundausschnitt', 'Rundausschnitt',\n",
       "       'Hoher Bund', 'Normale Bundhöhe', 'Mittlere Deckkraft',\n",
       "       'Mittlere Deckkraft', 'Lila', 'Schwarz', 'Natürliches Finish',\n",
       "       'Mattes Finish', 'Schnelltrocknend', 'Schnelltrocknend',\n",
       "       'Sehr heller Hautton', 'Mittlerer bis dunkler Hautton',\n",
       "       'H&M BEAUTY', 'DIVIDED', 'Turn-down-Kragen', 'Turn-down-Kragen',\n",
       "       'Lang', 'Lang', 'einfarbig', 'einfarbig', 'Oversize',\n",
       "       'Super Skinny Fit', 'Cardigan', 'Jacke', 'Sneaker', 'Slip-on',\n",
       "       'Kapuzenshirt', 'Steppjacke', 'Langarm', 'Kurzarm', 'Raglanärmel',\n",
       "       'Volantärmel'], dtype=object)"
      ]
     },
     "execution_count": 38,
     "metadata": {},
     "output_type": "execute_result"
    }
   ],
   "source": [
    "attribs.groupby('Filter_Name')['Filter_Option_Txt'].sample(2).values"
   ]
  },
  {
   "cell_type": "code",
   "execution_count": 39,
   "id": "deb8478b",
   "metadata": {},
   "outputs": [],
   "source": [
    "eng_convert = dict(zip(list(['Absatzhöhe', 'Accessoirestil', 'Anlass', 'Ausschnitt', 'Bundhöhe',\n",
    "       'Deckkraft', 'Farbe', 'Finish', 'Funktion', 'Hautton', 'Konzept',\n",
    "       'Kragen', 'Länge', 'MUSTER', 'Passform', 'Produkttyp', 'Schuhstil',\n",
    "       'Style', 'Ärmellänge', 'Ärmelstil']), list([x.title() for x in \n",
    "    ['heel height', 'accessory style', 'occasion', 'neckline', 'waist height', 'Opacity', 'Color', 'Finish', 'Function', 'Skin Tone', 'Concept', 'collar', 'length', 'pattern', 'fit', 'product type', 'shoe style', 'style', 'sleeve length', 'sleeve style']\n",
    "])))"
   ]
  },
  {
   "cell_type": "code",
   "execution_count": 40,
   "id": "3a7a3430",
   "metadata": {},
   "outputs": [],
   "source": [
    "attribs['Filter_Name_Eng'] = attribs.apply(lambda row: eng_convert[row['Filter_Name']], axis=1)"
   ]
  },
  {
   "cell_type": "code",
   "execution_count": 41,
   "id": "049f6a4a",
   "metadata": {},
   "outputs": [
    {
     "data": {
      "text/html": [
       "<div>\n",
       "<style scoped>\n",
       "    .dataframe tbody tr th:only-of-type {\n",
       "        vertical-align: middle;\n",
       "    }\n",
       "\n",
       "    .dataframe tbody tr th {\n",
       "        vertical-align: top;\n",
       "    }\n",
       "\n",
       "    .dataframe thead th {\n",
       "        text-align: right;\n",
       "    }\n",
       "</style>\n",
       "<table border=\"1\" class=\"dataframe\">\n",
       "  <thead>\n",
       "    <tr style=\"text-align: right;\">\n",
       "      <th></th>\n",
       "      <th>Number_Of_Options_In_Filter</th>\n",
       "    </tr>\n",
       "    <tr>\n",
       "      <th>Filter_Name_Eng</th>\n",
       "      <th></th>\n",
       "    </tr>\n",
       "  </thead>\n",
       "  <tbody>\n",
       "    <tr>\n",
       "      <th>Accessory Style</th>\n",
       "      <td>43</td>\n",
       "    </tr>\n",
       "    <tr>\n",
       "      <th>Collar</th>\n",
       "      <td>13</td>\n",
       "    </tr>\n",
       "    <tr>\n",
       "      <th>Color</th>\n",
       "      <td>18</td>\n",
       "    </tr>\n",
       "    <tr>\n",
       "      <th>Concept</th>\n",
       "      <td>12</td>\n",
       "    </tr>\n",
       "    <tr>\n",
       "      <th>Finish</th>\n",
       "      <td>4</td>\n",
       "    </tr>\n",
       "    <tr>\n",
       "      <th>Fit</th>\n",
       "      <td>9</td>\n",
       "    </tr>\n",
       "    <tr>\n",
       "      <th>Function</th>\n",
       "      <td>9</td>\n",
       "    </tr>\n",
       "    <tr>\n",
       "      <th>Heel Height</th>\n",
       "      <td>3</td>\n",
       "    </tr>\n",
       "    <tr>\n",
       "      <th>Length</th>\n",
       "      <td>10</td>\n",
       "    </tr>\n",
       "    <tr>\n",
       "      <th>Neckline</th>\n",
       "      <td>10</td>\n",
       "    </tr>\n",
       "    <tr>\n",
       "      <th>Occasion</th>\n",
       "      <td>9</td>\n",
       "    </tr>\n",
       "    <tr>\n",
       "      <th>Opacity</th>\n",
       "      <td>3</td>\n",
       "    </tr>\n",
       "    <tr>\n",
       "      <th>Pattern</th>\n",
       "      <td>20</td>\n",
       "    </tr>\n",
       "    <tr>\n",
       "      <th>Product Type</th>\n",
       "      <td>180</td>\n",
       "    </tr>\n",
       "    <tr>\n",
       "      <th>Shoe Style</th>\n",
       "      <td>24</td>\n",
       "    </tr>\n",
       "    <tr>\n",
       "      <th>Skin Tone</th>\n",
       "      <td>4</td>\n",
       "    </tr>\n",
       "    <tr>\n",
       "      <th>Sleeve Length</th>\n",
       "      <td>5</td>\n",
       "    </tr>\n",
       "    <tr>\n",
       "      <th>Sleeve Style</th>\n",
       "      <td>9</td>\n",
       "    </tr>\n",
       "    <tr>\n",
       "      <th>Style</th>\n",
       "      <td>116</td>\n",
       "    </tr>\n",
       "    <tr>\n",
       "      <th>Waist Height</th>\n",
       "      <td>4</td>\n",
       "    </tr>\n",
       "  </tbody>\n",
       "</table>\n",
       "</div>"
      ],
      "text/plain": [
       "                 Number_Of_Options_In_Filter\n",
       "Filter_Name_Eng                             \n",
       "Accessory Style                           43\n",
       "Collar                                    13\n",
       "Color                                     18\n",
       "Concept                                   12\n",
       "Finish                                     4\n",
       "Fit                                        9\n",
       "Function                                   9\n",
       "Heel Height                                3\n",
       "Length                                    10\n",
       "Neckline                                  10\n",
       "Occasion                                   9\n",
       "Opacity                                    3\n",
       "Pattern                                   20\n",
       "Product Type                             180\n",
       "Shoe Style                                24\n",
       "Skin Tone                                  4\n",
       "Sleeve Length                              5\n",
       "Sleeve Style                               9\n",
       "Style                                    116\n",
       "Waist Height                               4"
      ]
     },
     "execution_count": 41,
     "metadata": {},
     "output_type": "execute_result"
    }
   ],
   "source": [
    "unique_filters = attribs.groupby('Filter_Name_Eng')['Filter_Option_Txt'].nunique()\n",
    "pd.DataFrame(unique_filters).rename(columns={'Filter_Option_Txt': 'Number_Of_Options_In_Filter'})"
   ]
  },
  {
   "cell_type": "markdown",
   "id": "5eb056b7",
   "metadata": {},
   "source": [
    "### Checking some values for each filter to decide to keep / discard"
   ]
  },
  {
   "cell_type": "code",
   "execution_count": 42,
   "id": "ca01ead1",
   "metadata": {},
   "outputs": [
    {
     "data": {
      "text/html": [
       "<div>\n",
       "<style scoped>\n",
       "    .dataframe tbody tr th:only-of-type {\n",
       "        vertical-align: middle;\n",
       "    }\n",
       "\n",
       "    .dataframe tbody tr th {\n",
       "        vertical-align: top;\n",
       "    }\n",
       "\n",
       "    .dataframe thead th {\n",
       "        text-align: right;\n",
       "    }\n",
       "</style>\n",
       "<table border=\"1\" class=\"dataframe\">\n",
       "  <thead>\n",
       "    <tr style=\"text-align: right;\">\n",
       "      <th></th>\n",
       "      <th>Filter_Name_Eng</th>\n",
       "      <th>Samples</th>\n",
       "    </tr>\n",
       "  </thead>\n",
       "  <tbody>\n",
       "    <tr>\n",
       "      <th>0</th>\n",
       "      <td>Accessory Style</td>\n",
       "      <td>[Baseballcap, Baseballcap, Sonnenhut, Gliederk...</td>\n",
       "    </tr>\n",
       "    <tr>\n",
       "      <th>1</th>\n",
       "      <td>Collar</td>\n",
       "      <td>[Stehkragen, Turn-down-Kragen, Bubikragen, Ste...</td>\n",
       "    </tr>\n",
       "    <tr>\n",
       "      <th>2</th>\n",
       "      <td>Color</td>\n",
       "      <td>[Weiß, Grün, Grün, Weiß, Blau]</td>\n",
       "    </tr>\n",
       "    <tr>\n",
       "      <th>3</th>\n",
       "      <td>Concept</td>\n",
       "      <td>[DENIM, BASICS, H&amp;M BEAUTY, EVERYDAY FASHION, ...</td>\n",
       "    </tr>\n",
       "    <tr>\n",
       "      <th>4</th>\n",
       "      <td>Finish</td>\n",
       "      <td>[Glänzendes Finish, Glänzendes Finish, Strahle...</td>\n",
       "    </tr>\n",
       "    <tr>\n",
       "      <th>5</th>\n",
       "      <td>Fit</td>\n",
       "      <td>[Slim Fit, Oversize, Regular Fit, Figurbetont,...</td>\n",
       "    </tr>\n",
       "    <tr>\n",
       "      <th>6</th>\n",
       "      <td>Function</td>\n",
       "      <td>[Schnelltrocknend, Schnelltrocknend, Reflektor...</td>\n",
       "    </tr>\n",
       "    <tr>\n",
       "      <th>7</th>\n",
       "      <td>Heel Height</td>\n",
       "      <td>[Ohne Absatz, Ohne Absatz, Niedriger Absatz]</td>\n",
       "    </tr>\n",
       "    <tr>\n",
       "      <th>8</th>\n",
       "      <td>Length</td>\n",
       "      <td>[Normale Länge, Normale Länge, Lang, Lang, Cro...</td>\n",
       "    </tr>\n",
       "    <tr>\n",
       "      <th>9</th>\n",
       "      <td>Neckline</td>\n",
       "      <td>[Rundausschnitt, Rundausschnitt, Tiefer Aussch...</td>\n",
       "    </tr>\n",
       "    <tr>\n",
       "      <th>10</th>\n",
       "      <td>Occasion</td>\n",
       "      <td>[Freizeit, Freizeit, Freizeit, Freizeit, Freiz...</td>\n",
       "    </tr>\n",
       "    <tr>\n",
       "      <th>11</th>\n",
       "      <td>Opacity</td>\n",
       "      <td>[Volle Deckkraft, Leichte Deckkraft, Mittlere ...</td>\n",
       "    </tr>\n",
       "    <tr>\n",
       "      <th>12</th>\n",
       "      <td>Pattern</td>\n",
       "      <td>[einfarbig, einfarbig, einfarbig, gemustert, e...</td>\n",
       "    </tr>\n",
       "    <tr>\n",
       "      <th>13</th>\n",
       "      <td>Product Type</td>\n",
       "      <td>[Schuhe, Hemd, Jumpsuit, Kleid, Pullover]</td>\n",
       "    </tr>\n",
       "    <tr>\n",
       "      <th>14</th>\n",
       "      <td>Shoe Style</td>\n",
       "      <td>[Boots, Sneaker, Sneaker, Boots, Loafer]</td>\n",
       "    </tr>\n",
       "    <tr>\n",
       "      <th>15</th>\n",
       "      <td>Skin Tone</td>\n",
       "      <td>[Sehr heller Hautton, Heller bis mittlerer Hau...</td>\n",
       "    </tr>\n",
       "    <tr>\n",
       "      <th>16</th>\n",
       "      <td>Sleeve Length</td>\n",
       "      <td>[Ärmellos, Langarm, Langarm, Langarm, Kurzarm]</td>\n",
       "    </tr>\n",
       "    <tr>\n",
       "      <th>17</th>\n",
       "      <td>Sleeve Style</td>\n",
       "      <td>[Ballonärmel, Butterfly-Ärmel, Raglanärmel, Ra...</td>\n",
       "    </tr>\n",
       "    <tr>\n",
       "      <th>18</th>\n",
       "      <td>Style</td>\n",
       "      <td>[A-Linie, Tiefer Rückenausschnitt, Crop Top, H...</td>\n",
       "    </tr>\n",
       "    <tr>\n",
       "      <th>19</th>\n",
       "      <td>Waist Height</td>\n",
       "      <td>[Normale Bundhöhe, Normale Bundhöhe, Hoher Bun...</td>\n",
       "    </tr>\n",
       "  </tbody>\n",
       "</table>\n",
       "</div>"
      ],
      "text/plain": [
       "    Filter_Name_Eng                                            Samples\n",
       "0   Accessory Style  [Baseballcap, Baseballcap, Sonnenhut, Gliederk...\n",
       "1            Collar  [Stehkragen, Turn-down-Kragen, Bubikragen, Ste...\n",
       "2             Color                     [Weiß, Grün, Grün, Weiß, Blau]\n",
       "3           Concept  [DENIM, BASICS, H&M BEAUTY, EVERYDAY FASHION, ...\n",
       "4            Finish  [Glänzendes Finish, Glänzendes Finish, Strahle...\n",
       "5               Fit  [Slim Fit, Oversize, Regular Fit, Figurbetont,...\n",
       "6          Function  [Schnelltrocknend, Schnelltrocknend, Reflektor...\n",
       "7       Heel Height       [Ohne Absatz, Ohne Absatz, Niedriger Absatz]\n",
       "8            Length  [Normale Länge, Normale Länge, Lang, Lang, Cro...\n",
       "9          Neckline  [Rundausschnitt, Rundausschnitt, Tiefer Aussch...\n",
       "10         Occasion  [Freizeit, Freizeit, Freizeit, Freizeit, Freiz...\n",
       "11          Opacity  [Volle Deckkraft, Leichte Deckkraft, Mittlere ...\n",
       "12          Pattern  [einfarbig, einfarbig, einfarbig, gemustert, e...\n",
       "13     Product Type          [Schuhe, Hemd, Jumpsuit, Kleid, Pullover]\n",
       "14       Shoe Style           [Boots, Sneaker, Sneaker, Boots, Loafer]\n",
       "15        Skin Tone  [Sehr heller Hautton, Heller bis mittlerer Hau...\n",
       "16    Sleeve Length     [Ärmellos, Langarm, Langarm, Langarm, Kurzarm]\n",
       "17     Sleeve Style  [Ballonärmel, Butterfly-Ärmel, Raglanärmel, Ra...\n",
       "18            Style  [A-Linie, Tiefer Rückenausschnitt, Crop Top, H...\n",
       "19     Waist Height  [Normale Bundhöhe, Normale Bundhöhe, Hoher Bun..."
      ]
     },
     "execution_count": 42,
     "metadata": {},
     "output_type": "execute_result"
    }
   ],
   "source": [
    "uniq_filters_df = []\n",
    "\n",
    "for idx, val in unique_filters.iteritems():\n",
    "    # get a sample of values\n",
    "    uniq_filters_df.append([\n",
    "        idx, \n",
    "        attribs[attribs['Filter_Name_Eng'] == idx]['Filter_Option_Txt'].sample(min(val, 5)).values\n",
    "    ])\n",
    "    \n",
    "uniq_filters_df = pd.DataFrame(uniq_filters_df, columns=['Filter_Name_Eng', 'Samples'])\n",
    "uniq_filters_df"
   ]
  },
  {
   "cell_type": "markdown",
   "id": "d8e4e972",
   "metadata": {},
   "source": [
    "### Deciding to keep all filter options => Final outcomes will depend on accuracy per filter option"
   ]
  },
  {
   "cell_type": "markdown",
   "id": "d829b907",
   "metadata": {},
   "source": [
    "### Creating final DF -> Code, List of filters (one hot encoded) that apply to category, List of filters (ohe) that are available for product, List of Lists (ohe) having relevant values for filters that are available"
   ]
  },
  {
   "cell_type": "code",
   "execution_count": 43,
   "id": "7944dda1",
   "metadata": {},
   "outputs": [],
   "source": [
    "df_filters = final_df.copy()"
   ]
  },
  {
   "cell_type": "code",
   "execution_count": 44,
   "id": "d0c376a8",
   "metadata": {},
   "outputs": [
    {
     "data": {
      "text/plain": [
       "(14456, 8)"
      ]
     },
     "execution_count": 44,
     "metadata": {},
     "output_type": "execute_result"
    }
   ],
   "source": [
    "df_filters.shape"
   ]
  },
  {
   "cell_type": "code",
   "execution_count": 45,
   "id": "ed961f0d",
   "metadata": {},
   "outputs": [],
   "source": [
    "df_filters.drop(columns=['Cnt_Filters'], inplace=True)"
   ]
  },
  {
   "cell_type": "code",
   "execution_count": 46,
   "id": "f51a1a8b",
   "metadata": {},
   "outputs": [],
   "source": [
    "filter_names = attribs['Filter_Name_Eng'].sort_values().unique()"
   ]
  },
  {
   "cell_type": "markdown",
   "id": "747eda19",
   "metadata": {},
   "source": [
    "Adding \"Category_Filters\" => One hot encoded list of filters available on the category level"
   ]
  },
  {
   "cell_type": "code",
   "execution_count": 47,
   "id": "4258ae7a",
   "metadata": {},
   "outputs": [],
   "source": [
    "all_filters = attribs[['Parent_Category', 'Filter_Name_Eng']].drop_duplicates(ignore_index=True)"
   ]
  },
  {
   "cell_type": "code",
   "execution_count": 48,
   "id": "190f9478",
   "metadata": {},
   "outputs": [],
   "source": [
    "all_filters['Val'] = 1"
   ]
  },
  {
   "cell_type": "code",
   "execution_count": 49,
   "id": "abaec538",
   "metadata": {},
   "outputs": [],
   "source": [
    "all_filters = all_filters.pivot(index='Parent_Category', columns='Filter_Name_Eng', values='Val').fillna(0).reset_index()"
   ]
  },
  {
   "cell_type": "code",
   "execution_count": 50,
   "id": "91eed7e8",
   "metadata": {},
   "outputs": [
    {
     "data": {
      "text/plain": [
       "52"
      ]
     },
     "execution_count": 50,
     "metadata": {},
     "output_type": "execute_result"
    }
   ],
   "source": [
    "len(all_filters[filter_names].values.tolist())"
   ]
  },
  {
   "cell_type": "code",
   "execution_count": 51,
   "id": "20ef8692",
   "metadata": {},
   "outputs": [
    {
     "data": {
      "text/plain": [
       "array(['Accessory Style', 'Collar', 'Color', 'Concept', 'Finish', 'Fit',\n",
       "       'Function', 'Heel Height', 'Length', 'Neckline', 'Occasion',\n",
       "       'Opacity', 'Pattern', 'Product Type', 'Shoe Style', 'Skin Tone',\n",
       "       'Sleeve Length', 'Sleeve Style', 'Style', 'Waist Height'],\n",
       "      dtype=object)"
      ]
     },
     "execution_count": 51,
     "metadata": {},
     "output_type": "execute_result"
    }
   ],
   "source": [
    "filter_names"
   ]
  },
  {
   "cell_type": "code",
   "execution_count": 52,
   "id": "5d5a1a69",
   "metadata": {},
   "outputs": [
    {
     "data": {
      "text/plain": [
       "Filter_Name_Eng\n",
       "Accessory Style     9.0\n",
       "Collar             28.0\n",
       "Color              52.0\n",
       "Concept            36.0\n",
       "Finish              1.0\n",
       "Fit                34.0\n",
       "Function           31.0\n",
       "Heel Height         8.0\n",
       "Length             41.0\n",
       "Neckline           31.0\n",
       "Occasion           42.0\n",
       "Opacity             1.0\n",
       "Pattern            48.0\n",
       "Product Type       45.0\n",
       "Shoe Style          8.0\n",
       "Skin Tone           1.0\n",
       "Sleeve Length      35.0\n",
       "Sleeve Style       23.0\n",
       "Style              43.0\n",
       "Waist Height       24.0\n",
       "dtype: float64"
      ]
     },
     "execution_count": 52,
     "metadata": {},
     "output_type": "execute_result"
    }
   ],
   "source": [
    "all_filters[filter_names].sum(axis=0)"
   ]
  },
  {
   "cell_type": "code",
   "execution_count": 53,
   "id": "505321b9",
   "metadata": {},
   "outputs": [],
   "source": [
    "all_filters['Filters'] = all_filters[filter_names].values.tolist()"
   ]
  },
  {
   "cell_type": "code",
   "execution_count": 54,
   "id": "7b46d4b5",
   "metadata": {},
   "outputs": [],
   "source": [
    "df_filters = df_filters.merge(all_filters[['Parent_Category', 'Filters']], on='Parent_Category', how='left').rename(columns={'Filters': 'Category_Filters'})"
   ]
  },
  {
   "cell_type": "code",
   "execution_count": 55,
   "id": "7dcb02b4",
   "metadata": {},
   "outputs": [
    {
     "data": {
      "text/html": [
       "<div>\n",
       "<style scoped>\n",
       "    .dataframe tbody tr th:only-of-type {\n",
       "        vertical-align: middle;\n",
       "    }\n",
       "\n",
       "    .dataframe tbody tr th {\n",
       "        vertical-align: top;\n",
       "    }\n",
       "\n",
       "    .dataframe thead th {\n",
       "        text-align: right;\n",
       "    }\n",
       "</style>\n",
       "<table border=\"1\" class=\"dataframe\">\n",
       "  <thead>\n",
       "    <tr style=\"text-align: right;\">\n",
       "      <th></th>\n",
       "      <th>Code</th>\n",
       "      <th>Name</th>\n",
       "      <th>Img_Ext</th>\n",
       "      <th>Parent_Category</th>\n",
       "      <th>Top_Category</th>\n",
       "      <th>Parent_Category_Name</th>\n",
       "      <th>Category_Name</th>\n",
       "      <th>Category_Filters</th>\n",
       "    </tr>\n",
       "  </thead>\n",
       "  <tbody>\n",
       "    <tr>\n",
       "      <th>0</th>\n",
       "      <td>1071498001</td>\n",
       "      <td>Cut-out-Shirt</td>\n",
       "      <td>.jpg</td>\n",
       "      <td>0.0</td>\n",
       "      <td>Women</td>\n",
       "      <td>Shirts &amp; Tops</td>\n",
       "      <td>Women_Shirts-&amp;-Tops</td>\n",
       "      <td>[0.0, 1.0, 1.0, 1.0, 0.0, 1.0, 1.0, 0.0, 1.0, ...</td>\n",
       "    </tr>\n",
       "    <tr>\n",
       "      <th>1</th>\n",
       "      <td>1069183001</td>\n",
       "      <td>Kurzes Shirt mit Cut-out</td>\n",
       "      <td>.jpg</td>\n",
       "      <td>0.0</td>\n",
       "      <td>Women</td>\n",
       "      <td>Shirts &amp; Tops</td>\n",
       "      <td>Women_Shirts-&amp;-Tops</td>\n",
       "      <td>[0.0, 1.0, 1.0, 1.0, 0.0, 1.0, 1.0, 0.0, 1.0, ...</td>\n",
       "    </tr>\n",
       "    <tr>\n",
       "      <th>2</th>\n",
       "      <td>1069183002</td>\n",
       "      <td>Kurzes Shirt mit Cut-out</td>\n",
       "      <td>.jpg</td>\n",
       "      <td>0.0</td>\n",
       "      <td>Women</td>\n",
       "      <td>Shirts &amp; Tops</td>\n",
       "      <td>Women_Shirts-&amp;-Tops</td>\n",
       "      <td>[0.0, 1.0, 1.0, 1.0, 0.0, 1.0, 1.0, 0.0, 1.0, ...</td>\n",
       "    </tr>\n",
       "    <tr>\n",
       "      <th>3</th>\n",
       "      <td>1021919001</td>\n",
       "      <td>Pullover mit Cut-outs</td>\n",
       "      <td>.jpg</td>\n",
       "      <td>0.0</td>\n",
       "      <td>Women</td>\n",
       "      <td>Shirts &amp; Tops</td>\n",
       "      <td>Women_Shirts-&amp;-Tops</td>\n",
       "      <td>[0.0, 1.0, 1.0, 1.0, 0.0, 1.0, 1.0, 0.0, 1.0, ...</td>\n",
       "    </tr>\n",
       "    <tr>\n",
       "      <th>4</th>\n",
       "      <td>1062813001</td>\n",
       "      <td>Tanktop</td>\n",
       "      <td>.jpg</td>\n",
       "      <td>0.0</td>\n",
       "      <td>Women</td>\n",
       "      <td>Shirts &amp; Tops</td>\n",
       "      <td>Women_Shirts-&amp;-Tops</td>\n",
       "      <td>[0.0, 1.0, 1.0, 1.0, 0.0, 1.0, 1.0, 0.0, 1.0, ...</td>\n",
       "    </tr>\n",
       "    <tr>\n",
       "      <th>...</th>\n",
       "      <td>...</td>\n",
       "      <td>...</td>\n",
       "      <td>...</td>\n",
       "      <td>...</td>\n",
       "      <td>...</td>\n",
       "      <td>...</td>\n",
       "      <td>...</td>\n",
       "      <td>...</td>\n",
       "    </tr>\n",
       "    <tr>\n",
       "      <th>14451</th>\n",
       "      <td>0897909012</td>\n",
       "      <td>Weiche Hausschuhe</td>\n",
       "      <td>.jpg</td>\n",
       "      <td>370.0</td>\n",
       "      <td>Kids</td>\n",
       "      <td>Schuhe</td>\n",
       "      <td>Kids_Schuhe</td>\n",
       "      <td>[0.0, 0.0, 1.0, 0.0, 0.0, 0.0, 1.0, 1.0, 0.0, ...</td>\n",
       "    </tr>\n",
       "    <tr>\n",
       "      <th>14452</th>\n",
       "      <td>1033466002</td>\n",
       "      <td>Weiche Hausschuhe mit Applikationen</td>\n",
       "      <td>.jpg</td>\n",
       "      <td>370.0</td>\n",
       "      <td>Kids</td>\n",
       "      <td>Schuhe</td>\n",
       "      <td>Kids_Schuhe</td>\n",
       "      <td>[0.0, 0.0, 1.0, 0.0, 0.0, 0.0, 1.0, 1.0, 0.0, ...</td>\n",
       "    </tr>\n",
       "    <tr>\n",
       "      <th>14453</th>\n",
       "      <td>0897909013</td>\n",
       "      <td>Weiche Hausschuhe</td>\n",
       "      <td>.jpg</td>\n",
       "      <td>370.0</td>\n",
       "      <td>Kids</td>\n",
       "      <td>Schuhe</td>\n",
       "      <td>Kids_Schuhe</td>\n",
       "      <td>[0.0, 0.0, 1.0, 0.0, 0.0, 0.0, 1.0, 1.0, 0.0, ...</td>\n",
       "    </tr>\n",
       "    <tr>\n",
       "      <th>14454</th>\n",
       "      <td>0897909011</td>\n",
       "      <td>Weiche Hausschuhe</td>\n",
       "      <td>.jpg</td>\n",
       "      <td>370.0</td>\n",
       "      <td>Kids</td>\n",
       "      <td>Schuhe</td>\n",
       "      <td>Kids_Schuhe</td>\n",
       "      <td>[0.0, 0.0, 1.0, 0.0, 0.0, 0.0, 1.0, 1.0, 0.0, ...</td>\n",
       "    </tr>\n",
       "    <tr>\n",
       "      <th>14455</th>\n",
       "      <td>0824763001</td>\n",
       "      <td>Weiche Hausschuhe</td>\n",
       "      <td>.jpg</td>\n",
       "      <td>370.0</td>\n",
       "      <td>Kids</td>\n",
       "      <td>Schuhe</td>\n",
       "      <td>Kids_Schuhe</td>\n",
       "      <td>[0.0, 0.0, 1.0, 0.0, 0.0, 0.0, 1.0, 1.0, 0.0, ...</td>\n",
       "    </tr>\n",
       "  </tbody>\n",
       "</table>\n",
       "<p>14456 rows × 8 columns</p>\n",
       "</div>"
      ],
      "text/plain": [
       "             Code                                 Name Img_Ext  \\\n",
       "0      1071498001                        Cut-out-Shirt    .jpg   \n",
       "1      1069183001             Kurzes Shirt mit Cut-out    .jpg   \n",
       "2      1069183002             Kurzes Shirt mit Cut-out    .jpg   \n",
       "3      1021919001                Pullover mit Cut-outs    .jpg   \n",
       "4      1062813001                              Tanktop    .jpg   \n",
       "...           ...                                  ...     ...   \n",
       "14451  0897909012                    Weiche Hausschuhe    .jpg   \n",
       "14452  1033466002  Weiche Hausschuhe mit Applikationen    .jpg   \n",
       "14453  0897909013                    Weiche Hausschuhe    .jpg   \n",
       "14454  0897909011                    Weiche Hausschuhe    .jpg   \n",
       "14455  0824763001                    Weiche Hausschuhe    .jpg   \n",
       "\n",
       "       Parent_Category Top_Category Parent_Category_Name        Category_Name  \\\n",
       "0                  0.0        Women        Shirts & Tops  Women_Shirts-&-Tops   \n",
       "1                  0.0        Women        Shirts & Tops  Women_Shirts-&-Tops   \n",
       "2                  0.0        Women        Shirts & Tops  Women_Shirts-&-Tops   \n",
       "3                  0.0        Women        Shirts & Tops  Women_Shirts-&-Tops   \n",
       "4                  0.0        Women        Shirts & Tops  Women_Shirts-&-Tops   \n",
       "...                ...          ...                  ...                  ...   \n",
       "14451            370.0         Kids               Schuhe          Kids_Schuhe   \n",
       "14452            370.0         Kids               Schuhe          Kids_Schuhe   \n",
       "14453            370.0         Kids               Schuhe          Kids_Schuhe   \n",
       "14454            370.0         Kids               Schuhe          Kids_Schuhe   \n",
       "14455            370.0         Kids               Schuhe          Kids_Schuhe   \n",
       "\n",
       "                                        Category_Filters  \n",
       "0      [0.0, 1.0, 1.0, 1.0, 0.0, 1.0, 1.0, 0.0, 1.0, ...  \n",
       "1      [0.0, 1.0, 1.0, 1.0, 0.0, 1.0, 1.0, 0.0, 1.0, ...  \n",
       "2      [0.0, 1.0, 1.0, 1.0, 0.0, 1.0, 1.0, 0.0, 1.0, ...  \n",
       "3      [0.0, 1.0, 1.0, 1.0, 0.0, 1.0, 1.0, 0.0, 1.0, ...  \n",
       "4      [0.0, 1.0, 1.0, 1.0, 0.0, 1.0, 1.0, 0.0, 1.0, ...  \n",
       "...                                                  ...  \n",
       "14451  [0.0, 0.0, 1.0, 0.0, 0.0, 0.0, 1.0, 1.0, 0.0, ...  \n",
       "14452  [0.0, 0.0, 1.0, 0.0, 0.0, 0.0, 1.0, 1.0, 0.0, ...  \n",
       "14453  [0.0, 0.0, 1.0, 0.0, 0.0, 0.0, 1.0, 1.0, 0.0, ...  \n",
       "14454  [0.0, 0.0, 1.0, 0.0, 0.0, 0.0, 1.0, 1.0, 0.0, ...  \n",
       "14455  [0.0, 0.0, 1.0, 0.0, 0.0, 0.0, 1.0, 1.0, 0.0, ...  \n",
       "\n",
       "[14456 rows x 8 columns]"
      ]
     },
     "execution_count": 55,
     "metadata": {},
     "output_type": "execute_result"
    }
   ],
   "source": [
    "df_filters"
   ]
  },
  {
   "cell_type": "code",
   "execution_count": 518,
   "id": "e52d99e4",
   "metadata": {},
   "outputs": [],
   "source": [
    "# # check how many products have count of filters less than, same or greater than sum of fitlers\n",
    "# df_filters.apply(lambda row: \n",
    "#                  1 if np.sum(row['Category_Filters']) > row['Cnt_Filters'] \n",
    "#                  else -1 if np.sum(row['Category_Filters']) < row['Cnt_Filters'] else 0, axis=1).value_counts()\n",
    "\n",
    "# # -1 => Nr of filters on a product are more than the filters on the category\n",
    "# # 0 => Nr of filters on a product are same as those expected on the category\n",
    "# # 1 => Nr of filters on a product are less than the filters on the category"
   ]
  },
  {
   "cell_type": "markdown",
   "id": "4d13f219",
   "metadata": {},
   "source": [
    "Adding \"Product_Filters\" => One hot encoded list of filters available on the product level"
   ]
  },
  {
   "cell_type": "code",
   "execution_count": 56,
   "id": "91d89321",
   "metadata": {},
   "outputs": [],
   "source": [
    "p_filters = attribs[['Code', 'Parent_Category', 'Filter_Name_Eng']].drop_duplicates(ignore_index=True)"
   ]
  },
  {
   "cell_type": "code",
   "execution_count": 57,
   "id": "7fbf37cc",
   "metadata": {},
   "outputs": [],
   "source": [
    "p_filters['Val'] = 1"
   ]
  },
  {
   "cell_type": "code",
   "execution_count": 58,
   "id": "7d5c6f33",
   "metadata": {},
   "outputs": [],
   "source": [
    "p_filters = p_filters.pivot(index=['Code', 'Parent_Category'], columns='Filter_Name_Eng', values='Val').fillna(0).reset_index()"
   ]
  },
  {
   "cell_type": "code",
   "execution_count": 59,
   "id": "1954a23f",
   "metadata": {},
   "outputs": [
    {
     "data": {
      "text/plain": [
       "20244"
      ]
     },
     "execution_count": 59,
     "metadata": {},
     "output_type": "execute_result"
    }
   ],
   "source": [
    "len(p_filters[filter_names].values.tolist())"
   ]
  },
  {
   "cell_type": "code",
   "execution_count": 60,
   "id": "fa776c3d",
   "metadata": {},
   "outputs": [
    {
     "data": {
      "text/plain": [
       "Filter_Name_Eng\n",
       "Accessory Style      632.0\n",
       "Collar              1678.0\n",
       "Color              20216.0\n",
       "Concept             8062.0\n",
       "Finish               200.0\n",
       "Fit                 4434.0\n",
       "Function            1027.0\n",
       "Heel Height          672.0\n",
       "Length             13254.0\n",
       "Neckline            6086.0\n",
       "Occasion            8357.0\n",
       "Opacity              160.0\n",
       "Pattern            14934.0\n",
       "Product Type       19094.0\n",
       "Shoe Style           660.0\n",
       "Skin Tone            150.0\n",
       "Sleeve Length      10449.0\n",
       "Sleeve Style         699.0\n",
       "Style               8350.0\n",
       "Waist Height        4725.0\n",
       "dtype: float64"
      ]
     },
     "execution_count": 60,
     "metadata": {},
     "output_type": "execute_result"
    }
   ],
   "source": [
    "p_filters[filter_names].sum(axis=0)"
   ]
  },
  {
   "cell_type": "code",
   "execution_count": 61,
   "id": "79506210",
   "metadata": {},
   "outputs": [],
   "source": [
    "p_filters['Filters'] = p_filters[filter_names].values.tolist()"
   ]
  },
  {
   "cell_type": "code",
   "execution_count": 525,
   "id": "31600fcf",
   "metadata": {},
   "outputs": [],
   "source": [
    "# df_filters.drop(columns=['Product_Filters'], inplace=True)"
   ]
  },
  {
   "cell_type": "code",
   "execution_count": 62,
   "id": "a14ba0a0",
   "metadata": {},
   "outputs": [],
   "source": [
    "df_filters = df_filters.merge(p_filters[['Code', 'Parent_Category', 'Filters']], on=['Code', 'Parent_Category'], how='left').rename(columns={'Filters': 'Product_Filters'})"
   ]
  },
  {
   "cell_type": "code",
   "execution_count": 527,
   "id": "dc6c963a",
   "metadata": {},
   "outputs": [],
   "source": [
    "# # check how many products have count of filters less than, same or greater than sum of fitlers\n",
    "# df_filters.apply(lambda row: \n",
    "#                  1 if np.sum(row['Product_Filters']) > row['Cnt_Filters'] \n",
    "#                  else -1 if np.sum(row['Product_Filters']) < row['Cnt_Filters'] else 0, axis=1).value_counts()\n",
    "\n",
    "# # -1 => Nr of filters on a product are more than the filters on the category\n",
    "# # 0 => Nr of filters on a product are same as those expected on the category\n",
    "# # 1 => Nr of filters on a product are less than the filters on the category"
   ]
  },
  {
   "cell_type": "code",
   "execution_count": 63,
   "id": "83bb0608",
   "metadata": {},
   "outputs": [
    {
     "data": {
      "text/plain": [
       "1    13935\n",
       "0      521\n",
       "dtype: int64"
      ]
     },
     "execution_count": 63,
     "metadata": {},
     "output_type": "execute_result"
    }
   ],
   "source": [
    "# check how many products have count of filters less than, same or greater than sum of fitlers\n",
    "df_filters.apply(lambda row: \n",
    "                 1 if np.sum(row['Category_Filters']) > np.sum(row['Product_Filters']) \n",
    "                 else -1 if np.sum(row['Category_Filters']) < np.sum(row['Product_Filters']) else 0, axis=1).value_counts()\n",
    "\n",
    "# -1 => Nr of filters on a category are more than the filters on the product\n",
    "# 0 => Nr of filters on a category are same as those on the product\n",
    "# 1 => Nr of filters on a category are less than the filters on the product"
   ]
  },
  {
   "cell_type": "code",
   "execution_count": 64,
   "id": "da3b8305",
   "metadata": {},
   "outputs": [
    {
     "data": {
      "text/plain": [
       "(14456, 9)"
      ]
     },
     "execution_count": 64,
     "metadata": {},
     "output_type": "execute_result"
    }
   ],
   "source": [
    "df_filters.shape"
   ]
  },
  {
   "cell_type": "markdown",
   "id": "0289b72c",
   "metadata": {},
   "source": [
    "Adding one hot encoded vectors for each filter option"
   ]
  },
  {
   "cell_type": "code",
   "execution_count": 65,
   "id": "ac747ced",
   "metadata": {},
   "outputs": [],
   "source": [
    "attribs['Filter_Value'] = attribs.apply(lambda row: f\"{row['Filter_Name_Eng']}_{row['Filter_Option_Txt']}\", axis=1)"
   ]
  },
  {
   "cell_type": "code",
   "execution_count": 66,
   "id": "3a6213c8",
   "metadata": {},
   "outputs": [
    {
     "data": {
      "text/html": [
       "<div>\n",
       "<style scoped>\n",
       "    .dataframe tbody tr th:only-of-type {\n",
       "        vertical-align: middle;\n",
       "    }\n",
       "\n",
       "    .dataframe tbody tr th {\n",
       "        vertical-align: top;\n",
       "    }\n",
       "\n",
       "    .dataframe thead th {\n",
       "        text-align: right;\n",
       "    }\n",
       "</style>\n",
       "<table border=\"1\" class=\"dataframe\">\n",
       "  <thead>\n",
       "    <tr style=\"text-align: right;\">\n",
       "      <th></th>\n",
       "      <th>Code</th>\n",
       "      <th>Filter_ID</th>\n",
       "      <th>Parent_Category</th>\n",
       "      <th>Filter_Name</th>\n",
       "      <th>Filter_Option</th>\n",
       "      <th>Filter_Option_Txt</th>\n",
       "      <th>Filter_Name_Eng</th>\n",
       "      <th>Filter_Value</th>\n",
       "    </tr>\n",
       "  </thead>\n",
       "  <tbody>\n",
       "    <tr>\n",
       "      <th>0</th>\n",
       "      <td>0979236026</td>\n",
       "      <td>31.0</td>\n",
       "      <td>0</td>\n",
       "      <td>Farbe</td>\n",
       "      <td>[Beige, colorWithNames=beige_f5f5dc]</td>\n",
       "      <td>Beige</td>\n",
       "      <td>Color</td>\n",
       "      <td>Color_Beige</td>\n",
       "    </tr>\n",
       "    <tr>\n",
       "      <th>1</th>\n",
       "      <td>1080623001</td>\n",
       "      <td>31.0</td>\n",
       "      <td>0</td>\n",
       "      <td>Farbe</td>\n",
       "      <td>[Beige, colorWithNames=beige_f5f5dc]</td>\n",
       "      <td>Beige</td>\n",
       "      <td>Color</td>\n",
       "      <td>Color_Beige</td>\n",
       "    </tr>\n",
       "    <tr>\n",
       "      <th>2</th>\n",
       "      <td>1000128007</td>\n",
       "      <td>31.0</td>\n",
       "      <td>0</td>\n",
       "      <td>Farbe</td>\n",
       "      <td>[Beige, colorWithNames=beige_f5f5dc]</td>\n",
       "      <td>Beige</td>\n",
       "      <td>Color</td>\n",
       "      <td>Color_Beige</td>\n",
       "    </tr>\n",
       "    <tr>\n",
       "      <th>3</th>\n",
       "      <td>1000128008</td>\n",
       "      <td>31.0</td>\n",
       "      <td>0</td>\n",
       "      <td>Farbe</td>\n",
       "      <td>[Beige, colorWithNames=beige_f5f5dc]</td>\n",
       "      <td>Beige</td>\n",
       "      <td>Color</td>\n",
       "      <td>Color_Beige</td>\n",
       "    </tr>\n",
       "    <tr>\n",
       "      <th>4</th>\n",
       "      <td>0903309006</td>\n",
       "      <td>31.0</td>\n",
       "      <td>0</td>\n",
       "      <td>Farbe</td>\n",
       "      <td>[Beige, colorWithNames=beige_f5f5dc]</td>\n",
       "      <td>Beige</td>\n",
       "      <td>Color</td>\n",
       "      <td>Color_Beige</td>\n",
       "    </tr>\n",
       "    <tr>\n",
       "      <th>...</th>\n",
       "      <td>...</td>\n",
       "      <td>...</td>\n",
       "      <td>...</td>\n",
       "      <td>...</td>\n",
       "      <td>...</td>\n",
       "      <td>...</td>\n",
       "      <td>...</td>\n",
       "      <td>...</td>\n",
       "    </tr>\n",
       "    <tr>\n",
       "      <th>166</th>\n",
       "      <td>0867741006</td>\n",
       "      <td>6732.0</td>\n",
       "      <td>372</td>\n",
       "      <td>Anlass</td>\n",
       "      <td>[Sport, contexts=Sport]</td>\n",
       "      <td>Sport</td>\n",
       "      <td>Occasion</td>\n",
       "      <td>Occasion_Sport</td>\n",
       "    </tr>\n",
       "    <tr>\n",
       "      <th>167</th>\n",
       "      <td>0706020018</td>\n",
       "      <td>6732.0</td>\n",
       "      <td>372</td>\n",
       "      <td>Anlass</td>\n",
       "      <td>[Sport, contexts=Sport]</td>\n",
       "      <td>Sport</td>\n",
       "      <td>Occasion</td>\n",
       "      <td>Occasion_Sport</td>\n",
       "    </tr>\n",
       "    <tr>\n",
       "      <th>168</th>\n",
       "      <td>1021159001</td>\n",
       "      <td>6732.0</td>\n",
       "      <td>372</td>\n",
       "      <td>Anlass</td>\n",
       "      <td>[Sport, contexts=Sport]</td>\n",
       "      <td>Sport</td>\n",
       "      <td>Occasion</td>\n",
       "      <td>Occasion_Sport</td>\n",
       "    </tr>\n",
       "    <tr>\n",
       "      <th>169</th>\n",
       "      <td>0929864004</td>\n",
       "      <td>6732.0</td>\n",
       "      <td>372</td>\n",
       "      <td>Anlass</td>\n",
       "      <td>[Sport, contexts=Sport]</td>\n",
       "      <td>Sport</td>\n",
       "      <td>Occasion</td>\n",
       "      <td>Occasion_Sport</td>\n",
       "    </tr>\n",
       "    <tr>\n",
       "      <th>170</th>\n",
       "      <td>0979940001</td>\n",
       "      <td>6732.0</td>\n",
       "      <td>372</td>\n",
       "      <td>Anlass</td>\n",
       "      <td>[Sport, contexts=Sport]</td>\n",
       "      <td>Sport</td>\n",
       "      <td>Occasion</td>\n",
       "      <td>Occasion_Sport</td>\n",
       "    </tr>\n",
       "  </tbody>\n",
       "</table>\n",
       "<p>141147 rows × 8 columns</p>\n",
       "</div>"
      ],
      "text/plain": [
       "           Code  Filter_ID  Parent_Category Filter_Name  \\\n",
       "0    0979236026       31.0                0       Farbe   \n",
       "1    1080623001       31.0                0       Farbe   \n",
       "2    1000128007       31.0                0       Farbe   \n",
       "3    1000128008       31.0                0       Farbe   \n",
       "4    0903309006       31.0                0       Farbe   \n",
       "..          ...        ...              ...         ...   \n",
       "166  0867741006     6732.0              372      Anlass   \n",
       "167  0706020018     6732.0              372      Anlass   \n",
       "168  1021159001     6732.0              372      Anlass   \n",
       "169  0929864004     6732.0              372      Anlass   \n",
       "170  0979940001     6732.0              372      Anlass   \n",
       "\n",
       "                            Filter_Option Filter_Option_Txt Filter_Name_Eng  \\\n",
       "0    [Beige, colorWithNames=beige_f5f5dc]             Beige           Color   \n",
       "1    [Beige, colorWithNames=beige_f5f5dc]             Beige           Color   \n",
       "2    [Beige, colorWithNames=beige_f5f5dc]             Beige           Color   \n",
       "3    [Beige, colorWithNames=beige_f5f5dc]             Beige           Color   \n",
       "4    [Beige, colorWithNames=beige_f5f5dc]             Beige           Color   \n",
       "..                                    ...               ...             ...   \n",
       "166               [Sport, contexts=Sport]             Sport        Occasion   \n",
       "167               [Sport, contexts=Sport]             Sport        Occasion   \n",
       "168               [Sport, contexts=Sport]             Sport        Occasion   \n",
       "169               [Sport, contexts=Sport]             Sport        Occasion   \n",
       "170               [Sport, contexts=Sport]             Sport        Occasion   \n",
       "\n",
       "       Filter_Value  \n",
       "0       Color_Beige  \n",
       "1       Color_Beige  \n",
       "2       Color_Beige  \n",
       "3       Color_Beige  \n",
       "4       Color_Beige  \n",
       "..              ...  \n",
       "166  Occasion_Sport  \n",
       "167  Occasion_Sport  \n",
       "168  Occasion_Sport  \n",
       "169  Occasion_Sport  \n",
       "170  Occasion_Sport  \n",
       "\n",
       "[141147 rows x 8 columns]"
      ]
     },
     "execution_count": 66,
     "metadata": {},
     "output_type": "execute_result"
    }
   ],
   "source": [
    "attribs"
   ]
  },
  {
   "cell_type": "code",
   "execution_count": 67,
   "id": "de5acff3",
   "metadata": {},
   "outputs": [
    {
     "data": {
      "text/html": [
       "<div>\n",
       "<style scoped>\n",
       "    .dataframe tbody tr th:only-of-type {\n",
       "        vertical-align: middle;\n",
       "    }\n",
       "\n",
       "    .dataframe tbody tr th {\n",
       "        vertical-align: top;\n",
       "    }\n",
       "\n",
       "    .dataframe thead th {\n",
       "        text-align: right;\n",
       "    }\n",
       "</style>\n",
       "<table border=\"1\" class=\"dataframe\">\n",
       "  <thead>\n",
       "    <tr style=\"text-align: right;\">\n",
       "      <th></th>\n",
       "      <th>Code</th>\n",
       "    </tr>\n",
       "  </thead>\n",
       "  <tbody>\n",
       "    <tr>\n",
       "      <th>0</th>\n",
       "      <td>1071498001</td>\n",
       "    </tr>\n",
       "    <tr>\n",
       "      <th>1</th>\n",
       "      <td>1069183001</td>\n",
       "    </tr>\n",
       "    <tr>\n",
       "      <th>2</th>\n",
       "      <td>1069183002</td>\n",
       "    </tr>\n",
       "    <tr>\n",
       "      <th>3</th>\n",
       "      <td>1021919001</td>\n",
       "    </tr>\n",
       "    <tr>\n",
       "      <th>4</th>\n",
       "      <td>1062813001</td>\n",
       "    </tr>\n",
       "  </tbody>\n",
       "</table>\n",
       "</div>"
      ],
      "text/plain": [
       "         Code\n",
       "0  1071498001\n",
       "1  1069183001\n",
       "2  1069183002\n",
       "3  1021919001\n",
       "4  1062813001"
      ]
     },
     "execution_count": 67,
     "metadata": {},
     "output_type": "execute_result"
    }
   ],
   "source": [
    "final_filters = pd.DataFrame(df_filters['Code'].unique().copy())\n",
    "final_filters.columns = ['Code']\n",
    "final_filters.head()"
   ]
  },
  {
   "cell_type": "code",
   "execution_count": 68,
   "id": "2b20bbd1",
   "metadata": {},
   "outputs": [
    {
     "data": {
      "text/plain": [
       "(14456, 1)"
      ]
     },
     "execution_count": 68,
     "metadata": {},
     "output_type": "execute_result"
    }
   ],
   "source": [
    "final_filters.shape"
   ]
  },
  {
   "cell_type": "code",
   "execution_count": 69,
   "id": "6a28d79b",
   "metadata": {},
   "outputs": [],
   "source": [
    "# select only those codes which are also there in final file\n",
    "attribs = attribs[attribs['Code'].isin(final_filters['Code'].values)]"
   ]
  },
  {
   "cell_type": "code",
   "execution_count": 70,
   "id": "d67c1e5a",
   "metadata": {},
   "outputs": [
    {
     "data": {
      "text/plain": [
       "466"
      ]
     },
     "execution_count": 70,
     "metadata": {},
     "output_type": "execute_result"
    }
   ],
   "source": [
    "attribs['Filter_Value'].nunique()"
   ]
  },
  {
   "cell_type": "code",
   "execution_count": 71,
   "id": "1e709679",
   "metadata": {},
   "outputs": [],
   "source": [
    "filter_value_lists = []"
   ]
  },
  {
   "cell_type": "code",
   "execution_count": 72,
   "id": "5fb1e947",
   "metadata": {},
   "outputs": [],
   "source": [
    "for f in filter_names:\n",
    "    filter_temp = pd.get_dummies(\n",
    "            data=attribs[attribs['Filter_Name_Eng'] == f][['Code', 'Filter_Value']], \n",
    "            columns=['Filter_Value'],\n",
    "            prefix='',\n",
    "            prefix_sep=''\n",
    "        )\n",
    "    break"
   ]
  },
  {
   "cell_type": "code",
   "execution_count": 74,
   "id": "4b03aa8c",
   "metadata": {},
   "outputs": [],
   "source": [
    "filter_temp = filter_temp.groupby('Code').sum()"
   ]
  },
  {
   "cell_type": "code",
   "execution_count": 537,
   "id": "0e08ebdf",
   "metadata": {
    "scrolled": true
   },
   "outputs": [
    {
     "data": {
      "text/html": [
       "<div>\n",
       "<style scoped>\n",
       "    .dataframe tbody tr th:only-of-type {\n",
       "        vertical-align: middle;\n",
       "    }\n",
       "\n",
       "    .dataframe tbody tr th {\n",
       "        vertical-align: top;\n",
       "    }\n",
       "\n",
       "    .dataframe thead th {\n",
       "        text-align: right;\n",
       "    }\n",
       "</style>\n",
       "<table border=\"1\" class=\"dataframe\">\n",
       "  <thead>\n",
       "    <tr style=\"text-align: right;\">\n",
       "      <th></th>\n",
       "      <th>Code</th>\n",
       "      <th>Accessory Style</th>\n",
       "      <th>Collar</th>\n",
       "      <th>Color</th>\n",
       "      <th>Concept</th>\n",
       "      <th>Finish</th>\n",
       "      <th>Fit</th>\n",
       "      <th>Function</th>\n",
       "      <th>Heel Height</th>\n",
       "      <th>Length</th>\n",
       "      <th>...</th>\n",
       "      <th>Occasion</th>\n",
       "      <th>Opacity</th>\n",
       "      <th>Pattern</th>\n",
       "      <th>Product Type</th>\n",
       "      <th>Shoe Style</th>\n",
       "      <th>Skin Tone</th>\n",
       "      <th>Sleeve Length</th>\n",
       "      <th>Sleeve Style</th>\n",
       "      <th>Style</th>\n",
       "      <th>Waist Height</th>\n",
       "    </tr>\n",
       "  </thead>\n",
       "  <tbody>\n",
       "    <tr>\n",
       "      <th>0</th>\n",
       "      <td>1071498001</td>\n",
       "      <td>[]</td>\n",
       "      <td>[]</td>\n",
       "      <td>[0, 0, 0, 0, 0, 0, 0, 0, 0, 0, 0, 0, 0, 1, 0, ...</td>\n",
       "      <td>[0, 0, 0, 0, 0, 0, 0, 0, 0, 0, 0, 1]</td>\n",
       "      <td>[]</td>\n",
       "      <td>[1, 0, 0, 0, 0, 0, 0, 0, 0]</td>\n",
       "      <td>[]</td>\n",
       "      <td>[]</td>\n",
       "      <td>[0, 0, 0, 0, 0, 0, 0, 0, 0, 1]</td>\n",
       "      <td>...</td>\n",
       "      <td>[0, 0, 1, 0, 0, 0, 0, 0, 0]</td>\n",
       "      <td>[]</td>\n",
       "      <td>[0, 1, 0, 0, 0, 0, 0, 0, 0, 0, 0, 0, 0, 0, 0, ...</td>\n",
       "      <td>[0, 0, 0, 0, 0, 0, 0, 0, 0, 0, 0, 0, 0, 0, 0, ...</td>\n",
       "      <td>[]</td>\n",
       "      <td>[]</td>\n",
       "      <td>[0, 0, 0, 1, 0]</td>\n",
       "      <td>[]</td>\n",
       "      <td>[0, 0, 0, 0, 0, 0, 0, 0, 0, 0, 0, 0, 0, 0, 0, ...</td>\n",
       "      <td>[]</td>\n",
       "    </tr>\n",
       "    <tr>\n",
       "      <th>1</th>\n",
       "      <td>1069183001</td>\n",
       "      <td>[]</td>\n",
       "      <td>[]</td>\n",
       "      <td>[0, 0, 0, 0, 0, 0, 0, 0, 0, 0, 0, 0, 0, 1, 0, ...</td>\n",
       "      <td>[0, 0, 0, 1, 0, 0, 0, 0, 0, 0, 0, 0]</td>\n",
       "      <td>[]</td>\n",
       "      <td>[]</td>\n",
       "      <td>[]</td>\n",
       "      <td>[]</td>\n",
       "      <td>[0, 0, 1, 0, 0, 0, 0, 0, 0, 0]</td>\n",
       "      <td>...</td>\n",
       "      <td>[0, 0, 1, 0, 0, 0, 0, 0, 0]</td>\n",
       "      <td>[]</td>\n",
       "      <td>[0, 1, 0, 0, 0, 0, 0, 0, 0, 0, 0, 0, 0, 0, 0, ...</td>\n",
       "      <td>[0, 0, 0, 0, 0, 0, 0, 0, 0, 0, 0, 0, 0, 0, 0, ...</td>\n",
       "      <td>[]</td>\n",
       "      <td>[]</td>\n",
       "      <td>[0, 0, 0, 1, 0]</td>\n",
       "      <td>[]</td>\n",
       "      <td>[0, 0, 0, 0, 0, 0, 0, 0, 0, 0, 0, 0, 0, 0, 0, ...</td>\n",
       "      <td>[]</td>\n",
       "    </tr>\n",
       "    <tr>\n",
       "      <th>2</th>\n",
       "      <td>1069183002</td>\n",
       "      <td>[]</td>\n",
       "      <td>[]</td>\n",
       "      <td>[0, 0, 1, 0, 0, 0, 0, 0, 0, 0, 0, 0, 0, 0, 0, ...</td>\n",
       "      <td>[0, 0, 0, 1, 0, 0, 0, 0, 0, 0, 0, 0]</td>\n",
       "      <td>[]</td>\n",
       "      <td>[]</td>\n",
       "      <td>[]</td>\n",
       "      <td>[]</td>\n",
       "      <td>[0, 0, 1, 0, 0, 0, 0, 0, 0, 0]</td>\n",
       "      <td>...</td>\n",
       "      <td>[0, 0, 1, 0, 0, 0, 0, 0, 0]</td>\n",
       "      <td>[]</td>\n",
       "      <td>[0, 1, 0, 0, 0, 0, 0, 0, 0, 0, 0, 0, 0, 0, 0, ...</td>\n",
       "      <td>[0, 0, 0, 0, 0, 0, 0, 0, 0, 0, 0, 0, 0, 0, 0, ...</td>\n",
       "      <td>[]</td>\n",
       "      <td>[]</td>\n",
       "      <td>[0, 0, 0, 1, 0]</td>\n",
       "      <td>[]</td>\n",
       "      <td>[0, 0, 0, 0, 0, 0, 0, 0, 0, 0, 0, 0, 0, 0, 0, ...</td>\n",
       "      <td>[]</td>\n",
       "    </tr>\n",
       "    <tr>\n",
       "      <th>3</th>\n",
       "      <td>1021919001</td>\n",
       "      <td>[]</td>\n",
       "      <td>[0, 0, 0, 0, 1, 0, 0, 0, 0, 0, 0, 0, 0]</td>\n",
       "      <td>[0, 0, 0, 0, 0, 0, 0, 0, 0, 0, 0, 0, 0, 1, 0, ...</td>\n",
       "      <td>[0, 0, 0, 1, 0, 0, 0, 0, 0, 0, 0, 0]</td>\n",
       "      <td>[]</td>\n",
       "      <td>[]</td>\n",
       "      <td>[]</td>\n",
       "      <td>[]</td>\n",
       "      <td>[0, 0, 0, 0, 1, 0, 0, 0, 0, 0]</td>\n",
       "      <td>...</td>\n",
       "      <td>[0, 0, 1, 0, 0, 0, 0, 0, 0]</td>\n",
       "      <td>[]</td>\n",
       "      <td>[0, 1, 0, 0, 0, 0, 0, 0, 0, 0, 0, 0, 0, 0, 0, ...</td>\n",
       "      <td>[0, 0, 0, 0, 0, 0, 0, 0, 0, 0, 0, 0, 0, 0, 0, ...</td>\n",
       "      <td>[]</td>\n",
       "      <td>[]</td>\n",
       "      <td>[0, 0, 0, 1, 0]</td>\n",
       "      <td>[]</td>\n",
       "      <td>[0, 0, 0, 0, 0, 0, 0, 0, 0, 0, 0, 0, 0, 0, 0, ...</td>\n",
       "      <td>[]</td>\n",
       "    </tr>\n",
       "    <tr>\n",
       "      <th>4</th>\n",
       "      <td>1062813001</td>\n",
       "      <td>[]</td>\n",
       "      <td>[]</td>\n",
       "      <td>[0, 0, 0, 0, 0, 0, 0, 0, 0, 0, 0, 0, 0, 0, 0, ...</td>\n",
       "      <td>[0, 0, 0, 0, 0, 0, 0, 0, 0, 0, 0, 1]</td>\n",
       "      <td>[]</td>\n",
       "      <td>[1, 0, 0, 0, 0, 0, 0, 0, 0]</td>\n",
       "      <td>[]</td>\n",
       "      <td>[]</td>\n",
       "      <td>[0, 0, 0, 0, 0, 0, 0, 0, 0, 1]</td>\n",
       "      <td>...</td>\n",
       "      <td>[0, 0, 1, 0, 0, 0, 0, 0, 0]</td>\n",
       "      <td>[]</td>\n",
       "      <td>[0, 1, 0, 0, 0, 0, 0, 0, 0, 0, 0, 0, 0, 0, 0, ...</td>\n",
       "      <td>[0, 0, 0, 0, 0, 0, 0, 0, 0, 0, 0, 0, 0, 0, 0, ...</td>\n",
       "      <td>[]</td>\n",
       "      <td>[]</td>\n",
       "      <td>[0, 0, 0, 0, 1]</td>\n",
       "      <td>[]</td>\n",
       "      <td>[0, 0, 0, 0, 0, 0, 0, 0, 0, 0, 0, 0, 0, 0, 0, ...</td>\n",
       "      <td>[]</td>\n",
       "    </tr>\n",
       "  </tbody>\n",
       "</table>\n",
       "<p>5 rows × 21 columns</p>\n",
       "</div>"
      ],
      "text/plain": [
       "         Code Accessory Style                                   Collar  \\\n",
       "0  1071498001              []                                       []   \n",
       "1  1069183001              []                                       []   \n",
       "2  1069183002              []                                       []   \n",
       "3  1021919001              []  [0, 0, 0, 0, 1, 0, 0, 0, 0, 0, 0, 0, 0]   \n",
       "4  1062813001              []                                       []   \n",
       "\n",
       "                                               Color  \\\n",
       "0  [0, 0, 0, 0, 0, 0, 0, 0, 0, 0, 0, 0, 0, 1, 0, ...   \n",
       "1  [0, 0, 0, 0, 0, 0, 0, 0, 0, 0, 0, 0, 0, 1, 0, ...   \n",
       "2  [0, 0, 1, 0, 0, 0, 0, 0, 0, 0, 0, 0, 0, 0, 0, ...   \n",
       "3  [0, 0, 0, 0, 0, 0, 0, 0, 0, 0, 0, 0, 0, 1, 0, ...   \n",
       "4  [0, 0, 0, 0, 0, 0, 0, 0, 0, 0, 0, 0, 0, 0, 0, ...   \n",
       "\n",
       "                                Concept Finish                          Fit  \\\n",
       "0  [0, 0, 0, 0, 0, 0, 0, 0, 0, 0, 0, 1]     []  [1, 0, 0, 0, 0, 0, 0, 0, 0]   \n",
       "1  [0, 0, 0, 1, 0, 0, 0, 0, 0, 0, 0, 0]     []                           []   \n",
       "2  [0, 0, 0, 1, 0, 0, 0, 0, 0, 0, 0, 0]     []                           []   \n",
       "3  [0, 0, 0, 1, 0, 0, 0, 0, 0, 0, 0, 0]     []                           []   \n",
       "4  [0, 0, 0, 0, 0, 0, 0, 0, 0, 0, 0, 1]     []  [1, 0, 0, 0, 0, 0, 0, 0, 0]   \n",
       "\n",
       "  Function Heel Height                          Length  ...  \\\n",
       "0       []          []  [0, 0, 0, 0, 0, 0, 0, 0, 0, 1]  ...   \n",
       "1       []          []  [0, 0, 1, 0, 0, 0, 0, 0, 0, 0]  ...   \n",
       "2       []          []  [0, 0, 1, 0, 0, 0, 0, 0, 0, 0]  ...   \n",
       "3       []          []  [0, 0, 0, 0, 1, 0, 0, 0, 0, 0]  ...   \n",
       "4       []          []  [0, 0, 0, 0, 0, 0, 0, 0, 0, 1]  ...   \n",
       "\n",
       "                      Occasion Opacity  \\\n",
       "0  [0, 0, 1, 0, 0, 0, 0, 0, 0]      []   \n",
       "1  [0, 0, 1, 0, 0, 0, 0, 0, 0]      []   \n",
       "2  [0, 0, 1, 0, 0, 0, 0, 0, 0]      []   \n",
       "3  [0, 0, 1, 0, 0, 0, 0, 0, 0]      []   \n",
       "4  [0, 0, 1, 0, 0, 0, 0, 0, 0]      []   \n",
       "\n",
       "                                             Pattern  \\\n",
       "0  [0, 1, 0, 0, 0, 0, 0, 0, 0, 0, 0, 0, 0, 0, 0, ...   \n",
       "1  [0, 1, 0, 0, 0, 0, 0, 0, 0, 0, 0, 0, 0, 0, 0, ...   \n",
       "2  [0, 1, 0, 0, 0, 0, 0, 0, 0, 0, 0, 0, 0, 0, 0, ...   \n",
       "3  [0, 1, 0, 0, 0, 0, 0, 0, 0, 0, 0, 0, 0, 0, 0, ...   \n",
       "4  [0, 1, 0, 0, 0, 0, 0, 0, 0, 0, 0, 0, 0, 0, 0, ...   \n",
       "\n",
       "                                        Product Type Shoe Style Skin Tone  \\\n",
       "0  [0, 0, 0, 0, 0, 0, 0, 0, 0, 0, 0, 0, 0, 0, 0, ...         []        []   \n",
       "1  [0, 0, 0, 0, 0, 0, 0, 0, 0, 0, 0, 0, 0, 0, 0, ...         []        []   \n",
       "2  [0, 0, 0, 0, 0, 0, 0, 0, 0, 0, 0, 0, 0, 0, 0, ...         []        []   \n",
       "3  [0, 0, 0, 0, 0, 0, 0, 0, 0, 0, 0, 0, 0, 0, 0, ...         []        []   \n",
       "4  [0, 0, 0, 0, 0, 0, 0, 0, 0, 0, 0, 0, 0, 0, 0, ...         []        []   \n",
       "\n",
       "     Sleeve Length Sleeve Style  \\\n",
       "0  [0, 0, 0, 1, 0]           []   \n",
       "1  [0, 0, 0, 1, 0]           []   \n",
       "2  [0, 0, 0, 1, 0]           []   \n",
       "3  [0, 0, 0, 1, 0]           []   \n",
       "4  [0, 0, 0, 0, 1]           []   \n",
       "\n",
       "                                               Style Waist Height  \n",
       "0  [0, 0, 0, 0, 0, 0, 0, 0, 0, 0, 0, 0, 0, 0, 0, ...           []  \n",
       "1  [0, 0, 0, 0, 0, 0, 0, 0, 0, 0, 0, 0, 0, 0, 0, ...           []  \n",
       "2  [0, 0, 0, 0, 0, 0, 0, 0, 0, 0, 0, 0, 0, 0, 0, ...           []  \n",
       "3  [0, 0, 0, 0, 0, 0, 0, 0, 0, 0, 0, 0, 0, 0, 0, ...           []  \n",
       "4  [0, 0, 0, 0, 0, 0, 0, 0, 0, 0, 0, 0, 0, 0, 0, ...           []  \n",
       "\n",
       "[5 rows x 21 columns]"
      ]
     },
     "execution_count": 537,
     "metadata": {},
     "output_type": "execute_result"
    }
   ],
   "source": [
    "for f in filter_names:\n",
    "    filter_temp = pd.get_dummies(\n",
    "        data=attribs[attribs['Filter_Name_Eng'] == f][['Code', 'Filter_Value']], \n",
    "        columns=['Filter_Value'],\n",
    "        prefix='',\n",
    "        prefix_sep=''\n",
    "    )\n",
    "    # get all unique codes with multi-labels\n",
    "    filter_temp = filter_temp.groupby('Code').sum()\n",
    "    # add the values to a list - we'll need this later when we're doing predictions\n",
    "    filter_value_lists.append(filter_temp.columns.tolist())\n",
    "    # compressing all codes into a list\n",
    "    filter_temp[f] = filter_temp.values.tolist()\n",
    "    # keeping only the code and the list\n",
    "    filter_temp = filter_temp[f].reset_index()\n",
    "    # merging the list back into the master df\n",
    "    final_filters = final_filters.merge(filter_temp, on='Code', how='left')\n",
    "    # setting all null values to an empty list\n",
    "    final_filters[f] = final_filters[f].apply(lambda d: d if isinstance(d, list) else [])\n",
    "\n",
    "# filter_temp.head()\n",
    "final_filters.head()"
   ]
  },
  {
   "cell_type": "code",
   "execution_count": 538,
   "id": "bc4d549a",
   "metadata": {},
   "outputs": [
    {
     "data": {
      "text/plain": [
       "(14456, 21)"
      ]
     },
     "execution_count": 538,
     "metadata": {},
     "output_type": "execute_result"
    }
   ],
   "source": [
    "final_filters.shape"
   ]
  },
  {
   "cell_type": "code",
   "execution_count": 539,
   "id": "8b806f71",
   "metadata": {},
   "outputs": [
    {
     "data": {
      "text/plain": [
       "Code               0\n",
       "Accessory Style    0\n",
       "Collar             0\n",
       "Color              0\n",
       "Concept            0\n",
       "Finish             0\n",
       "Fit                0\n",
       "Function           0\n",
       "Heel Height        0\n",
       "Length             0\n",
       "Neckline           0\n",
       "Occasion           0\n",
       "Opacity            0\n",
       "Pattern            0\n",
       "Product Type       0\n",
       "Shoe Style         0\n",
       "Skin Tone          0\n",
       "Sleeve Length      0\n",
       "Sleeve Style       0\n",
       "Style              0\n",
       "Waist Height       0\n",
       "dtype: int64"
      ]
     },
     "execution_count": 539,
     "metadata": {},
     "output_type": "execute_result"
    }
   ],
   "source": [
    "final_filters.isna().sum()"
   ]
  },
  {
   "cell_type": "code",
   "execution_count": 540,
   "id": "5ffa5244",
   "metadata": {},
   "outputs": [],
   "source": [
    "final_filters['Filter_Values'] = final_filters[filter_names].values.tolist()"
   ]
  },
  {
   "cell_type": "code",
   "execution_count": 541,
   "id": "aa58ad0e",
   "metadata": {},
   "outputs": [
    {
     "data": {
      "text/html": [
       "<div>\n",
       "<style scoped>\n",
       "    .dataframe tbody tr th:only-of-type {\n",
       "        vertical-align: middle;\n",
       "    }\n",
       "\n",
       "    .dataframe tbody tr th {\n",
       "        vertical-align: top;\n",
       "    }\n",
       "\n",
       "    .dataframe thead th {\n",
       "        text-align: right;\n",
       "    }\n",
       "</style>\n",
       "<table border=\"1\" class=\"dataframe\">\n",
       "  <thead>\n",
       "    <tr style=\"text-align: right;\">\n",
       "      <th></th>\n",
       "      <th>Code</th>\n",
       "      <th>Filter_Values</th>\n",
       "    </tr>\n",
       "  </thead>\n",
       "  <tbody>\n",
       "    <tr>\n",
       "      <th>0</th>\n",
       "      <td>1071498001</td>\n",
       "      <td>[[], [], [0, 0, 0, 0, 0, 0, 0, 0, 0, 0, 0, 0, ...</td>\n",
       "    </tr>\n",
       "    <tr>\n",
       "      <th>1</th>\n",
       "      <td>1069183001</td>\n",
       "      <td>[[], [], [0, 0, 0, 0, 0, 0, 0, 0, 0, 0, 0, 0, ...</td>\n",
       "    </tr>\n",
       "    <tr>\n",
       "      <th>2</th>\n",
       "      <td>1069183002</td>\n",
       "      <td>[[], [], [0, 0, 1, 0, 0, 0, 0, 0, 0, 0, 0, 0, ...</td>\n",
       "    </tr>\n",
       "    <tr>\n",
       "      <th>3</th>\n",
       "      <td>1021919001</td>\n",
       "      <td>[[], [0, 0, 0, 0, 1, 0, 0, 0, 0, 0, 0, 0, 0], ...</td>\n",
       "    </tr>\n",
       "    <tr>\n",
       "      <th>4</th>\n",
       "      <td>1062813001</td>\n",
       "      <td>[[], [], [0, 0, 0, 0, 0, 0, 0, 0, 0, 0, 0, 0, ...</td>\n",
       "    </tr>\n",
       "  </tbody>\n",
       "</table>\n",
       "</div>"
      ],
      "text/plain": [
       "         Code                                      Filter_Values\n",
       "0  1071498001  [[], [], [0, 0, 0, 0, 0, 0, 0, 0, 0, 0, 0, 0, ...\n",
       "1  1069183001  [[], [], [0, 0, 0, 0, 0, 0, 0, 0, 0, 0, 0, 0, ...\n",
       "2  1069183002  [[], [], [0, 0, 1, 0, 0, 0, 0, 0, 0, 0, 0, 0, ...\n",
       "3  1021919001  [[], [0, 0, 0, 0, 1, 0, 0, 0, 0, 0, 0, 0, 0], ...\n",
       "4  1062813001  [[], [], [0, 0, 0, 0, 0, 0, 0, 0, 0, 0, 0, 0, ..."
      ]
     },
     "execution_count": 541,
     "metadata": {},
     "output_type": "execute_result"
    }
   ],
   "source": [
    "final_filters[['Code', 'Filter_Values']].head()"
   ]
  },
  {
   "cell_type": "code",
   "execution_count": 542,
   "id": "6ca13a56",
   "metadata": {},
   "outputs": [
    {
     "data": {
      "text/plain": [
       "(14456, 22)"
      ]
     },
     "execution_count": 542,
     "metadata": {},
     "output_type": "execute_result"
    }
   ],
   "source": [
    "final_filters.shape"
   ]
  },
  {
   "cell_type": "code",
   "execution_count": 543,
   "id": "8ad01863",
   "metadata": {},
   "outputs": [
    {
     "data": {
      "text/plain": [
       "(14456, 9)"
      ]
     },
     "execution_count": 543,
     "metadata": {},
     "output_type": "execute_result"
    }
   ],
   "source": [
    "df_filters.shape"
   ]
  },
  {
   "cell_type": "code",
   "execution_count": 544,
   "id": "94cc435c",
   "metadata": {},
   "outputs": [],
   "source": [
    "df_filters = df_filters.merge(final_filters[['Code', 'Filter_Values']], on='Code', how='left')"
   ]
  },
  {
   "cell_type": "code",
   "execution_count": 545,
   "id": "8981812d",
   "metadata": {},
   "outputs": [
    {
     "data": {
      "text/html": [
       "<div>\n",
       "<style scoped>\n",
       "    .dataframe tbody tr th:only-of-type {\n",
       "        vertical-align: middle;\n",
       "    }\n",
       "\n",
       "    .dataframe tbody tr th {\n",
       "        vertical-align: top;\n",
       "    }\n",
       "\n",
       "    .dataframe thead th {\n",
       "        text-align: right;\n",
       "    }\n",
       "</style>\n",
       "<table border=\"1\" class=\"dataframe\">\n",
       "  <thead>\n",
       "    <tr style=\"text-align: right;\">\n",
       "      <th></th>\n",
       "      <th>Code</th>\n",
       "      <th>Name</th>\n",
       "      <th>Img_Ext</th>\n",
       "      <th>Parent_Category</th>\n",
       "      <th>Top_Category</th>\n",
       "      <th>Parent_Category_Name</th>\n",
       "      <th>Category_Name</th>\n",
       "      <th>Category_Filters</th>\n",
       "      <th>Product_Filters</th>\n",
       "      <th>Filter_Values</th>\n",
       "    </tr>\n",
       "  </thead>\n",
       "  <tbody>\n",
       "    <tr>\n",
       "      <th>0</th>\n",
       "      <td>1071498001</td>\n",
       "      <td>Cut-out-Shirt</td>\n",
       "      <td>.jpg</td>\n",
       "      <td>0.0</td>\n",
       "      <td>Women</td>\n",
       "      <td>Shirts &amp; Tops</td>\n",
       "      <td>Women_Shirts-&amp;-Tops</td>\n",
       "      <td>[0.0, 1.0, 1.0, 1.0, 0.0, 1.0, 1.0, 0.0, 1.0, ...</td>\n",
       "      <td>[0.0, 0.0, 1.0, 1.0, 0.0, 1.0, 0.0, 0.0, 1.0, ...</td>\n",
       "      <td>[[], [], [0, 0, 0, 0, 0, 0, 0, 0, 0, 0, 0, 0, ...</td>\n",
       "    </tr>\n",
       "    <tr>\n",
       "      <th>1</th>\n",
       "      <td>1069183001</td>\n",
       "      <td>Kurzes Shirt mit Cut-out</td>\n",
       "      <td>.jpg</td>\n",
       "      <td>0.0</td>\n",
       "      <td>Women</td>\n",
       "      <td>Shirts &amp; Tops</td>\n",
       "      <td>Women_Shirts-&amp;-Tops</td>\n",
       "      <td>[0.0, 1.0, 1.0, 1.0, 0.0, 1.0, 1.0, 0.0, 1.0, ...</td>\n",
       "      <td>[0.0, 0.0, 1.0, 1.0, 0.0, 0.0, 0.0, 0.0, 1.0, ...</td>\n",
       "      <td>[[], [], [0, 0, 0, 0, 0, 0, 0, 0, 0, 0, 0, 0, ...</td>\n",
       "    </tr>\n",
       "    <tr>\n",
       "      <th>2</th>\n",
       "      <td>1069183002</td>\n",
       "      <td>Kurzes Shirt mit Cut-out</td>\n",
       "      <td>.jpg</td>\n",
       "      <td>0.0</td>\n",
       "      <td>Women</td>\n",
       "      <td>Shirts &amp; Tops</td>\n",
       "      <td>Women_Shirts-&amp;-Tops</td>\n",
       "      <td>[0.0, 1.0, 1.0, 1.0, 0.0, 1.0, 1.0, 0.0, 1.0, ...</td>\n",
       "      <td>[0.0, 0.0, 1.0, 1.0, 0.0, 0.0, 0.0, 0.0, 1.0, ...</td>\n",
       "      <td>[[], [], [0, 0, 1, 0, 0, 0, 0, 0, 0, 0, 0, 0, ...</td>\n",
       "    </tr>\n",
       "    <tr>\n",
       "      <th>3</th>\n",
       "      <td>1021919001</td>\n",
       "      <td>Pullover mit Cut-outs</td>\n",
       "      <td>.jpg</td>\n",
       "      <td>0.0</td>\n",
       "      <td>Women</td>\n",
       "      <td>Shirts &amp; Tops</td>\n",
       "      <td>Women_Shirts-&amp;-Tops</td>\n",
       "      <td>[0.0, 1.0, 1.0, 1.0, 0.0, 1.0, 1.0, 0.0, 1.0, ...</td>\n",
       "      <td>[0.0, 1.0, 1.0, 1.0, 0.0, 0.0, 0.0, 0.0, 1.0, ...</td>\n",
       "      <td>[[], [0, 0, 0, 0, 1, 0, 0, 0, 0, 0, 0, 0, 0], ...</td>\n",
       "    </tr>\n",
       "    <tr>\n",
       "      <th>4</th>\n",
       "      <td>1062813001</td>\n",
       "      <td>Tanktop</td>\n",
       "      <td>.jpg</td>\n",
       "      <td>0.0</td>\n",
       "      <td>Women</td>\n",
       "      <td>Shirts &amp; Tops</td>\n",
       "      <td>Women_Shirts-&amp;-Tops</td>\n",
       "      <td>[0.0, 1.0, 1.0, 1.0, 0.0, 1.0, 1.0, 0.0, 1.0, ...</td>\n",
       "      <td>[0.0, 0.0, 1.0, 1.0, 0.0, 1.0, 0.0, 0.0, 1.0, ...</td>\n",
       "      <td>[[], [], [0, 0, 0, 0, 0, 0, 0, 0, 0, 0, 0, 0, ...</td>\n",
       "    </tr>\n",
       "  </tbody>\n",
       "</table>\n",
       "</div>"
      ],
      "text/plain": [
       "         Code                      Name Img_Ext  Parent_Category Top_Category  \\\n",
       "0  1071498001             Cut-out-Shirt    .jpg              0.0        Women   \n",
       "1  1069183001  Kurzes Shirt mit Cut-out    .jpg              0.0        Women   \n",
       "2  1069183002  Kurzes Shirt mit Cut-out    .jpg              0.0        Women   \n",
       "3  1021919001     Pullover mit Cut-outs    .jpg              0.0        Women   \n",
       "4  1062813001                   Tanktop    .jpg              0.0        Women   \n",
       "\n",
       "  Parent_Category_Name        Category_Name  \\\n",
       "0        Shirts & Tops  Women_Shirts-&-Tops   \n",
       "1        Shirts & Tops  Women_Shirts-&-Tops   \n",
       "2        Shirts & Tops  Women_Shirts-&-Tops   \n",
       "3        Shirts & Tops  Women_Shirts-&-Tops   \n",
       "4        Shirts & Tops  Women_Shirts-&-Tops   \n",
       "\n",
       "                                    Category_Filters  \\\n",
       "0  [0.0, 1.0, 1.0, 1.0, 0.0, 1.0, 1.0, 0.0, 1.0, ...   \n",
       "1  [0.0, 1.0, 1.0, 1.0, 0.0, 1.0, 1.0, 0.0, 1.0, ...   \n",
       "2  [0.0, 1.0, 1.0, 1.0, 0.0, 1.0, 1.0, 0.0, 1.0, ...   \n",
       "3  [0.0, 1.0, 1.0, 1.0, 0.0, 1.0, 1.0, 0.0, 1.0, ...   \n",
       "4  [0.0, 1.0, 1.0, 1.0, 0.0, 1.0, 1.0, 0.0, 1.0, ...   \n",
       "\n",
       "                                     Product_Filters  \\\n",
       "0  [0.0, 0.0, 1.0, 1.0, 0.0, 1.0, 0.0, 0.0, 1.0, ...   \n",
       "1  [0.0, 0.0, 1.0, 1.0, 0.0, 0.0, 0.0, 0.0, 1.0, ...   \n",
       "2  [0.0, 0.0, 1.0, 1.0, 0.0, 0.0, 0.0, 0.0, 1.0, ...   \n",
       "3  [0.0, 1.0, 1.0, 1.0, 0.0, 0.0, 0.0, 0.0, 1.0, ...   \n",
       "4  [0.0, 0.0, 1.0, 1.0, 0.0, 1.0, 0.0, 0.0, 1.0, ...   \n",
       "\n",
       "                                       Filter_Values  \n",
       "0  [[], [], [0, 0, 0, 0, 0, 0, 0, 0, 0, 0, 0, 0, ...  \n",
       "1  [[], [], [0, 0, 0, 0, 0, 0, 0, 0, 0, 0, 0, 0, ...  \n",
       "2  [[], [], [0, 0, 1, 0, 0, 0, 0, 0, 0, 0, 0, 0, ...  \n",
       "3  [[], [0, 0, 0, 0, 1, 0, 0, 0, 0, 0, 0, 0, 0], ...  \n",
       "4  [[], [], [0, 0, 0, 0, 0, 0, 0, 0, 0, 0, 0, 0, ...  "
      ]
     },
     "execution_count": 545,
     "metadata": {},
     "output_type": "execute_result"
    }
   ],
   "source": [
    "df_filters.head()"
   ]
  },
  {
   "cell_type": "code",
   "execution_count": 546,
   "id": "dbc94cfc",
   "metadata": {},
   "outputs": [
    {
     "data": {
      "text/plain": [
       "(14456, 10)"
      ]
     },
     "execution_count": 546,
     "metadata": {},
     "output_type": "execute_result"
    }
   ],
   "source": [
    "df_filters.shape"
   ]
  },
  {
   "cell_type": "code",
   "execution_count": 547,
   "id": "042647f7",
   "metadata": {},
   "outputs": [
    {
     "data": {
      "text/plain": [
       "[['Accessory Style_Armband mit Anhängern',\n",
       "  'Accessory Style_Armkette',\n",
       "  'Accessory Style_Babyhaube',\n",
       "  'Accessory Style_Baker-Boy-Mütze',\n",
       "  'Accessory Style_Balaclava',\n",
       "  'Accessory Style_Baseballcap',\n",
       "  'Accessory Style_Bucket Hat',\n",
       "  'Accessory Style_Cap mit Ohrenklappen',\n",
       "  'Accessory Style_Crossbody-Tasche',\n",
       "  'Accessory Style_Earcuff',\n",
       "  'Accessory Style_Fedora-Hut',\n",
       "  'Accessory Style_Flaschentasche',\n",
       "  'Accessory Style_Gliederkette',\n",
       "  'Accessory Style_Handschuhe für Kinderwagen',\n",
       "  'Accessory Style_Handtasche',\n",
       "  'Accessory Style_Hobotasche',\n",
       "  'Accessory Style_Hüfttasche',\n",
       "  'Accessory Style_Kette mit Anhänger',\n",
       "  'Accessory Style_Laptoptasche',\n",
       "  'Accessory Style_Manschettenarmreif',\n",
       "  'Accessory Style_Mehrreihige Halskette',\n",
       "  'Accessory Style_Mehrreihiges Armband',\n",
       "  'Accessory Style_Ohrhänger',\n",
       "  'Accessory Style_Ohrstecker',\n",
       "  'Accessory Style_Pouch',\n",
       "  'Accessory Style_Rolltop-Rucksack',\n",
       "  'Accessory Style_Rucksack',\n",
       "  'Accessory Style_Runde Ohrringe',\n",
       "  'Accessory Style_Schlauchschal',\n",
       "  'Accessory Style_Schultertasche',\n",
       "  'Accessory Style_Scrunchie',\n",
       "  'Accessory Style_Seilgürtel',\n",
       "  'Accessory Style_Shopper',\n",
       "  'Accessory Style_Smartphonetasche',\n",
       "  'Accessory Style_Sonnenhut',\n",
       "  'Accessory Style_Sporttasche',\n",
       "  'Accessory Style_Strandtasche',\n",
       "  'Accessory Style_Tennisarmband',\n",
       "  'Accessory Style_Tote Bag',\n",
       "  'Accessory Style_Tropfenohrringe',\n",
       "  'Accessory Style_Trucker-Cap',\n",
       "  'Accessory Style_Turnbeutel',\n",
       "  'Accessory Style_Weekendbag'],\n",
       " ['Collar_Bubikragen',\n",
       "  'Collar_Button-down-Kragen',\n",
       "  'Collar_Cutaway-Kragen',\n",
       "  'Collar_Henleykragen',\n",
       "  'Collar_Hoher Kragen',\n",
       "  'Collar_Johnnykragen',\n",
       "  'Collar_Peter-Pan-Kragen',\n",
       "  'Collar_Reverskragen',\n",
       "  'Collar_Schalkragen',\n",
       "  'Collar_Stehkragen',\n",
       "  'Collar_Tunnelkragen',\n",
       "  'Collar_Turn-down-Kragen',\n",
       "  'Collar_Volantkragen'],\n",
       " ['Color_Beige',\n",
       "  'Color_Blau',\n",
       "  'Color_Braun',\n",
       "  'Color_Bronze',\n",
       "  'Color_Gelb',\n",
       "  'Color_Goldfarben',\n",
       "  'Color_Grau',\n",
       "  'Color_Grün',\n",
       "  'Color_Lila',\n",
       "  'Color_Mehrfarbig',\n",
       "  'Color_Orange',\n",
       "  'Color_Rosa',\n",
       "  'Color_Rot',\n",
       "  'Color_Schwarz',\n",
       "  'Color_Silberfarben',\n",
       "  'Color_Transparent',\n",
       "  'Color_Türkis',\n",
       "  'Color_Weiß'],\n",
       " ['Concept_BABY EXCLUSIVE',\n",
       "  'Concept_BASICS',\n",
       "  'Concept_DENIM',\n",
       "  'Concept_DIVIDED',\n",
       "  'Concept_EVERYDAY FASHION',\n",
       "  'Concept_H&M BEAUTY',\n",
       "  'Concept_H&M MAN',\n",
       "  'Concept_H&M+',\n",
       "  'Concept_KIDS EXCLUSIVE',\n",
       "  'Concept_MAMA',\n",
       "  'Concept_MODERN CLASSIC',\n",
       "  'Concept_TREND'],\n",
       " ['Finish_Glänzendes Finish',\n",
       "  'Finish_Mattes Finish',\n",
       "  'Finish_Natürliches Finish',\n",
       "  'Finish_Strahlendes Finish'],\n",
       " ['Fit_Figurbetont',\n",
       "  'Fit_Loose Fit',\n",
       "  'Fit_Muscle Fit',\n",
       "  'Fit_Oversize',\n",
       "  'Fit_Regular Fit',\n",
       "  'Fit_Relaxed Fit',\n",
       "  'Fit_Skinny Fit',\n",
       "  'Fit_Slim Fit',\n",
       "  'Fit_Super Skinny Fit'],\n",
       " ['Function_Atmungsaktiv',\n",
       "  'Function_Polarisierend',\n",
       "  'Function_Reflektoren',\n",
       "  'Function_Schnelltrocknend',\n",
       "  'Function_Wasserabweisend',\n",
       "  'Function_Wasserdicht',\n",
       "  'Function_Wasserresistent',\n",
       "  'Function_Winddicht'],\n",
       " ['Heel Height_Hoher Absatz',\n",
       "  'Heel Height_Niedriger Absatz',\n",
       "  'Heel Height_Ohne Absatz'],\n",
       " ['Length_3/4-Länge',\n",
       "  'Length_7/8-Länge',\n",
       "  'Length_Cropped',\n",
       "  'Length_Knielang',\n",
       "  'Length_Kurz',\n",
       "  'Length_Lang',\n",
       "  'Length_Maxi',\n",
       "  'Length_Midi',\n",
       "  'Length_Mini',\n",
       "  'Length_Normale Länge'],\n",
       " ['Neckline_Eckiger Ausschnitt',\n",
       "  'Neckline_Herzausschnitt',\n",
       "  'Neckline_Neckholder',\n",
       "  'Neckline_Rollkragen',\n",
       "  'Neckline_Rundausschnitt',\n",
       "  'Neckline_Tiefer Ausschnitt',\n",
       "  'Neckline_Turtleneck',\n",
       "  'Neckline_U-Boot-Ausschnitt',\n",
       "  'Neckline_V-Ausschnitt'],\n",
       " ['Occasion_Businesskleidung',\n",
       "  'Occasion_Elegant',\n",
       "  'Occasion_Freizeit',\n",
       "  'Occasion_Lounge',\n",
       "  'Occasion_Maskerade',\n",
       "  'Occasion_Party',\n",
       "  'Occasion_Schule',\n",
       "  'Occasion_Sport',\n",
       "  'Occasion_Strand'],\n",
       " ['Opacity_Leichte Deckkraft',\n",
       "  'Opacity_Mittlere Deckkraft',\n",
       "  'Opacity_Volle Deckkraft'],\n",
       " ['Pattern_argyle-muster',\n",
       "  'Pattern_einfarbig',\n",
       "  'Pattern_fischgrätmuster',\n",
       "  'Pattern_geblümt',\n",
       "  'Pattern_gemustert',\n",
       "  'Pattern_gepunktet',\n",
       "  'Pattern_gestreift',\n",
       "  'Pattern_hahnentrittmuster',\n",
       "  'Pattern_kariert',\n",
       "  'Pattern_krokomuster',\n",
       "  'Pattern_leopardenmuster',\n",
       "  'Pattern_marmoriert',\n",
       "  'Pattern_mit blockfarben',\n",
       "  'Pattern_nadelstreifen',\n",
       "  'Pattern_paisleymuster',\n",
       "  'Pattern_regenbogenmuster',\n",
       "  'Pattern_schildpattoptik',\n",
       "  'Pattern_schlangenmuster',\n",
       "  'Pattern_zebramuster'],\n",
       " ['Product Type_Anzugweste',\n",
       "  'Product Type_Applikator',\n",
       "  'Product Type_Armband',\n",
       "  'Product Type_Aufkleber',\n",
       "  'Product Type_Augenbrauengel',\n",
       "  'Product Type_Augenbrauenpuder',\n",
       "  'Product Type_Augenbrauenstift',\n",
       "  'Product Type_Augenmaske',\n",
       "  'Product Type_BH',\n",
       "  'Product Type_Babybody',\n",
       "  'Product Type_Babyhöschen',\n",
       "  'Product Type_Babyschal',\n",
       "  'Product Type_Badeanzug',\n",
       "  'Product Type_Badebombe',\n",
       "  'Product Type_Badebürste',\n",
       "  'Product Type_Badehose',\n",
       "  'Product Type_Bademantel',\n",
       "  'Product Type_Baskenmütze',\n",
       "  'Product Type_Bikinihose',\n",
       "  'Product Type_Bikinitop',\n",
       "  'Product Type_Bluse',\n",
       "  'Product Type_Body',\n",
       "  'Product Type_Brille',\n",
       "  'Product Type_Brillenkette',\n",
       "  'Product Type_Bronzer',\n",
       "  'Product Type_Bustier',\n",
       "  'Product Type_Cap',\n",
       "  'Product Type_Cardigan',\n",
       "  'Product Type_Concealer',\n",
       "  'Product Type_Erfrischungstücher',\n",
       "  'Product Type_Eyeliner',\n",
       "  'Product Type_Fliege',\n",
       "  'Product Type_Foundation',\n",
       "  'Product Type_Fußmaske',\n",
       "  'Product Type_Fußschmuck',\n",
       "  'Product Type_Fäustlinge',\n",
       "  'Product Type_Geldbörse',\n",
       "  'Product Type_Gesichtsmaske',\n",
       "  'Product Type_Gesichtsreinigung',\n",
       "  'Product Type_Gesichtsreinigungsbürste',\n",
       "  'Product Type_Gesichtsreinigungspad',\n",
       "  'Product Type_Gesichtsreinigungsschwamm',\n",
       "  'Product Type_Gesichtsspray',\n",
       "  'Product Type_Gürtel',\n",
       "  'Product Type_Haarband',\n",
       "  'Product Type_Haarbürste',\n",
       "  'Product Type_Haargummi',\n",
       "  'Product Type_Haarklemme',\n",
       "  'Product Type_Haarreif',\n",
       "  'Product Type_Haarspange',\n",
       "  'Product Type_Haarwachs',\n",
       "  'Product Type_Halskette',\n",
       "  'Product Type_Handcreme',\n",
       "  'Product Type_Handdesinfektionsmittel',\n",
       "  'Product Type_Handmaske',\n",
       "  'Product Type_Handschuhe',\n",
       "  'Product Type_Handtuch',\n",
       "  'Product Type_Handyschmuck',\n",
       "  'Product Type_Hausschuhe',\n",
       "  'Product Type_Hemd',\n",
       "  'Product Type_Hose',\n",
       "  'Product Type_Hut',\n",
       "  'Product Type_Jacke',\n",
       "  'Product Type_Jeans',\n",
       "  'Product Type_Jumpsuit',\n",
       "  'Product Type_Kaftan',\n",
       "  'Product Type_Kartenhalter',\n",
       "  'Product Type_Kleid',\n",
       "  'Product Type_Kopfhörertasche',\n",
       "  'Product Type_Kosmetikspachtel',\n",
       "  'Product Type_Kostüm-Accessoires',\n",
       "  'Product Type_Kragen',\n",
       "  'Product Type_Krawatte',\n",
       "  'Product Type_Künstliche Nägel',\n",
       "  'Product Type_Künstliche Wimpern',\n",
       "  'Product Type_Laptop-Etui',\n",
       "  'Product Type_Leggings',\n",
       "  'Product Type_Lidschatten',\n",
       "  'Product Type_Lipgloss',\n",
       "  'Product Type_Lipliner',\n",
       "  'Product Type_Lippenbalsam',\n",
       "  'Product Type_Lippenstift',\n",
       "  'Product Type_Lippenöl',\n",
       "  'Product Type_Loser Glitzer',\n",
       "  'Product Type_Make-up-Anspitzer',\n",
       "  'Product Type_Make-up-Entferner',\n",
       "  'Product Type_Make-up-Fixierspray',\n",
       "  'Product Type_Make-up-Highlighter',\n",
       "  'Product Type_Make-up-Pinsel',\n",
       "  'Product Type_Make-up-Schwamm',\n",
       "  'Product Type_Make-up-Tasche',\n",
       "  'Product Type_Mantel',\n",
       "  'Product Type_Mascara',\n",
       "  'Product Type_Massagestein',\n",
       "  'Product Type_Mütze',\n",
       "  'Product Type_Nachthemd',\n",
       "  'Product Type_Nagelbürste',\n",
       "  'Product Type_Nagelfeile',\n",
       "  'Product Type_Nagelknipser',\n",
       "  'Product Type_Nagellack',\n",
       "  'Product Type_Nagellackentferner',\n",
       "  'Product Type_Nagelöl',\n",
       "  'Product Type_Necessaire',\n",
       "  'Product Type_Ohrringe',\n",
       "  'Product Type_Overall',\n",
       "  'Product Type_Parfüm',\n",
       "  'Product Type_Peelinghandschuh',\n",
       "  'Product Type_Pinselreiniger',\n",
       "  'Product Type_Pinzette',\n",
       "  'Product Type_Plaid',\n",
       "  'Product Type_Poncho',\n",
       "  'Product Type_Puder',\n",
       "  'Product Type_Pullover',\n",
       "  'Product Type_Pyjama',\n",
       "  'Product Type_Reiseverpackung',\n",
       "  'Product Type_Ring',\n",
       "  'Product Type_Rock',\n",
       "  'Product Type_Roller',\n",
       "  'Product Type_Rouge',\n",
       "  'Product Type_Sakko',\n",
       "  'Product Type_Schal',\n",
       "  'Product Type_Schaumbad',\n",
       "  'Product Type_Schlafsack',\n",
       "  'Product Type_Schminkspiegel',\n",
       "  'Product Type_Schmuck für Ohrhörer',\n",
       "  'Product Type_Schuhe',\n",
       "  'Product Type_Schwimmshirt',\n",
       "  'Product Type_Shirt',\n",
       "  'Product Type_Shorts',\n",
       "  'Product Type_Slip',\n",
       "  'Product Type_Smartphone-Hülle',\n",
       "  'Product Type_Sonnenbrille',\n",
       "  'Product Type_Stirnband',\n",
       "  'Product Type_Strumpfhose',\n",
       "  'Product Type_Strümpfe',\n",
       "  'Product Type_T-Shirt',\n",
       "  'Product Type_Tasche',\n",
       "  'Product Type_Taschentuch',\n",
       "  'Product Type_Tattoo',\n",
       "  'Product Type_Top',\n",
       "  'Product Type_Trinkflasche',\n",
       "  'Product Type_Tuch',\n",
       "  'Product Type_Tunika',\n",
       "  'Product Type_Unterziehhose',\n",
       "  'Product Type_Verkleidungskostüm',\n",
       "  'Product Type_Waschbeutel',\n",
       "  'Product Type_Weste',\n",
       "  'Product Type_Widerstandsband',\n",
       "  'Product Type_Wimpernapplikator',\n",
       "  'Product Type_Wimpernkleber',\n",
       "  'Product Type_Wimpernzange',\n",
       "  'Product Type_iPad-Etui'],\n",
       " ['Shoe Style_Ankleboots',\n",
       "  'Shoe Style_Ballerinas',\n",
       "  'Shoe Style_Boots',\n",
       "  'Shoe Style_Chelseaboots',\n",
       "  'Shoe Style_Combat Boots',\n",
       "  'Shoe Style_Derbyschuhe',\n",
       "  'Shoe Style_Espadrilles',\n",
       "  'Shoe Style_Flatform',\n",
       "  'Shoe Style_Loafer',\n",
       "  'Shoe Style_Mules',\n",
       "  'Shoe Style_Plateau',\n",
       "  'Shoe Style_Pumps',\n",
       "  'Shoe Style_Sandalen',\n",
       "  'Shoe Style_Sandaletten',\n",
       "  'Shoe Style_Seilsandalen',\n",
       "  'Shoe Style_Slides',\n",
       "  'Shoe Style_Slingbacks',\n",
       "  'Shoe Style_Slip-on',\n",
       "  'Shoe Style_Sneaker',\n",
       "  'Shoe Style_Sneaker-Boots',\n",
       "  'Shoe Style_Zehentrenner'],\n",
       " ['Skin Tone_Dunkler Hautton',\n",
       "  'Skin Tone_Heller bis mittlerer Hautton',\n",
       "  'Skin Tone_Mittlerer bis dunkler Hautton',\n",
       "  'Skin Tone_Sehr heller Hautton'],\n",
       " ['Sleeve Length_3/4-Arm',\n",
       "  'Sleeve Length_Extralange Ärmel',\n",
       "  'Sleeve Length_Kurzarm',\n",
       "  'Sleeve Length_Langarm',\n",
       "  'Sleeve Length_Ärmellos'],\n",
       " ['Sleeve Style_Ballonärmel',\n",
       "  'Sleeve Style_Butterfly-Ärmel',\n",
       "  'Sleeve Style_Dolmanärmel',\n",
       "  'Sleeve Style_Fledermausärmel',\n",
       "  'Sleeve Style_Kappenärmel',\n",
       "  'Sleeve Style_Puffärmel',\n",
       "  'Sleeve Style_Raglanärmel',\n",
       "  'Sleeve Style_Trompetenärmel',\n",
       "  'Sleeve Style_Volantärmel'],\n",
       " ['Style_A-Linie',\n",
       "  'Style_Anorak',\n",
       "  'Style_Anzughose',\n",
       "  'Style_Ausgestellt',\n",
       "  'Style_Babydoll',\n",
       "  'Style_Balconette-BH',\n",
       "  'Style_Ballonbein',\n",
       "  'Style_Bandeau',\n",
       "  'Style_Baseballjacke',\n",
       "  'Style_Bermudashorts',\n",
       "  'Style_Biker',\n",
       "  'Style_Bikini',\n",
       "  'Style_Blazer',\n",
       "  'Style_Blazerkleid',\n",
       "  'Style_Bleistiftkleid',\n",
       "  'Style_Bleistiftrock',\n",
       "  'Style_Blusenkleid',\n",
       "  'Style_Bodycon',\n",
       "  'Style_Bootcut',\n",
       "  'Style_Boxershorts',\n",
       "  'Style_Boyfriend',\n",
       "  'Style_Bralette',\n",
       "  'Style_Brazilian',\n",
       "  'Style_Bügel-BH',\n",
       "  'Style_Bügelloser BH',\n",
       "  'Style_Cape',\n",
       "  'Style_Caprihose',\n",
       "  'Style_Cargo',\n",
       "  'Style_Chino',\n",
       "  'Style_Clamdiggers',\n",
       "  'Style_Cold-Shoulder',\n",
       "  'Style_Crop Top',\n",
       "  'Style_Culottes',\n",
       "  'Style_Cut-out',\n",
       "  'Style_Drapiert',\n",
       "  'Style_Gerades Bein',\n",
       "  'Style_Gesmokt',\n",
       "  'Style_Girlfriend',\n",
       "  'Style_Hemdjacke',\n",
       "  'Style_Henleyshirt',\n",
       "  'Style_High Leg',\n",
       "  'Style_High Waist',\n",
       "  'Style_Hipster',\n",
       "  'Style_Hotpants',\n",
       "  'Style_Jazzpants',\n",
       "  'Style_Jeggings',\n",
       "  'Style_Joggers',\n",
       "  'Style_Kapuzenjacke',\n",
       "  'Style_Kapuzenshirt',\n",
       "  'Style_Keyhole',\n",
       "  'Style_Kleid mit schmalen Trägern',\n",
       "  'Style_Kniestrümpfe',\n",
       "  'Style_Korsagentop',\n",
       "  'Style_Kurzsocken',\n",
       "  'Style_Latzhose',\n",
       "  'Style_Latzkleid',\n",
       "  'Style_Latzshorts',\n",
       "  'Style_Mom',\n",
       "  'Style_Norwegersocken',\n",
       "  'Style_Off-Shoulder',\n",
       "  'Style_One-Shoulder',\n",
       "  'Style_Overknee-Strümpfe',\n",
       "  'Style_Paperbag',\n",
       "  'Style_Parka',\n",
       "  'Style_Peplum',\n",
       "  'Style_Pikeeshirt',\n",
       "  'Style_Pilotenjacke',\n",
       "  'Style_Pinafore',\n",
       "  'Style_Pulloverkleid',\n",
       "  'Style_Pullunder',\n",
       "  'Style_Push-up-BH',\n",
       "  'Style_Radlershorts',\n",
       "  'Style_Ringerrücken',\n",
       "  'Style_Rugbyshirt',\n",
       "  'Style_Rund geschnitten',\n",
       "  'Style_Schlitz',\n",
       "  'Style_Schlupfhose',\n",
       "  'Style_Shortie',\n",
       "  'Style_Skaterkleid',\n",
       "  'Style_Skorts',\n",
       "  'Style_Slacks',\n",
       "  'Style_Slip-Skirt',\n",
       "  'Style_Slipkleid',\n",
       "  'Style_Sneakersocken',\n",
       "  'Style_Sport-BH',\n",
       "  'Style_Steppjacke',\n",
       "  'Style_Super-Push-up-BH',\n",
       "  'Style_Sweathose',\n",
       "  'Style_Sweatshirt',\n",
       "  'Style_Sweatshorts',\n",
       "  'Style_T-Shirt-Kleid',\n",
       "  'Style_Tanktop',\n",
       "  'Style_Tapered',\n",
       "  'Style_Thong',\n",
       "  'Style_Tiefer Rückenausschnitt',\n",
       "  'Style_Trashed',\n",
       "  'Style_Treggings',\n",
       "  'Style_Trenchcoat',\n",
       "  'Style_Triangle-BH',\n",
       "  'Style_Truckerjacke',\n",
       "  'Style_Trägerloser BH',\n",
       "  'Style_Trägerrock',\n",
       "  'Style_Trägertop',\n",
       "  'Style_Tuturock',\n",
       "  'Style_Unwattierter BH',\n",
       "  'Style_Wattierter BH',\n",
       "  'Style_Weicher BH',\n",
       "  'Style_Weit',\n",
       "  'Style_Wickelschnitt',\n",
       "  'Style_Windjacke',\n",
       "  'Style_Überhemd'],\n",
       " ['Waist Height_Hoher Bund',\n",
       "  'Waist Height_Niedriger Bund',\n",
       "  'Waist Height_Normale Bundhöhe',\n",
       "  'Waist Height_Ultra hohe Taille']]"
      ]
     },
     "execution_count": 547,
     "metadata": {},
     "output_type": "execute_result"
    }
   ],
   "source": [
    "filter_value_lists"
   ]
  },
  {
   "cell_type": "code",
   "execution_count": 548,
   "id": "f8dea1b6",
   "metadata": {},
   "outputs": [],
   "source": [
    "# saving the filters file\n",
    "df_filters.to_parquet(hnm_file_format.format('Final_Input_Filters'))"
   ]
  },
  {
   "cell_type": "code",
   "execution_count": 550,
   "id": "71bc62dc",
   "metadata": {},
   "outputs": [],
   "source": [
    "# save the list files as a pickle file\n",
    "with open('data/HnM_FilterValueLists.pkl', 'wb') as file_pi:\n",
    "    pickle.dump(filter_value_lists, file_pi)"
   ]
  }
 ],
 "metadata": {
  "kernelspec": {
   "display_name": "CS25",
   "language": "python",
   "name": "cs25"
  },
  "language_info": {
   "codemirror_mode": {
    "name": "ipython",
    "version": 3
   },
   "file_extension": ".py",
   "mimetype": "text/x-python",
   "name": "python",
   "nbconvert_exporter": "python",
   "pygments_lexer": "ipython3",
   "version": "3.10.2"
  }
 },
 "nbformat": 4,
 "nbformat_minor": 5
}
