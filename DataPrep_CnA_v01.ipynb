{
 "cells": [
  {
   "cell_type": "code",
   "execution_count": 54,
   "id": "d4135e1d",
   "metadata": {},
   "outputs": [],
   "source": [
    "import pandas as pd\n",
    "import numpy as np\n",
    "import math\n",
    "import shutil"
   ]
  },
  {
   "cell_type": "code",
   "execution_count": 55,
   "id": "5dfdbc72",
   "metadata": {},
   "outputs": [],
   "source": [
    "hnm_file_format = 'data/HnM_{}.parquet'\n",
    "hnm_img_file = 'images/HnM_{}{}'\n",
    "cna_file_format = 'data/CnA_{}.parquet'\n",
    "cna_img_file = 'images/CnA_{}{}'\n",
    "cna_img_file_test = 'images_test/CnA_{}{}'"
   ]
  },
  {
   "cell_type": "code",
   "execution_count": 4,
   "id": "56d91783",
   "metadata": {},
   "outputs": [],
   "source": [
    "cats = pd.read_parquet(cna_file_format.format('Categories'))\n",
    "filters = pd.read_parquet(cna_file_format.format('Filters'))\n",
    "items = pd.read_parquet(cna_file_format.format('Items'))\n",
    "attributes = pd.read_parquet(cna_file_format.format('FilterAttributes'))"
   ]
  },
  {
   "cell_type": "code",
   "execution_count": 5,
   "id": "8ac6e011",
   "metadata": {},
   "outputs": [
    {
     "data": {
      "text/html": [
       "<div>\n",
       "<style scoped>\n",
       "    .dataframe tbody tr th:only-of-type {\n",
       "        vertical-align: middle;\n",
       "    }\n",
       "\n",
       "    .dataframe tbody tr th {\n",
       "        vertical-align: top;\n",
       "    }\n",
       "\n",
       "    .dataframe thead th {\n",
       "        text-align: right;\n",
       "    }\n",
       "</style>\n",
       "<table border=\"1\" class=\"dataframe\">\n",
       "  <thead>\n",
       "    <tr style=\"text-align: right;\">\n",
       "      <th></th>\n",
       "      <th>Category</th>\n",
       "      <th>URL</th>\n",
       "      <th>Parent_Category</th>\n",
       "      <th>Top_Category</th>\n",
       "      <th>Skip</th>\n",
       "    </tr>\n",
       "  </thead>\n",
       "  <tbody>\n",
       "    <tr>\n",
       "      <th>2</th>\n",
       "      <td>Kleider &amp; Jumpsuits</td>\n",
       "      <td>https://www.c-and-a.com/de/de/shop/damen-bekle...</td>\n",
       "      <td>NaN</td>\n",
       "      <td>Women</td>\n",
       "      <td>False</td>\n",
       "    </tr>\n",
       "    <tr>\n",
       "      <th>3</th>\n",
       "      <td>Blusen</td>\n",
       "      <td>https://www.c-and-a.com/de/de/shop/damen-bekle...</td>\n",
       "      <td>NaN</td>\n",
       "      <td>Women</td>\n",
       "      <td>False</td>\n",
       "    </tr>\n",
       "    <tr>\n",
       "      <th>4</th>\n",
       "      <td>T-Shirts &amp; Tops</td>\n",
       "      <td>https://www.c-and-a.com/de/de/shop/damen-bekle...</td>\n",
       "      <td>NaN</td>\n",
       "      <td>Women</td>\n",
       "      <td>False</td>\n",
       "    </tr>\n",
       "    <tr>\n",
       "      <th>5</th>\n",
       "      <td>Pullover &amp; Strickjacken</td>\n",
       "      <td>https://www.c-and-a.com/de/de/shop/damen-bekle...</td>\n",
       "      <td>NaN</td>\n",
       "      <td>Women</td>\n",
       "      <td>False</td>\n",
       "    </tr>\n",
       "    <tr>\n",
       "      <th>6</th>\n",
       "      <td>Jeans</td>\n",
       "      <td>https://www.c-and-a.com/de/de/shop/damen-bekle...</td>\n",
       "      <td>NaN</td>\n",
       "      <td>Women</td>\n",
       "      <td>False</td>\n",
       "    </tr>\n",
       "  </tbody>\n",
       "</table>\n",
       "</div>"
      ],
      "text/plain": [
       "                  Category                                                URL  \\\n",
       "2      Kleider & Jumpsuits  https://www.c-and-a.com/de/de/shop/damen-bekle...   \n",
       "3                   Blusen  https://www.c-and-a.com/de/de/shop/damen-bekle...   \n",
       "4          T-Shirts & Tops  https://www.c-and-a.com/de/de/shop/damen-bekle...   \n",
       "5  Pullover & Strickjacken  https://www.c-and-a.com/de/de/shop/damen-bekle...   \n",
       "6                    Jeans  https://www.c-and-a.com/de/de/shop/damen-bekle...   \n",
       "\n",
       "   Parent_Category Top_Category   Skip  \n",
       "2              NaN        Women  False  \n",
       "3              NaN        Women  False  \n",
       "4              NaN        Women  False  \n",
       "5              NaN        Women  False  \n",
       "6              NaN        Women  False  "
      ]
     },
     "execution_count": 5,
     "metadata": {},
     "output_type": "execute_result"
    }
   ],
   "source": [
    "cats.head()"
   ]
  },
  {
   "cell_type": "markdown",
   "id": "42b01377",
   "metadata": {},
   "source": [
    "### Mapping category names between CnA and HnM"
   ]
  },
  {
   "cell_type": "code",
   "execution_count": 7,
   "id": "5b8dac6b",
   "metadata": {},
   "outputs": [],
   "source": [
    "## load the data frame\n",
    "df = pd.read_parquet(hnm_file_format.format('Final_Input_Df'))\n",
    "df['Category_Name'] = df['Category_Name'].astype('category')\n",
    "df['Category_Name_Code'] = df['Category_Name'].cat.codes"
   ]
  },
  {
   "cell_type": "code",
   "execution_count": 11,
   "id": "7846cbc8",
   "metadata": {},
   "outputs": [
    {
     "data": {
      "text/plain": [
       "['Women_Shirts-&-Tops',\n",
       " 'Women_Hemden-&-Blusen',\n",
       " 'Women_Cardigans-&-Pullover',\n",
       " 'Women_Jacken-&-Mäntel',\n",
       " 'Women_Hosen',\n",
       " 'Women_Jeans',\n",
       " 'Women_Shorts',\n",
       " 'Women_Röcke',\n",
       " 'Women_Kleider',\n",
       " 'Women_Schuhe',\n",
       " 'Women_Accessoires',\n",
       " 'Women_Bademode',\n",
       " 'Women_Unterwäsche',\n",
       " 'Women_Nachtwäsche',\n",
       " 'Women_Socken-&-Strumpfhosen',\n",
       " 'Women_Sportbekleidung',\n",
       " 'Women_Beauty',\n",
       " 'Women_Hoodies-&-Sweatshirts',\n",
       " 'Men_Hoodies-&-Sweatshirts',\n",
       " 'Men_Cardigans-&-Pullover',\n",
       " 'Men_Hemden',\n",
       " 'Men_T-Shirts',\n",
       " 'Men_Hosen',\n",
       " 'Men_Schuhe',\n",
       " 'Men_Accessoires',\n",
       " 'Baby_Kleidung',\n",
       " 'Baby_Accessoires',\n",
       " 'Kids_Kleidung',\n",
       " 'Kids_Outdoor',\n",
       " 'Kids_Accessoires',\n",
       " 'Kids_Schuhe']"
      ]
     },
     "execution_count": 11,
     "metadata": {},
     "output_type": "execute_result"
    }
   ],
   "source": [
    "df['Category_Name'].unique().tolist()"
   ]
  },
  {
   "cell_type": "code",
   "execution_count": 20,
   "id": "4b510388",
   "metadata": {},
   "outputs": [],
   "source": [
    "cat_mapping = {\n",
    "    'Women_Kleider & Jumpsuits': 'Women_Kleider',\n",
    "    'Women_Blusen': 'Women_Hemden-&-Blusen',\n",
    "    'Women_T-Shirts & Tops': 'Women_Shirts-&-Tops',\n",
    "    'Women_Pullover & Strickjacken': 'Women_Cardigans-&-Pullover',\n",
    "    'Women_Jeans': 'Women_Jeans',\n",
    "    'Women_Shorts': 'Women_Shorts',\n",
    "    'Women_Hosen': 'Women_Hosen',\n",
    "    'Women_Röcke': 'Women_Röcke',\n",
    "    'Women_Sportbekleidung': 'Women_Sportbekleidung',\n",
    "    'Women_Loungewear': None,\n",
    "    'Women_Jacken': 'Women_Jacken-&-Mäntel',\n",
    "    'Women_Blazer': 'Women_Jacken-&-Mäntel',\n",
    "    'Women_Bademode': 'Women_Bademode',\n",
    "    'Women_Unterwäsche': 'Women_Unterwäsche',\n",
    "    'Women_Nachtwäsche': 'Women_Nachtwäsche',\n",
    "    'Women_Socken & Strumpfhosen': 'Women_Socken-&-Strumpfhosen',\n",
    "    'Women_Basics': None,\n",
    "    'Women_Business-Mode': None,\n",
    "    'Women_Abendmode': None,\n",
    "    'Women_Kaschmir': None,\n",
    "    'Men_T-Shirts & Polos': 'Men_T-Shirts',\n",
    "    'Men_Hemden': 'Men_Hemden',\n",
    "    'Men_Sweatshirts & Sweatjacken': 'Men_Hoodies-&-Sweatshirts',\n",
    "    'Men_Pullover & Strickjacken': 'Men_Cardigans-&-Pullover',\n",
    "    'Men_Hosen': 'Men_Hosen',\n",
    "    'Men_Jeans': 'Men_Hosen',\n",
    "    'Men_Shorts': None,\n",
    "    'Men_Anzüge': None,\n",
    "    'Men_Jacken': None,\n",
    "    'Men_Sportbekleidung': None,\n",
    "    'Men_Bademode': None,\n",
    "    'Men_Pyjamas': None,\n",
    "    'Men_Unterwäsche': None,\n",
    "    'Men_Socken': None,\n",
    "    'Men_Basics': None,\n",
    "    'Baby_Outfits': 'Baby_Kleidung',\n",
    "    'Baby_Oberteile': None,\n",
    "    'Baby_Unterteile': None,\n",
    "    'Baby_Kleider & Röcke': 'Baby_Kleidung',\n",
    "    'Baby_Multipacks': None,\n",
    "    'Baby_Bademode': None,\n",
    "    'Baby_Nachtwäsche': None,\n",
    "    'Baby_Socken & Strumpfhosen': None,\n",
    "    'Baby_Accessoires': 'Baby_Accessoires',\n",
    "    'Baby_Schuhe': None,\n",
    "    'Baby_Jacken': None,\n",
    "    'Baby_Schneeanzüge': None,\n",
    "    'Kids-Girls_Multipacks': None,\n",
    "    'Kids-Girls_T-Shirts & Blusen': None,\n",
    "    'Kids-Girls_Kleider & Röcke': 'Kids_Kleidung',\n",
    "    'Kids-Girls_Shorts': None,\n",
    "    'Kids-Girls_Jeans': None,\n",
    "    'Kids-Girls_Hosen': None,\n",
    "    'Kids-Girls_Wäsche': None,\n",
    "    'Kids-Girls_Sets': None,\n",
    "    'Kids-Girls_Bademode': None,\n",
    "    'Kids-Girls_Socken': None,\n",
    "    'Kids-Girls_Pullover & Sweatshirts': None,\n",
    "    'Kids-Girls_Jacken': None,\n",
    "    'Kids-Girls_Accessoires': 'Kids_Accessoires',\n",
    "    'Kids-Girls_Skibekleidung': None,\n",
    "    'Kids-Girls_Basics': None,\n",
    "    'Kids-Boys_Multipacks': None,\n",
    "    'Kids-Boys_T-Shirts & Hemden': None,\n",
    "    'Kids-Boys_Shorts': None,\n",
    "    'Kids-Boys_Jeans': None,\n",
    "    'Kids-Boys_Hosen': None,\n",
    "    'Kids-Boys_Wäsche': None,\n",
    "    'Kids-Boys_Sets': None,\n",
    "    'Kids-Boys_Bademode': None,\n",
    "    'Kids-Boys_Pullover & Sweatshirts': None,\n",
    "    'Kids-Boys_Socken': None,\n",
    "    'Kids-Boys_Jacken': None,\n",
    "    'Kids-Boys_Accessoires': 'Kids_Accessoires',\n",
    "    'Kids-Boys_Skibekleidung': None,\n",
    "    'Kids-Boys_Basics': None\n",
    "}"
   ]
  },
  {
   "cell_type": "code",
   "execution_count": 16,
   "id": "de4c094c",
   "metadata": {},
   "outputs": [],
   "source": [
    "cats['Cat_Name'] = cats.apply(lambda row: f\"{row['Top_Category']}_{row['Category']}\", axis=1)"
   ]
  },
  {
   "cell_type": "code",
   "execution_count": 22,
   "id": "0959a48e",
   "metadata": {},
   "outputs": [],
   "source": [
    "cats['Cat_Name_Mapped'] = cats.apply(lambda row: cat_mapping.get(row['Cat_Name'], None), axis=1)"
   ]
  },
  {
   "cell_type": "code",
   "execution_count": 29,
   "id": "d2509ff9",
   "metadata": {},
   "outputs": [
    {
     "data": {
      "text/plain": [
       "Category             0\n",
       "URL                  0\n",
       "Parent_Category     76\n",
       "Top_Category         0\n",
       "Skip                 0\n",
       "Cat_Name             0\n",
       "Cat_Name_Mapped    467\n",
       "dtype: int64"
      ]
     },
     "execution_count": 29,
     "metadata": {},
     "output_type": "execute_result"
    }
   ],
   "source": [
    "cats.isna().sum()"
   ]
  },
  {
   "cell_type": "code",
   "execution_count": 37,
   "id": "9dcc5704",
   "metadata": {},
   "outputs": [
    {
     "name": "stderr",
     "output_type": "stream",
     "text": [
      "C:\\Users\\Sahil\\AppData\\Local\\Temp\\ipykernel_3912\\2535706054.py:1: UserWarning: Boolean Series key will be reindexed to match DataFrame index.\n",
      "  parent_cats_mapped = cats[cats['Parent_Category'].isna()][~cats['Cat_Name_Mapped'].isna()].index.tolist()\n"
     ]
    }
   ],
   "source": [
    "parent_cats_mapped = cats[cats['Parent_Category'].isna()][~cats['Cat_Name_Mapped'].isna()].index.tolist()"
   ]
  },
  {
   "cell_type": "markdown",
   "id": "7e066698",
   "metadata": {},
   "source": [
    "### Getting some items"
   ]
  },
  {
   "cell_type": "code",
   "execution_count": 28,
   "id": "531bc415",
   "metadata": {},
   "outputs": [],
   "source": [
    "# add parent category into the items dataframe\n",
    "items = items.merge(cats[['Parent_Category', 'Cat_Name_Mapped']], how='left', left_on='Category', right_index=True)"
   ]
  },
  {
   "cell_type": "code",
   "execution_count": 51,
   "id": "0d9bf068",
   "metadata": {},
   "outputs": [
    {
     "data": {
      "text/plain": [
       "56"
      ]
     },
     "execution_count": 51,
     "metadata": {},
     "output_type": "execute_result"
    }
   ],
   "source": [
    "items[items['Parent_Category'].isin(parent_cats_mapped)].groupby('Parent_Category')['Code'].count().min()"
   ]
  },
  {
   "cell_type": "code",
   "execution_count": 52,
   "id": "cf2ff69d",
   "metadata": {},
   "outputs": [],
   "source": [
    "sub_items = items[items['Parent_Category'].isin(parent_cats_mapped)].groupby('Parent_Category').sample(50)"
   ]
  },
  {
   "cell_type": "code",
   "execution_count": 53,
   "id": "55e47272",
   "metadata": {},
   "outputs": [
    {
     "data": {
      "text/plain": [
       "(1350, 7)"
      ]
     },
     "execution_count": 53,
     "metadata": {},
     "output_type": "execute_result"
    }
   ],
   "source": [
    "sub_items.shape"
   ]
  },
  {
   "cell_type": "code",
   "execution_count": 63,
   "id": "7aa8baaf",
   "metadata": {},
   "outputs": [],
   "source": [
    "# sub_items = sub_items.merge(cats['Cat_Name_Mapped'], how='left', left_on='Parent_Category', right_index=True)"
   ]
  },
  {
   "cell_type": "code",
   "execution_count": 68,
   "id": "6766b541",
   "metadata": {},
   "outputs": [
    {
     "data": {
      "text/html": [
       "<div>\n",
       "<style scoped>\n",
       "    .dataframe tbody tr th:only-of-type {\n",
       "        vertical-align: middle;\n",
       "    }\n",
       "\n",
       "    .dataframe tbody tr th {\n",
       "        vertical-align: top;\n",
       "    }\n",
       "\n",
       "    .dataframe thead th {\n",
       "        text-align: right;\n",
       "    }\n",
       "</style>\n",
       "<table border=\"1\" class=\"dataframe\">\n",
       "  <thead>\n",
       "    <tr style=\"text-align: right;\">\n",
       "      <th></th>\n",
       "      <th>Code</th>\n",
       "      <th>Name</th>\n",
       "      <th>URL</th>\n",
       "      <th>Img_URL</th>\n",
       "      <th>Img_Ext</th>\n",
       "      <th>Category</th>\n",
       "      <th>Parent_Category</th>\n",
       "      <th>Cat_Name_Mapped</th>\n",
       "    </tr>\n",
       "  </thead>\n",
       "  <tbody>\n",
       "    <tr>\n",
       "      <th>416</th>\n",
       "      <td>2158240_1</td>\n",
       "      <td>CLOCKHOUSE - Kleid - kariert</td>\n",
       "      <td>https://www.c-and-a.com/de/de/shop/clockhouse-...</td>\n",
       "      <td>https://www.c-and-a.com/productimages/b_rgb:EB...</td>\n",
       "      <td>.jpg</td>\n",
       "      <td>75.0</td>\n",
       "      <td>2.0</td>\n",
       "      <td>Women_Kleider</td>\n",
       "    </tr>\n",
       "    <tr>\n",
       "      <th>328</th>\n",
       "      <td>2173987_2</td>\n",
       "      <td>CLOCKHOUSE - Kleid - geblümt</td>\n",
       "      <td>https://www.c-and-a.com/de/de/shop/clockhouse-...</td>\n",
       "      <td>https://www.c-and-a.com/productimages/b_rgb:EB...</td>\n",
       "      <td>.jpg</td>\n",
       "      <td>75.0</td>\n",
       "      <td>2.0</td>\n",
       "      <td>Women_Kleider</td>\n",
       "    </tr>\n",
       "    <tr>\n",
       "      <th>116</th>\n",
       "      <td>2165021_2</td>\n",
       "      <td>Strickkleid</td>\n",
       "      <td>https://www.c-and-a.com/de/de/shop/strickkleid...</td>\n",
       "      <td>https://www.c-and-a.com/productimages/b_rgb:EB...</td>\n",
       "      <td>.jpg</td>\n",
       "      <td>73.0</td>\n",
       "      <td>2.0</td>\n",
       "      <td>Women_Kleider</td>\n",
       "    </tr>\n",
       "    <tr>\n",
       "      <th>658</th>\n",
       "      <td>2155417_1</td>\n",
       "      <td>Kleid</td>\n",
       "      <td>https://www.c-and-a.com/de/de/shop/kleid-21554...</td>\n",
       "      <td>https://www.c-and-a.com/productimages/b_rgb:EB...</td>\n",
       "      <td>.jpg</td>\n",
       "      <td>81.0</td>\n",
       "      <td>2.0</td>\n",
       "      <td>Women_Kleider</td>\n",
       "    </tr>\n",
       "    <tr>\n",
       "      <th>164</th>\n",
       "      <td>2130669_1</td>\n",
       "      <td>Strickkleid</td>\n",
       "      <td>https://www.c-and-a.com/de/de/shop/strickkleid...</td>\n",
       "      <td>https://www.c-and-a.com/productimages/b_rgb:EB...</td>\n",
       "      <td>.jpg</td>\n",
       "      <td>73.0</td>\n",
       "      <td>2.0</td>\n",
       "      <td>Women_Kleider</td>\n",
       "    </tr>\n",
       "    <tr>\n",
       "      <th>...</th>\n",
       "      <td>...</td>\n",
       "      <td>...</td>\n",
       "      <td>...</td>\n",
       "      <td>...</td>\n",
       "      <td>...</td>\n",
       "      <td>...</td>\n",
       "      <td>...</td>\n",
       "      <td>...</td>\n",
       "    </tr>\n",
       "    <tr>\n",
       "      <th>41668</th>\n",
       "      <td>2161629_1</td>\n",
       "      <td>Sonnenbrille</td>\n",
       "      <td>https://www.c-and-a.com/de/de/shop/sonnenbrill...</td>\n",
       "      <td>https://www.c-and-a.com/productimages/b_rgb:EB...</td>\n",
       "      <td>.jpg</td>\n",
       "      <td>1006.0</td>\n",
       "      <td>882.0</td>\n",
       "      <td>Kids_Accessoires</td>\n",
       "    </tr>\n",
       "    <tr>\n",
       "      <th>41675</th>\n",
       "      <td>2182663_1</td>\n",
       "      <td>Slazenger - Sneaker</td>\n",
       "      <td>https://www.c-and-a.com/de/de/shop/slazenger-s...</td>\n",
       "      <td>https://www.c-and-a.com/productimages/b_rgb:EB...</td>\n",
       "      <td>.jpg</td>\n",
       "      <td>1009.0</td>\n",
       "      <td>882.0</td>\n",
       "      <td>Kids_Accessoires</td>\n",
       "    </tr>\n",
       "    <tr>\n",
       "      <th>41650</th>\n",
       "      <td>2149725_1</td>\n",
       "      <td>Paw Patrol - Set - Mütze und Handschuhe - 2 te...</td>\n",
       "      <td>https://www.c-and-a.com/de/de/shop/paw-patrol-...</td>\n",
       "      <td>https://www.c-and-a.com/productimages/b_rgb:EB...</td>\n",
       "      <td>.jpg</td>\n",
       "      <td>1001.0</td>\n",
       "      <td>882.0</td>\n",
       "      <td>Kids_Accessoires</td>\n",
       "    </tr>\n",
       "    <tr>\n",
       "      <th>41646</th>\n",
       "      <td>2110896_1</td>\n",
       "      <td>Paw Patrol - Mütze</td>\n",
       "      <td>https://www.c-and-a.com/de/de/shop/paw-patrol-...</td>\n",
       "      <td>https://www.c-and-a.com/productimages/b_rgb:EB...</td>\n",
       "      <td>.jpg</td>\n",
       "      <td>1000.0</td>\n",
       "      <td>882.0</td>\n",
       "      <td>Kids_Accessoires</td>\n",
       "    </tr>\n",
       "    <tr>\n",
       "      <th>41630</th>\n",
       "      <td>2157529_1</td>\n",
       "      <td>Pokémon - Baseballcap</td>\n",
       "      <td>https://www.c-and-a.com/de/de/shop/pokemon-bas...</td>\n",
       "      <td>https://www.c-and-a.com/productimages/b_rgb:EB...</td>\n",
       "      <td>.jpg</td>\n",
       "      <td>1000.0</td>\n",
       "      <td>882.0</td>\n",
       "      <td>Kids_Accessoires</td>\n",
       "    </tr>\n",
       "  </tbody>\n",
       "</table>\n",
       "<p>1350 rows × 8 columns</p>\n",
       "</div>"
      ],
      "text/plain": [
       "            Code                                               Name  \\\n",
       "416    2158240_1                       CLOCKHOUSE - Kleid - kariert   \n",
       "328    2173987_2                       CLOCKHOUSE - Kleid - geblümt   \n",
       "116    2165021_2                                        Strickkleid   \n",
       "658    2155417_1                                              Kleid   \n",
       "164    2130669_1                                        Strickkleid   \n",
       "...          ...                                                ...   \n",
       "41668  2161629_1                                       Sonnenbrille   \n",
       "41675  2182663_1                                Slazenger - Sneaker   \n",
       "41650  2149725_1  Paw Patrol - Set - Mütze und Handschuhe - 2 te...   \n",
       "41646  2110896_1                                 Paw Patrol - Mütze   \n",
       "41630  2157529_1                              Pokémon - Baseballcap   \n",
       "\n",
       "                                                     URL  \\\n",
       "416    https://www.c-and-a.com/de/de/shop/clockhouse-...   \n",
       "328    https://www.c-and-a.com/de/de/shop/clockhouse-...   \n",
       "116    https://www.c-and-a.com/de/de/shop/strickkleid...   \n",
       "658    https://www.c-and-a.com/de/de/shop/kleid-21554...   \n",
       "164    https://www.c-and-a.com/de/de/shop/strickkleid...   \n",
       "...                                                  ...   \n",
       "41668  https://www.c-and-a.com/de/de/shop/sonnenbrill...   \n",
       "41675  https://www.c-and-a.com/de/de/shop/slazenger-s...   \n",
       "41650  https://www.c-and-a.com/de/de/shop/paw-patrol-...   \n",
       "41646  https://www.c-and-a.com/de/de/shop/paw-patrol-...   \n",
       "41630  https://www.c-and-a.com/de/de/shop/pokemon-bas...   \n",
       "\n",
       "                                                 Img_URL Img_Ext  Category  \\\n",
       "416    https://www.c-and-a.com/productimages/b_rgb:EB...    .jpg      75.0   \n",
       "328    https://www.c-and-a.com/productimages/b_rgb:EB...    .jpg      75.0   \n",
       "116    https://www.c-and-a.com/productimages/b_rgb:EB...    .jpg      73.0   \n",
       "658    https://www.c-and-a.com/productimages/b_rgb:EB...    .jpg      81.0   \n",
       "164    https://www.c-and-a.com/productimages/b_rgb:EB...    .jpg      73.0   \n",
       "...                                                  ...     ...       ...   \n",
       "41668  https://www.c-and-a.com/productimages/b_rgb:EB...    .jpg    1006.0   \n",
       "41675  https://www.c-and-a.com/productimages/b_rgb:EB...    .jpg    1009.0   \n",
       "41650  https://www.c-and-a.com/productimages/b_rgb:EB...    .jpg    1001.0   \n",
       "41646  https://www.c-and-a.com/productimages/b_rgb:EB...    .jpg    1000.0   \n",
       "41630  https://www.c-and-a.com/productimages/b_rgb:EB...    .jpg    1000.0   \n",
       "\n",
       "       Parent_Category   Cat_Name_Mapped  \n",
       "416                2.0     Women_Kleider  \n",
       "328                2.0     Women_Kleider  \n",
       "116                2.0     Women_Kleider  \n",
       "658                2.0     Women_Kleider  \n",
       "164                2.0     Women_Kleider  \n",
       "...                ...               ...  \n",
       "41668            882.0  Kids_Accessoires  \n",
       "41675            882.0  Kids_Accessoires  \n",
       "41650            882.0  Kids_Accessoires  \n",
       "41646            882.0  Kids_Accessoires  \n",
       "41630            882.0  Kids_Accessoires  \n",
       "\n",
       "[1350 rows x 8 columns]"
      ]
     },
     "execution_count": 68,
     "metadata": {},
     "output_type": "execute_result"
    }
   ],
   "source": [
    "sub_items"
   ]
  },
  {
   "cell_type": "markdown",
   "id": "154c6f69",
   "metadata": {},
   "source": [
    "### Copy these images into a separate folder and export the dataframe as a test df"
   ]
  },
  {
   "cell_type": "code",
   "execution_count": 58,
   "id": "83e13382",
   "metadata": {},
   "outputs": [
    {
     "name": "stdout",
     "output_type": "stream",
     "text": [
      "Completed 100\n",
      "Completed 200\n",
      "Completed 300\n",
      "Completed 400\n",
      "Completed 500\n",
      "Completed 600\n",
      "Completed 700\n",
      "Completed 800\n",
      "Completed 900\n",
      "Completed 1000\n",
      "Completed 1100\n",
      "Completed 1200\n",
      "Completed 1300\n"
     ]
    }
   ],
   "source": [
    "i = 0\n",
    "for idx, row in sub_items.iterrows():\n",
    "    src = cna_img_file.format(row['Code'], row['Img_Ext'])\n",
    "    dst = cna_img_file_test.format(row['Code'], row['Img_Ext'])\n",
    "    shutil.copy(src, dst)\n",
    "    i += 1\n",
    "    if i % 100 == 0:\n",
    "        print(f\"Completed {i}\")"
   ]
  },
  {
   "cell_type": "code",
   "execution_count": 70,
   "id": "82e86dfc",
   "metadata": {},
   "outputs": [],
   "source": [
    "sub_items.to_parquet(cna_file_format.format('Final_Df_Test'))"
   ]
  }
 ],
 "metadata": {
  "kernelspec": {
   "display_name": "CS25",
   "language": "python",
   "name": "cs25"
  },
  "language_info": {
   "codemirror_mode": {
    "name": "ipython",
    "version": 3
   },
   "file_extension": ".py",
   "mimetype": "text/x-python",
   "name": "python",
   "nbconvert_exporter": "python",
   "pygments_lexer": "ipython3",
   "version": "3.10.2"
  }
 },
 "nbformat": 4,
 "nbformat_minor": 5
}
